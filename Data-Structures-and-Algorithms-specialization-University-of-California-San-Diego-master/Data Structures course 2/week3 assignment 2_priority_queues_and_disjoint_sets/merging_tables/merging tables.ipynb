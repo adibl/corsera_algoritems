{
 "cells": [
  {
   "cell_type": "markdown",
   "metadata": {},
   "source": [
    "# starter solution"
   ]
  },
  {
   "cell_type": "code",
   "execution_count": 3,
   "metadata": {},
   "outputs": [
    {
     "name": "stdout",
     "output_type": "stream",
     "text": [
      "5 5\n",
      "1 1 1 1 1\n",
      "3 5\n",
      "1\n",
      "2 4\n",
      "1\n",
      "1 4 \n",
      "1\n",
      "5 4 \n",
      "1\n",
      "5 3\n",
      "1\n"
     ]
    }
   ],
   "source": [
    "# python3\n",
    "\n",
    "import sys\n",
    "\n",
    "# n, m = map(int, sys.stdin.readline().split())\n",
    "# lines = list(map(int, sys.stdin.readline().split()))\n",
    "n, m = map(int, input().split())\n",
    "lines = list(map(int, input().split()))\n",
    "rank = [1] * n\n",
    "parent = list(range(0, n))\n",
    "ans = max(lines)\n",
    "\n",
    "def getParent(table):\n",
    "    # find parent and compress path\n",
    "    return parent[table]\n",
    "\n",
    "def merge(destination, source):\n",
    "    realDestination, realSource = getParent(destination), getParent(source)\n",
    "\n",
    "    if realDestination == realSource:\n",
    "        return False\n",
    "\n",
    "    # merge two components\n",
    "    # use union by rank heuristic \n",
    "    # update ans with the new maximum table size\n",
    "    \n",
    "    return True\n",
    "\n",
    "for i in range(m):\n",
    "#     destination, source = map(int, sys.stdin.readline().split())\n",
    "    destination, source = map(int, input().split())\n",
    "    merge(destination - 1, source - 1)\n",
    "    print(ans)\n",
    "    \n"
   ]
  },
  {
   "cell_type": "markdown",
   "metadata": {},
   "source": [
    "# solution"
   ]
  },
  {
   "cell_type": "code",
   "execution_count": 10,
   "metadata": {},
   "outputs": [
    {
     "name": "stdout",
     "output_type": "stream",
     "text": [
      "5 5\n",
      "1 1 1 1 1\n",
      "3 5\n",
      "2\n",
      "2 4\n",
      "2\n",
      "1 4\n",
      "3\n",
      "5 4\n",
      "5\n",
      "5 3\n",
      "5\n"
     ]
    }
   ],
   "source": [
    "# python3\n",
    "\n",
    "import sys\n",
    "\n",
    "\n",
    "class DisjointSet(object):\n",
    "        def __init__(self,n,lines):\n",
    "            self.n = n\n",
    "            self.lines = [0] + lines\n",
    "            self.rank = [0] * (n + 1)\n",
    "            self.parent = list(range(0, n + 1))\n",
    "            self.max = max(self.lines)\n",
    "\n",
    "        def get_parent(self, x):\n",
    "            \"\"\"Finds a set id (root of the tree) for element x and compresses path.\"\"\"\n",
    "            parents_to_update = []\n",
    "\n",
    "            # Find root.\n",
    "            root = x\n",
    "            while root != self.parent[root]:\n",
    "                parents_to_update.append(self.parent[root])\n",
    "                root = self.parent[root]\n",
    "\n",
    "            # Compress path.\n",
    "            for i in parents_to_update:\n",
    "                self.parent[i] = root\n",
    "\n",
    "            return root\n",
    "\n",
    "        def merge(self, dest, src):\n",
    "            \"\"\"Unions tables. During union updates rank's(tree's height) array.\"\"\"\n",
    "            src_root = self.get_parent(src)\n",
    "            dest_root = self.get_parent(dest)\n",
    "\n",
    "            # Means the sets have been merged already.\n",
    "            if src_root == dest_root:\n",
    "                return\n",
    "\n",
    "            if self.rank[src_root] >= self.rank[dest_root]:\n",
    "                self.parent[src_root] = dest_root\n",
    "            else:\n",
    "                self.parent[dest_root] = src_root\n",
    "                if self.rank[src_root] == self.rank[dest_root]:\n",
    "                    self.rank[src_root] += 1\n",
    "\n",
    "            self.lines[dest_root] += self.lines[src_root]\n",
    "            self.lines[src_root] = 0\n",
    "\n",
    "            if self.max < self.lines[dest_root]:\n",
    "                self.max = self.lines[dest_root]\n",
    "\n",
    "        def get_max_lines(self):\n",
    "            return self.max\n",
    "\n",
    "\n",
    "if __name__ == \"__main__\":\n",
    "#     n, m = map(int, sys.stdin.readline().split())\n",
    "#     lines = list(map(int, sys.stdin.readline().split()))\n",
    "    n, m = map(int, input().split())\n",
    "    lines = list(map(int, input().split()))\n",
    "    ds = DisjointSet(n, lines)\n",
    "    for i in range(m):\n",
    "#         destination, source = map(int, sys.stdin.readline().split())\n",
    "        destination, source = map(int, input().split())\n",
    "        ds.merge(destination, source)\n",
    "        print(ds.get_max_lines())"
   ]
  },
  {
   "cell_type": "code",
   "execution_count": null,
   "metadata": {},
   "outputs": [],
   "source": []
  }
 ],
 "metadata": {
  "kernelspec": {
   "display_name": "Python 3",
   "language": "python",
   "name": "python3"
  },
  "language_info": {
   "codemirror_mode": {
    "name": "ipython",
    "version": 3
   },
   "file_extension": ".py",
   "mimetype": "text/x-python",
   "name": "python",
   "nbconvert_exporter": "python",
   "pygments_lexer": "ipython3",
   "version": "3.7.3"
  }
 },
 "nbformat": 4,
 "nbformat_minor": 2
}
