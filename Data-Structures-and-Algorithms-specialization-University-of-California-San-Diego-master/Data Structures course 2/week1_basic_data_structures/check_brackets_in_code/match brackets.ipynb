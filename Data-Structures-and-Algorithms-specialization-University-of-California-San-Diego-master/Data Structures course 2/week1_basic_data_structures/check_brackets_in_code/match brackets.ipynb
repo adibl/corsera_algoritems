{
 "cells": [
  {
   "cell_type": "code",
   "execution_count": 45,
   "metadata": {},
   "outputs": [
    {
     "name": "stdout",
     "output_type": "stream",
     "text": [
      "foo(bar[i);\n",
      "10\n"
     ]
    }
   ],
   "source": [
    "# python3\n",
    "\n",
    "from collections import namedtuple\n",
    "\n",
    "Bracket = namedtuple(\"Bracket\", [\"char\", \"position\"])\n",
    "\n",
    "\n",
    "def are_matching(left, right):\n",
    "    return (left + right) in [\"()\", \"[]\", \"{}\"]\n",
    "\n",
    "\n",
    "def find_mismatch(text):\n",
    "    opening_brackets_stack = []\n",
    "    for i, next in enumerate(text):\n",
    "        if next in \"([{\":\n",
    "            opening_brackets_stack.append(next)\n",
    "#             print(opening_brackets_stack,0)\n",
    "            recent = i\n",
    "            # Process opening bracket, write your code here\n",
    "#             pass\n",
    "\n",
    "        if next in \")]}\":\n",
    "#             print('are_matching(opening_brackets_stack[-1],next)',are_matching(opening_brackets_stack[-1],next))\n",
    "            \n",
    "            # Process closing bracket, write your code here\n",
    "            if len(opening_brackets_stack)==0:\n",
    "#                 print(opening_brackets_stack,1)\n",
    "                return i+1\n",
    "            elif are_matching(opening_brackets_stack[-1],next):\n",
    "#                 print(opening_brackets_stack,2)\n",
    "                opening_brackets_stack.pop()\n",
    "                continue\n",
    "            else:\n",
    "#                 print(opening_brackets_stack,3)\n",
    "                return i+1\n",
    "#             pass\n",
    "    if len(opening_brackets_stack)!=0:\n",
    "        return recent+1\n",
    "    return 'Success'\n",
    "\n",
    "def main():\n",
    "    text = input()\n",
    "    mismatch = find_mismatch(text)\n",
    "    # Printing answer, write your code here\n",
    "    print(mismatch)\n",
    "\n",
    "if __name__ == \"__main__\":\n",
    "    main()\n"
   ]
  },
  {
   "cell_type": "code",
   "execution_count": 28,
   "metadata": {},
   "outputs": [
    {
     "data": {
      "text/plain": [
       "True"
      ]
     },
     "execution_count": 28,
     "metadata": {},
     "output_type": "execute_result"
    }
   ],
   "source": [
    "are_matching('{','}')"
   ]
  },
  {
   "cell_type": "code",
   "execution_count": 11,
   "metadata": {},
   "outputs": [],
   "source": [
    "s = []\n",
    "s.append('new')\n",
    "s.append('old')"
   ]
  },
  {
   "cell_type": "code",
   "execution_count": 21,
   "metadata": {},
   "outputs": [
    {
     "name": "stdout",
     "output_type": "stream",
     "text": [
      "['new']\n"
     ]
    },
    {
     "data": {
      "text/plain": [
       "[]"
      ]
     },
     "execution_count": 21,
     "metadata": {},
     "output_type": "execute_result"
    }
   ],
   "source": [
    "print(s)\n",
    "s.pop()\n",
    "s"
   ]
  },
  {
   "cell_type": "code",
   "execution_count": 71,
   "metadata": {},
   "outputs": [
    {
     "name": "stdout",
     "output_type": "stream",
     "text": [
      "[](()\n",
      "3\n"
     ]
    }
   ],
   "source": [
    "# python3\n",
    "\n",
    "from collections import namedtuple\n",
    "\n",
    "Bracket = namedtuple(\"Bracket\", [\"char\", \"position\"])\n",
    "\n",
    "\n",
    "def are_matching(left, right):\n",
    "    return (left + right) in [\"()\", \"[]\", \"{}\"]\n",
    "\n",
    "\n",
    "def find_mismatch(text):\n",
    "    opening_brackets_stack = []\n",
    "    recent,last = 0,0\n",
    "    for i, next in enumerate(text):\n",
    "        if next in \"([{\":\n",
    "            opening_brackets_stack.append(next)\n",
    "#             print(opening_brackets_stack,0)\n",
    "#             recent = 0\n",
    "#             print(opening_brackets_stack,'\\n')\n",
    "            if (last != next):\n",
    "#                 print(recent)\n",
    "                recent = i\n",
    "            last = next\n",
    "#             if opening_brackets_stack[-1] == next:\n",
    "#                 continue\n",
    "#             else:\n",
    "#                 recent = i\n",
    "\n",
    "        if next in \")]}\":\n",
    "#             print('are_matching(opening_brackets_stack[-1],next)',are_matching(opening_brackets_stack[-1],next))\n",
    "            \n",
    "            # Process closing bracket, write your code here\n",
    "            if len(opening_brackets_stack)==0:\n",
    "#                 print(opening_brackets_stack,1)\n",
    "                return i+1\n",
    "            elif are_matching(opening_brackets_stack[-1],next):\n",
    "#                 print(opening_brackets_stack,2)\n",
    "                opening_brackets_stack.pop()\n",
    "                continue\n",
    "            else:\n",
    "#                 print(opening_brackets_stack,3)\n",
    "                return i+1\n",
    "#             pass\n",
    "    if len(opening_brackets_stack)!=0:\n",
    "        return recent+1\n",
    "    return 'Success'\n",
    "\n",
    "def main():\n",
    "    text = input()\n",
    "    mismatch = find_mismatch(text)\n",
    "    # Printing answer, write your code here\n",
    "    print(mismatch)\n",
    "\n",
    "if __name__ == \"__main__\":\n",
    "    main()\n"
   ]
  },
  {
   "cell_type": "code",
   "execution_count": 72,
   "metadata": {},
   "outputs": [
    {
     "name": "stdout",
     "output_type": "stream",
     "text": [
      "Success\n"
     ]
    }
   ],
   "source": [
    "# python3\n",
    "\n",
    "import sys\n",
    "\n",
    "\n",
    "class Bracket:\n",
    "#     It stores a bracket type which is one of [, (, { and position of the bracket\n",
    "\n",
    "    def __init__(self, bracket_type, position):\n",
    "        self.bracket_type = bracket_type\n",
    "        self.position = position\n",
    "\n",
    "    def match(self, char):\n",
    "        \"\"\"Matches given character with the bracket's type.\"\"\"\n",
    "\n",
    "        if self.bracket_type == '[' and char == ']':\n",
    "            return True\n",
    "        if self.bracket_type == '{' and char == '}':\n",
    "            return True\n",
    "        if self.bracket_type == '(' and char == ')':\n",
    "            return True\n",
    "        return False\n",
    "\n",
    "\n",
    "def checker(text):\n",
    "    stack = []\n",
    "    for index, char in enumerate(text, start=1):\n",
    "\n",
    "        if char in (\"[\", \"(\", \"{\"):\n",
    "            stack.append(Bracket(char, index))\n",
    "\n",
    "        elif char in (\"]\", \")\", \"}\"):\n",
    "            if not stack:\n",
    "                return index\n",
    "\n",
    "            top = stack.pop()\n",
    "            if not top.match(char):\n",
    "                return index\n",
    "    if stack:\n",
    "        top = stack.pop()\n",
    "        return top.position\n",
    "\n",
    "    return \"Success\"\n",
    "\n",
    "\n",
    "if __name__ == \"__main__\":\n",
    "    text = sys.stdin.read().strip(\"\\n\")\n",
    "    print(checker(text))"
   ]
  }
 ],
 "metadata": {
  "kernelspec": {
   "display_name": "Python 3",
   "language": "python",
   "name": "python3"
  },
  "language_info": {
   "codemirror_mode": {
    "name": "ipython",
    "version": 3
   },
   "file_extension": ".py",
   "mimetype": "text/x-python",
   "name": "python",
   "nbconvert_exporter": "python",
   "pygments_lexer": "ipython3",
   "version": "3.7.3"
  }
 },
 "nbformat": 4,
 "nbformat_minor": 2
}
