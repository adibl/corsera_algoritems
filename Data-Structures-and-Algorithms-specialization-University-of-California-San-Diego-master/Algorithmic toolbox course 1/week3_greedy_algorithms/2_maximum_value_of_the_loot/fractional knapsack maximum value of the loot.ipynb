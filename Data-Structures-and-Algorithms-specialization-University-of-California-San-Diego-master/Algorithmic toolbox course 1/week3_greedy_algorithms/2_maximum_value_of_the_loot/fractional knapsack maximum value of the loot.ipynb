{
 "cells": [
  {
   "cell_type": "code",
   "execution_count": 3,
   "metadata": {
    "scrolled": true
   },
   "outputs": [],
   "source": [
    "dic = dict(zip(list(range(10)),list(range(10,19))))"
   ]
  },
  {
   "cell_type": "code",
   "execution_count": 4,
   "metadata": {},
   "outputs": [
    {
     "data": {
      "text/plain": [
       "{0: 10, 1: 11, 2: 12, 3: 13, 4: 14, 5: 15, 6: 16, 7: 17, 8: 18}"
      ]
     },
     "execution_count": 4,
     "metadata": {},
     "output_type": "execute_result"
    }
   ],
   "source": [
    "dic"
   ]
  },
  {
   "cell_type": "code",
   "execution_count": 5,
   "metadata": {
    "scrolled": true
   },
   "outputs": [
    {
     "data": {
      "text/plain": [
       "list"
      ]
     },
     "execution_count": 5,
     "metadata": {},
     "output_type": "execute_result"
    }
   ],
   "source": [
    " type(sorted(dic.items(), key = lambda x: x[1], reverse=True))"
   ]
  },
  {
   "cell_type": "code",
   "execution_count": 11,
   "metadata": {
    "scrolled": true
   },
   "outputs": [
    {
     "data": {
      "text/plain": [
       "array([0.06060606, 0.12121212, 0.15151515])"
      ]
     },
     "execution_count": 11,
     "metadata": {},
     "output_type": "execute_result"
    }
   ],
   "source": [
    "np.array((2,4,5))/33"
   ]
  },
  {
   "cell_type": "code",
   "execution_count": 1,
   "metadata": {},
   "outputs": [],
   "source": [
    "import numpy as np"
   ]
  },
  {
   "cell_type": "markdown",
   "metadata": {},
   "source": [
    "Failed case #8/13: Wrong answer  \n",
    "got: 232781.5 expected: 239607.438"
   ]
  },
  {
   "cell_type": "code",
   "execution_count": 4,
   "metadata": {},
   "outputs": [
    {
     "name": "stdout",
     "output_type": "stream",
     "text": [
      "3 50 60 20 100 50 120 30 \n",
      "[20, 50, 30]\n",
      "180.0000000000\n"
     ]
    }
   ],
   "source": [
    "### this solution is not accepted by the grader\n",
    "def get_optimal_value(capacity, weights, values):\n",
    "    import numpy as np\n",
    "    value = 0\n",
    "    \n",
    "    values = [float(values[_])/float(weights[_]) for _ in range(len(values))]\n",
    "#     values, weights = np.array(values), np.array(weights)\n",
    "    dic = dict(zip(weights,values))\n",
    "    dic = sorted(dic.items(), key = lambda x:x[1], reverse=True)\n",
    "    \n",
    "#     print('dictonary',dic)\n",
    "    weight = 0\n",
    "    i =0\n",
    "    while weight<capacity and i<len(weights):\n",
    "        if dic[i][0]>(capacity-weight):\n",
    "            return value+ ((dic[i][1]*(capacity-weight)))\n",
    "#             return value+ ((dic[i][1]*(capacity-weight))/dic[i][0])\n",
    "        else:\n",
    "            value+= dic[i][1]*dic[i][0]\n",
    "            weight+=dic[i][0]\n",
    "            i+=1\n",
    "    return value\n",
    "    # write your code here\n",
    "\n",
    "#     return value\n",
    "\n",
    "\n",
    "if __name__ == \"__main__\":\n",
    "#     data = list(map(int, sys.stdin.read().split()))\n",
    "    data = list(map(int,input().split()))\n",
    "    n, capacity = data[0:2]\n",
    "    values = data[2:(2 * n + 2):2]\n",
    "    weights = data[3:(2 * n + 2):2]\n",
    "    print(weights)\n",
    "    opt_value = get_optimal_value(capacity, weights, values)\n",
    "    print(\"{:.10f}\".format(opt_value))\n"
   ]
  },
  {
   "cell_type": "code",
   "execution_count": 6,
   "metadata": {},
   "outputs": [],
   "source": [
    "a = [3,4,5]"
   ]
  },
  {
   "cell_type": "code",
   "execution_count": 21,
   "metadata": {},
   "outputs": [
    {
     "name": "stdout",
     "output_type": "stream",
     "text": [
      "3 50 60 20 100 50 120 30\n",
      "180.0000000000\n"
     ]
    }
   ],
   "source": [
    "### this solution is accepted by the grader\n",
    "def get_optimal_value(capacity, weights, values):\n",
    "    values = [float(values[i])/float(weights[i]) for i in range(len(values))]\n",
    "    aka = sorted(values,reverse = True)\n",
    "    filled = 0\n",
    "    answer = 0\n",
    "    i = 0\n",
    "    weights = [weights[values.index(aka[i])] for i in range(len(values))]\n",
    "#     print(aka,'\\t', weights)\n",
    "    values = aka\n",
    "    while filled<capacity and i<len(values):\n",
    "        if weights[i]+filled>capacity:\n",
    "#             print('yay', filled)\n",
    "            return answer+ (values[i]*(capacity-filled))\n",
    "        else:\n",
    "            answer += values[i]*weights[i]\n",
    "            filled+=weights[i]\n",
    "#             print('yee',filled)\n",
    "            i+=1\n",
    "    return answer\n",
    "        \n",
    "\n",
    "if __name__ == \"__main__\":\n",
    "#     data = list(map(int, sys.stdin.read().split()))\n",
    "    data = list(map(int,input().split()))\n",
    "    n, capacity = data[0:2]\n",
    "    values = data[2:(2 * n + 2):2]\n",
    "    weights = data[3:(2 * n + 2):2]\n",
    "#     print(weights)\n",
    "    opt_value = get_optimal_value(capacity, weights, values)\n",
    "    print(\"{:.10f}\".format(opt_value))\n"
   ]
  },
  {
   "cell_type": "code",
   "execution_count": 6,
   "metadata": {},
   "outputs": [
    {
     "data": {
      "text/plain": [
       "16.666666666666668"
      ]
     },
     "execution_count": 6,
     "metadata": {},
     "output_type": "execute_result"
    }
   ],
   "source": [
    "[(30, 16.666666666666668)][0][1]"
   ]
  },
  {
   "cell_type": "code",
   "execution_count": null,
   "metadata": {},
   "outputs": [],
   "source": []
  }
 ],
 "metadata": {
  "kernelspec": {
   "display_name": "Python 3",
   "language": "python",
   "name": "python3"
  },
  "language_info": {
   "codemirror_mode": {
    "name": "ipython",
    "version": 3
   },
   "file_extension": ".py",
   "mimetype": "text/x-python",
   "name": "python",
   "nbconvert_exporter": "python",
   "pygments_lexer": "ipython3",
   "version": "3.6.5"
  }
 },
 "nbformat": 4,
 "nbformat_minor": 2
}
