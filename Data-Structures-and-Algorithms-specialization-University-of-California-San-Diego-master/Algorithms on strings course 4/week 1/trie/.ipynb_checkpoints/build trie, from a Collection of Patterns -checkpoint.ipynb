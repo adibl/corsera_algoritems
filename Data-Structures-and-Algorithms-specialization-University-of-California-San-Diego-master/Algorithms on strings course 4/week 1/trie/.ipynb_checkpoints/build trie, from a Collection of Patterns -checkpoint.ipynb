{
 "cells": [
  {
   "cell_type": "markdown",
   "metadata": {},
   "source": [
    "**Multiple Pattern Matching Problem**: Find all occurrences of a collection of patterns in a text.\n",
    "\n",
    "**Input**: A string Text and a collection Patterns containing (shorter) strings. \n",
    "\n",
    "**Output**: All starting positions in Text where a string from Patterns appears as a substring"
   ]
  },
  {
   "cell_type": "markdown",
   "metadata": {},
   "source": [
    " we will consolidate Patterns into a directed tree called a trie"
   ]
  },
  {
   "cell_type": "markdown",
   "metadata": {},
   "source": [
    "**Output Format**. The adjacency list corresponding to Trie(Patterns), in the following format. If Trie(Patterns) has n nodes, first label the root with 0 and then label the remaining nodes with the integers 1 through n−1 in any order you like. Each edge of the adjacency list of Trie(Patterns) will be encoded by a triple: the first two members of the triple must be the integers i,j labeling the initial and terminal nodes of the edge, respectively; the third member of the triple must be the symbol c labeling the edge; output each such triple in the format u->v:c (with no spaces) on a separate line. "
   ]
  },
  {
   "cell_type": "code",
   "execution_count": null,
   "metadata": {},
   "outputs": [],
   "source": [
    "#Uses python3\n",
    "import sys\n",
    "\n",
    "# Return the trie built from patterns\n",
    "# in the form of a dictionary of dictionaries,\n",
    "# e.g. {0:{'A':1,'T':2},1:{'C':3}}\n",
    "# where the key of the external dictionary is\n",
    "# the node ID (integer), and the internal dictionary\n",
    "# contains all the trie edges outgoing from the corresponding\n",
    "# node, and the keys are the letters on those edges, and the\n",
    "# values are the node IDs to which these edges lead.\n",
    "def build_trie(patterns):\n",
    "    tree = dict()\n",
    "    # write your code here\n",
    "    return tree\n",
    "\n",
    "\n",
    "if __name__ == '__main__':\n",
    "    patterns = sys.stdin.read().split()[1:]\n",
    "    tree = build_trie(patterns)\n",
    "    for node in tree:\n",
    "        for c in tree[node]:\n",
    "            print(\"{}->{}:{}\".format(node, tree[node][c], c))\n"
   ]
  },
  {
   "cell_type": "code",
   "execution_count": 9,
   "metadata": {
    "scrolled": true
   },
   "outputs": [
    {
     "name": "stdout",
     "output_type": "stream",
     "text": [
      "1 ata\n",
      "0->1:a\n",
      "1->2:t\n",
      "2->3:a\n",
      "3 at ac ag\n",
      "0->1:a\n",
      "1->2:t\n",
      "1->3:c\n",
      "1->4:g\n",
      "3 ataga gat atc\n",
      "0->1:a\n",
      "0->6:g\n",
      "1->2:t\n",
      "2->3:a\n",
      "2->9:c\n",
      "3->4:g\n",
      "4->5:a\n",
      "6->7:a\n",
      "7->8:t\n"
     ]
    }
   ],
   "source": [
    "def build_trie(patterns):\n",
    "    '''uncomment print commands to know a little idea of what is happening'''\n",
    "    trie = {}\n",
    "    trie[0] = {}\n",
    "    index = 1\n",
    "\n",
    "    for pattern in patterns:\n",
    "        curr_node = trie[0]\n",
    "        for letter in pattern:\n",
    "            if letter in curr_node.keys():  #if the alphabet is there in the Current paths emanating from Current node\n",
    "#                 print('\\n',letter,' is there \\n')\n",
    "                curr_node = trie[curr_node[letter]] #move to the next root node\n",
    "#                 print('\\n trie {} : \\n'.format(trie), 'Current', curr_node)\n",
    "            else:\n",
    "                curr_node[letter] = index # adding node number to this letter, ex 0: {'a': 1} means 0-1 edge is a\n",
    "                trie[index] = {} # creating dictionary for letters to follow the Current letter, ex: creating 1:{} so we can store  1-somenode\n",
    "                #                 where some alphabet  is on edge 1-somenode\n",
    "                curr_node = trie[index]  #shifting to the newly created node\n",
    "#                 print('\\n else loop trie{} \\n'.format(trie))\n",
    "                index = index + 1\n",
    "    return trie\n",
    "\n",
    "\n",
    "if __name__ == '__main__':\n",
    "#     patterns = sys.stdin.read().split()[1:]\n",
    "    for i in range(3):\n",
    "        patterns = input().split()[1:]\n",
    "        trie = build_trie(patterns)\n",
    "        for node in trie:\n",
    "            for c in trie[node]:\n",
    "                print(\"{}->{}:{}\".format(node, trie[node][c], c))"
   ]
  },
  {
   "cell_type": "code",
   "execution_count": null,
   "metadata": {},
   "outputs": [],
   "source": []
  }
 ],
 "metadata": {
  "kernelspec": {
   "display_name": "Python 3",
   "language": "python",
   "name": "python3"
  },
  "language_info": {
   "codemirror_mode": {
    "name": "ipython",
    "version": 3
   },
   "file_extension": ".py",
   "mimetype": "text/x-python",
   "name": "python",
   "nbconvert_exporter": "python",
   "pygments_lexer": "ipython3",
   "version": "3.6.5"
  }
 },
 "nbformat": 4,
 "nbformat_minor": 2
}
