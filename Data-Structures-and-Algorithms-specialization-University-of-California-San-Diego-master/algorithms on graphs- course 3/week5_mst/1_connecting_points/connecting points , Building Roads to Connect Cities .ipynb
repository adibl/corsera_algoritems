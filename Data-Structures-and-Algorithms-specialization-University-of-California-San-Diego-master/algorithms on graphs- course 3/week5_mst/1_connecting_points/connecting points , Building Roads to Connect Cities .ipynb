{
 "cells": [
  {
   "cell_type": "markdown",
   "metadata": {},
   "source": [
    "In this problem, the goal is to build roads between some pairs of the given cities such that there is a path between any two cities and the total length of the roads is minimized.\n"
   ]
  },
  {
   "cell_type": "markdown",
   "metadata": {},
   "source": [
    "**Input Format**. The first line contains the number n of points. Each of the following n lines defines a point *(xi,yi)*. "
   ]
  },
  {
   "cell_type": "markdown",
   "metadata": {},
   "source": [
    "**Output Format.** Output the minimum total length of segments. The absolute value of the difference between the answer of your program and the optimal value should be at most 10−6. To ensure this, output your answer with at least seven digits after the decimal point (otherwise your answer, while being computed correctly, can turn out to be wrong because of rounding issues). "
   ]
  },
  {
   "cell_type": "code",
   "execution_count": null,
   "metadata": {},
   "outputs": [],
   "source": [
    "test cases:\n",
    "    4 0 0 0 1 1 0 1 1 Output: 3.000000000\n",
    "\n",
    "    5 0 0 0 2 1 1 3 0 3 2 Output: 7.064495102"
   ]
  },
  {
   "cell_type": "markdown",
   "metadata": {},
   "source": [
    "`Kruskal algorithm`\n",
    "* Algorithm: repeatedly add to X the next lightest edge e that doesn’t produce a cycle\n",
    "* At any point of time, the set X is a forest, that is, a collection of trees\n",
    "* The next edge e connects two different trees—say, T1 and T2\n",
    "* The edge e is the lightest between T1 and V − T1, hence adding e is safe"
   ]
  },
  {
   "cell_type": "code",
   "execution_count": 2,
   "metadata": {},
   "outputs": [
    {
     "name": "stdout",
     "output_type": "stream",
     "text": [
      "4 0 0 0 1 1 0 1 1 \n",
      "3.000000000\n",
      "5 0 0 0 2 1 1 3 0 3 2\n",
      "7.064495102\n"
     ]
    }
   ],
   "source": [
    "#Uses python3\n",
    "import sys\n",
    "import math\n",
    "\n",
    "def distance(v1,v2,x,y):\n",
    "    return math.sqrt((x[v1]-x[v2])**2 +  (y[v1]-y[v2])**2) \n",
    "\n",
    "def minimum_distance(x, y):\n",
    "    #create edge list\n",
    "    edges = []\n",
    "    for i in range(n):\n",
    "        for j in range(i,n):\n",
    "            if i != j:\n",
    "                edges.append([i,j,distance(i,j,x,y)])\n",
    "\n",
    "    #sort edges based on the distances\n",
    "    sorted_Edges = sorted(edges, key=lambda x: x[2])\n",
    "    \n",
    "\n",
    "    #initialize disjoint data structure\n",
    "    membership = range(n)\n",
    "    \n",
    "    #run Kruskal algorithm\n",
    "    MST = []  #initialize minimum spanning tree\n",
    "    minDist = 0\n",
    "    for i in sorted_Edges:\n",
    "        #make sure vertices are not already joined\n",
    "        if membership[i[0]] != membership[i[1]]:\n",
    "            #add edge\n",
    "            MST.append(i)\n",
    "            minDist += i[2]\n",
    "            #join groups\n",
    "            membership = list(map(lambda x: membership[i[0]] if x == membership[i[1]] else x, membership))\n",
    "            \n",
    "    return minDist\n",
    "\n",
    "if __name__ == '__main__':\n",
    "#     input = sys.stdin.read()\n",
    "    for i in range(2):\n",
    "        data = list(map(int, input().split()))\n",
    "        n = data[0]\n",
    "        x = data[1::2]\n",
    "        y = data[2::2]\n",
    "        print(\"{0:.9f}\".format(minimum_distance(x, y)))\n"
   ]
  },
  {
   "cell_type": "code",
   "execution_count": null,
   "metadata": {},
   "outputs": [],
   "source": []
  }
 ],
 "metadata": {
  "kernelspec": {
   "display_name": "Python 3",
   "language": "python",
   "name": "python3"
  },
  "language_info": {
   "codemirror_mode": {
    "name": "ipython",
    "version": 3
   },
   "file_extension": ".py",
   "mimetype": "text/x-python",
   "name": "python",
   "nbconvert_exporter": "python",
   "pygments_lexer": "ipython3",
   "version": "3.6.5"
  }
 },
 "nbformat": 4,
 "nbformat_minor": 2
}
