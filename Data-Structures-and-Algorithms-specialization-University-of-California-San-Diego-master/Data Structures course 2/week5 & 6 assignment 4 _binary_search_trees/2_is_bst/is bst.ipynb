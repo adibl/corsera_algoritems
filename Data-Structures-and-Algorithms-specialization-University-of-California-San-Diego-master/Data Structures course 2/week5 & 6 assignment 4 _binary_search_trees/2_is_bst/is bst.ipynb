{
 "cells": [
  {
   "cell_type": "code",
   "execution_count": 1,
   "metadata": {},
   "outputs": [
    {
     "name": "stdout",
     "output_type": "stream",
     "text": [
      "3\n"
     ]
    },
    {
     "name": "stderr",
     "output_type": "stream",
     "text": [
      "Exception in thread Thread-6:\n",
      "Traceback (most recent call last):\n",
      "  File \"C:\\Users\\sudhe\\Anaconda3\\lib\\threading.py\", line 916, in _bootstrap_inner\n",
      "    self.run()\n",
      "  File \"C:\\Users\\sudhe\\Anaconda3\\lib\\threading.py\", line 864, in run\n",
      "    self._target(*self._args, **self._kwargs)\n",
      "  File \"<ipython-input-1-1305a4b91947>\", line 18, in main\n",
      "    tree.append(list(map(int,input().strip().split())))\n",
      "EOFError: EOF when reading a line\n",
      "\n"
     ]
    }
   ],
   "source": [
    "#!/usr/bin/python3\n",
    "\n",
    "import sys, threading\n",
    "\n",
    "sys.setrecursionlimit(10**7) # max depth of recursion\n",
    "threading.stack_size(2**25)  # new thread will get stack of such size\n",
    "\n",
    "def IsBinarySearchTree(j, mn, mx):\n",
    "  if not j in tree: return True\n",
    "  if tree[j][0] < mn or tree[j][0] > mx: return False\n",
    "  return IsBinarySearchTree(tree[j][1], mn, tree[j][0] - 1) and IsBinarySearchTree(tree[j][2], tree[j][0] + 1, mx)\n",
    "\n",
    "def main():\n",
    "#   nodes = int(sys.stdin.readline().strip())\n",
    "  nodes = int(input().strip())\n",
    "  tree = []\n",
    "  for i in range(nodes):\n",
    "    tree.append(list(map(int,input().strip().split())))\n",
    "#     tree.append(list(map(int, sys.stdin.readline().strip().split())))\n",
    "        \n",
    "  if IsBinarySearchTree(0, int_min, int_max):\n",
    "    print(\"CORRECT\")\n",
    "  else:\n",
    "    print(\"INCORRECT\")\n",
    "\n",
    "threading.Thread(target=main).start()\n"
   ]
  },
  {
   "cell_type": "code",
   "execution_count": null,
   "metadata": {},
   "outputs": [],
   "source": []
  }
 ],
 "metadata": {
  "kernelspec": {
   "display_name": "Python 3",
   "language": "python",
   "name": "python3"
  },
  "language_info": {
   "codemirror_mode": {
    "name": "ipython",
    "version": 3
   },
   "file_extension": ".py",
   "mimetype": "text/x-python",
   "name": "python",
   "nbconvert_exporter": "python",
   "pygments_lexer": "ipython3",
   "version": "3.6.5"
  }
 },
 "nbformat": 4,
 "nbformat_minor": 2
}
