{
 "cells": [
  {
   "cell_type": "code",
   "execution_count": null,
   "metadata": {},
   "outputs": [],
   "source": [
    "test cases:\n",
    "    4 4\n",
    "    1 2\n",
    "    4 1\n",
    "    2 3\n",
    "    3 1 op: 1\n",
    "    \n",
    "    5 7\n",
    "    1 2\n",
    "    2 3\n",
    "    1 3\n",
    "    3 4\n",
    "    1 4\n",
    "    2 5\n",
    "    3 5 op:0"
   ]
  },
  {
   "cell_type": "code",
   "execution_count": 2,
   "metadata": {},
   "outputs": [
    {
     "name": "stdout",
     "output_type": "stream",
     "text": [
      "5 7     1 2     2 3     1 3     3 4     1 4     2 5     3 5 \n",
      "0\n"
     ]
    }
   ],
   "source": [
    "#Uses python3\n",
    "\n",
    "import sys\n",
    "\n",
    "\n",
    "def explore(adj,x,visited):\n",
    "    for i in adj[x]:\n",
    "        if not visited[i]:\n",
    "            visited[i] = True\n",
    "            explore(adj,i,visited)\n",
    "    return\n",
    "\n",
    "\n",
    "def acyclic(adj):\n",
    "    result = 0\n",
    "    for i in range(len(adj)):\n",
    "        visited = [False] * len(adj) #creating a visited for every node, if some node is visited twice, basically means a loop(cycle)\n",
    "        explore(adj,i,visited)\n",
    "        if visited[i]:\n",
    "            result = 1\n",
    "            break\n",
    "    return result\n",
    "\n",
    "if __name__ == '__main__':\n",
    "#     input = sys.stdin.read()\n",
    "    data = list(map(int, input().split()))\n",
    "    n, m = data[0:2]\n",
    "    data = data[2:]\n",
    "    edges = list(zip(data[0:(2 * m):2], data[1:(2 * m):2]))\n",
    "    adj = [[] for _ in range(n)]\n",
    "    for (a, b) in edges:\n",
    "        adj[a - 1].append(b - 1)\n",
    "    print(acyclic(adj))\n"
   ]
  },
  {
   "cell_type": "markdown",
   "metadata": {},
   "source": [
    "some other good method, found online on [github](https://github.com/akueisara/algograph/tree/master/week%202/acyclicity)"
   ]
  },
  {
   "cell_type": "code",
   "execution_count": null,
   "metadata": {},
   "outputs": [],
   "source": [
    "def acyclic(adj):\n",
    "    # Mark all the vertices as not visited and not part of recursion stack\n",
    "    visited = [0 for _ in range(len(adj))]\n",
    "    rec_stack = [0 for _ in range(len(adj))]\n",
    "    # Call the recursive helper function to detect cycle in different DFS trees\n",
    "    for i in range(len(adj)):\n",
    "        if not visited[i]:\n",
    "            if dfs(adj, i, visited, rec_stack):\n",
    "                return 1\n",
    "    return 0\n",
    "\n",
    "def dfs(adj, x, visited, rec_stack):\n",
    "    # Mark the current node as visited and part of recursion stack\n",
    "    visited[x] = 1\n",
    "    rec_stack[x] = 1\n",
    "    # Recur for all the vertices adjacent to this vertex\n",
    "    for i in range(len(adj[x])):\n",
    "        if not visited[adj[x][i]] and dfs(adj, adj[x][i], visited, rec_stack):\n",
    "            return 1\n",
    "        elif rec_stack[adj[x][i]]:\n",
    "            return 1\n",
    "    rec_stack[x] = 0 # remove the vertex from recursion stack\n",
    "    return 0"
   ]
  }
 ],
 "metadata": {
  "kernelspec": {
   "display_name": "Python 3",
   "language": "python",
   "name": "python3"
  },
  "language_info": {
   "codemirror_mode": {
    "name": "ipython",
    "version": 3
   },
   "file_extension": ".py",
   "mimetype": "text/x-python",
   "name": "python",
   "nbconvert_exporter": "python",
   "pygments_lexer": "ipython3",
   "version": "3.6.5"
  }
 },
 "nbformat": 4,
 "nbformat_minor": 2
}
