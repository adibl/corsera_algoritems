{
 "cells": [
  {
   "cell_type": "code",
   "execution_count": 3,
   "metadata": {},
   "outputs": [
    {
     "name": "stdout",
     "output_type": "stream",
     "text": [
      "5 2 3 9 2 2 \n",
      "2 2 2 3 9 "
     ]
    }
   ],
   "source": [
    "# Uses python3\n",
    "import sys\n",
    "import random\n",
    "\n",
    "def partition3(a, l, r):\n",
    "    pivot_value = a[l]\n",
    "    p_l = i = l\n",
    "    p_e = r\n",
    "    while i <= p_e:\n",
    "        if a[i] < pivot_value:\n",
    "            a[i], a[p_l] = a[p_l], a[i]\n",
    "            p_l += 1\n",
    "            i += 1\n",
    "        elif a[i] == pivot_value:\n",
    "            i += 1\n",
    "        else:\n",
    "            a[i], a[p_e] = a[p_e], a[i]\n",
    "            p_e -= 1\n",
    "        pindices = [p_l, p_e]\n",
    "    return pindices\n",
    "\n",
    "def partition2(a, l, r):\n",
    "    x = a[l]\n",
    "    j = l\n",
    "    for i in range(l + 1, r + 1):\n",
    "        if a[i] <= x:\n",
    "            j += 1\n",
    "            a[i], a[j] = a[j], a[i]\n",
    "    a[l], a[j] = a[j], a[l]\n",
    "    return j\n",
    "\n",
    "\n",
    "def randomized_quick_sort(a, l, r):\n",
    "    if l >= r:\n",
    "        return\n",
    "    k = random.randint(l, r)\n",
    "    a[l], a[k] = a[k], a[l]\n",
    "    m = partition3(a, l, r)\n",
    "#     m = partition2(a, l, r)\n",
    "    randomized_quick_sort(a, l, m[0] - 1);\n",
    "    randomized_quick_sort(a, m[1] + 1, r);\n",
    "\n",
    "\n",
    "if __name__ == '__main__':\n",
    "#     input = sys.stdin.read()\n",
    "    n, *a = list(map(int, input().split()))\n",
    "    randomized_quick_sort(a, 0, n - 1)\n",
    "    for x in a:\n",
    "        print(x, end=' ')\n"
   ]
  },
  {
   "cell_type": "code",
   "execution_count": null,
   "metadata": {},
   "outputs": [],
   "source": []
  }
 ],
 "metadata": {
  "kernelspec": {
   "display_name": "Python 3",
   "language": "python",
   "name": "python3"
  },
  "language_info": {
   "codemirror_mode": {
    "name": "ipython",
    "version": 3
   },
   "file_extension": ".py",
   "mimetype": "text/x-python",
   "name": "python",
   "nbconvert_exporter": "python",
   "pygments_lexer": "ipython3",
   "version": "3.6.5"
  }
 },
 "nbformat": 4,
 "nbformat_minor": 2
}
