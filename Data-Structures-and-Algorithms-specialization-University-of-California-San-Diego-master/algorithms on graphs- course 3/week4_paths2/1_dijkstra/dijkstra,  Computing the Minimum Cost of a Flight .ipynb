{
 "cells": [
  {
   "cell_type": "markdown",
   "metadata": {},
   "source": [
    "Now, you are interested in minimizing not the number of segments, but the total cost of a flight. For this you construct a weighted graph: the weight of an edge from one city to another one is the cost of the corresponding flight.\n"
   ]
  },
  {
   "cell_type": "markdown",
   "metadata": {},
   "source": [
    "Given an directed graph with positive edge weights and with n vertices and m edges as well as two vertices u and v, compute the weight of a shortest path between u and v (that is, the minimum total weight of a path from u to v). "
   ]
  },
  {
   "cell_type": "code",
   "execution_count": null,
   "metadata": {},
   "outputs": [],
   "source": [
    "test cases: \n",
    "    4 4 1 2 1 4 1 2 2 3 2 1 3 5 1 3 Output: 3\n",
    "    \n",
    "    5 9 1 2 4 1 3 2 2 3 2 3 2 1 2 4 2 3 5 4 5 4 1 2 5 3 3 4 4 1 5 Output: 6\n",
    "\n",
    "    3 3 1 2 7 1 3 5 2 3 2 3 2 Output: -1 (as there is not way between 3 and 2)\n"
   ]
  },
  {
   "cell_type": "code",
   "execution_count": 5,
   "metadata": {},
   "outputs": [
    {
     "name": "stdout",
     "output_type": "stream",
     "text": [
      "3 3 1 2 7 1 3 5 2 3 2 3 2 \n",
      "-1\n",
      "5 9 1 2 4 1 3 2 2 3 2 3 2 1 2 4 2 3 5 4 5 4 1 2 5 3 3 4 4 1 5\n",
      "6\n",
      "4 4 1 2 1 4 1 2 2 3 2 1 3 5 1 3 \n",
      "3\n"
     ]
    }
   ],
   "source": [
    "#Uses python3\n",
    "\n",
    "import sys\n",
    "import queue\n",
    "\n",
    "\n",
    "\n",
    "def distance(adj, cost, start,end):\n",
    "    # initialise all distances to be infinity first\n",
    "    dist=[float('inf')]*len(adj)\n",
    "    dist[start] = 0\n",
    "    pq = queue.PriorityQueue() #use a priority queue for processing\n",
    "#     pq.put((start, dist[start])) #store node and it's distance\n",
    "    pq.put(start)\n",
    "    while not pq.empty():\n",
    "        u_index = pq.get()\n",
    "#         u_index = u[0]\n",
    "        for v in adj[u_index]:\n",
    "            v_index = adj[u_index].index(v)\n",
    "            if dist[v] > dist[u_index] + cost[u_index][v_index]:\n",
    "                dist[v] = dist[u_index] + cost[u_index][v_index]\n",
    "#                 pq.put((v, dist[v]))\n",
    "                pq.put(v)\n",
    "    if dist[t] == float('inf'):\n",
    "        return -1\n",
    "    return dist[t]\n",
    "\n",
    "\n",
    "if __name__ == '__main__':\n",
    "#     input = sys.stdin.read()\n",
    "    for i in range(3):\n",
    "        data = list(map(int, input().split()))\n",
    "        n, m = data[0:2]\n",
    "        data = data[2:]\n",
    "        edges = list(zip(zip(data[0:(3 * m):3], data[1:(3 * m):3]), data[2:(3 * m):3]))\n",
    "        data = data[3 * m:]\n",
    "        adj = [[] for _ in range(n)]\n",
    "        cost = [[] for _ in range(n)]\n",
    "        for ((a, b), w) in edges:\n",
    "            adj[a - 1].append(b - 1)\n",
    "            cost[a - 1].append(w)\n",
    "        s, t = data[0] - 1, data[1] - 1\n",
    "        print(distance(adj, cost, s, t))\n"
   ]
  },
  {
   "cell_type": "code",
   "execution_count": null,
   "metadata": {},
   "outputs": [],
   "source": []
  }
 ],
 "metadata": {
  "kernelspec": {
   "display_name": "Python 3",
   "language": "python",
   "name": "python3"
  },
  "language_info": {
   "codemirror_mode": {
    "name": "ipython",
    "version": 3
   },
   "file_extension": ".py",
   "mimetype": "text/x-python",
   "name": "python",
   "nbconvert_exporter": "python",
   "pygments_lexer": "ipython3",
   "version": "3.6.5"
  }
 },
 "nbformat": 4,
 "nbformat_minor": 2
}
