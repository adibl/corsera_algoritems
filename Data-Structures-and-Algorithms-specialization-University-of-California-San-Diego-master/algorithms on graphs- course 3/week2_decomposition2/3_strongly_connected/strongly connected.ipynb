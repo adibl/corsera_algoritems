{
 "cells": [
  {
   "cell_type": "markdown",
   "metadata": {},
   "source": [
    "The police department of a city has made all streets one-way. You would like\n",
    "to check whether it is still possible to drive legally from any intersection to\n",
    "any other intersection. For this, you construct a directed graph: vertices are\n",
    "intersections, there is an edge (𝑢, 𝑣) whenever there is a (one-way) street from\n",
    "𝑢 to 𝑣 in the city. Then, it suffices to check whether all the vertices in the\n",
    "graph lie in the same strongly connected component.\n",
    "\n",
    "**Task.** Compute the number of strongly connected components of a given directed graph with 𝑛 vertices and\n",
    "𝑚 edges."
   ]
  },
  {
   "cell_type": "code",
   "execution_count": null,
   "metadata": {},
   "outputs": [],
   "source": [
    "test cases:"
   ]
  },
  {
   "cell_type": "code",
   "execution_count": null,
   "metadata": {},
   "outputs": [],
   "source": [
    "#Uses python3\n",
    "\n",
    "import sys\n",
    "\n",
    "sys.setrecursionlimit(200000)\n",
    "\n",
    "\n",
    "def number_of_strongly_connected_components(adj):\n",
    "    result = 0\n",
    "    #write your code here\n",
    "    return result\n",
    "\n",
    "if __name__ == '__main__':\n",
    "#     input = sys.stdin.read()\n",
    "    data = list(map(int, input().split()))\n",
    "    n, m = data[0:2]\n",
    "    data = data[2:]\n",
    "    edges = list(zip(data[0:(2 * m):2], data[1:(2 * m):2]))\n",
    "    adj = [[] for _ in range(n)]\n",
    "    for (a, b) in edges:\n",
    "        adj[a - 1].append(b - 1)\n",
    "    print(number_of_strongly_connected_components(adj))\n"
   ]
  },
  {
   "cell_type": "markdown",
   "metadata": {},
   "source": [
    "following code is taken from this [github link](https://github.com/akueisara/algograph/blob/master/week%202/strongly_connected/strongly_connected.py)"
   ]
  },
  {
   "cell_type": "code",
   "execution_count": null,
   "metadata": {},
   "outputs": [],
   "source": [
    "def dfs(adj, x, visited, stack):\n",
    "    # Mark the current node as visited\n",
    "    visited[x] = 1\n",
    "    \n",
    "    # Recur for all the vertices adjacent to this vertex\n",
    "    for i in range(len(adj[x])):\n",
    "        if not visited[adj[x][i]]:\n",
    "            visited[adj[x][i]] = 1\n",
    "            dfs(adj, adj[x][i], visited, stack)\n",
    "\n",
    "    # All vertices reachable from x are processed by now, push x to Stack\n",
    "    stack.append(x)\n",
    "\n",
    "def reverseEdges(adj):\n",
    "    r_adj = [[] for _ in range(len(adj))]\n",
    "    for i in range(len(adj)):\n",
    "        for j in range(len(adj[i])):\n",
    "            r_adj[adj[i][j]].append(i)\n",
    "    return r_adj\n",
    "\n",
    "def number_of_strongly_connected_components(adj):\n",
    "    result = 0\n",
    "    stack = []\n",
    "\n",
    "    # Mark all the vertices as not visited (For first DFS)\n",
    "    visited = [0] * len(adj)\n",
    "\n",
    "    # Fill vertices in stack according to their finishing times\n",
    "    for i in range(len(adj)):\n",
    "        if not visited[i]:\n",
    "            dfs(adj, i, visited, stack)\n",
    "\n",
    "    # get the reversed adj list\n",
    "    r_adj = reverseEdges(adj)\n",
    "\n",
    "    # Mark all the vertices as not visited (For second DFS)\n",
    "    visited = [0] * len(adj)\n",
    "\n",
    "    # Now process all vertices in order defined by Stack\n",
    "    while stack:\n",
    "        x = stack.pop()\n",
    "        if not visited[x]:\n",
    "            dfs(r_adj, x, visited, [])\n",
    "            result+=1\n",
    "    return result"
   ]
  }
 ],
 "metadata": {
  "kernelspec": {
   "display_name": "Python 3",
   "language": "python",
   "name": "python3"
  },
  "language_info": {
   "codemirror_mode": {
    "name": "ipython",
    "version": 3
   },
   "file_extension": ".py",
   "mimetype": "text/x-python",
   "name": "python",
   "nbconvert_exporter": "python",
   "pygments_lexer": "ipython3",
   "version": "3.6.5"
  }
 },
 "nbformat": 4,
 "nbformat_minor": 2
}
