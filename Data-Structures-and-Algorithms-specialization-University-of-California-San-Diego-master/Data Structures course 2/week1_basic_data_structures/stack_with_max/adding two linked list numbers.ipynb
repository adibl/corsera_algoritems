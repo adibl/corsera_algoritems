{
 "cells": [
  {
   "cell_type": "code",
   "execution_count": 29,
   "metadata": {},
   "outputs": [],
   "source": [
    "class Node:\n",
    "    def __init__(self,value):\n",
    "        self.value = value\n",
    "        self.next = None\n",
    "class LinkedList:\n",
    "    def __init__(self):\n",
    "        self.head = None\n",
    "    #insert a node\n",
    "    def push(self,a):\n",
    "        a = Node(a)     #allocate node and put a in it\n",
    "        a.next = self.head #making a.next the self.head (as this should point to the previous value)\n",
    "        self.head = a\n",
    "    #insert in middle\n",
    "    def insertafter(self,prev_node,a):\n",
    "        new_node = Node(a)\n",
    "        new_node.next = prev_node.next\n",
    "        prev_node.next= new_node\n",
    "    #insert at end\n",
    "    def insertatend(self,a):\n",
    "        #if prev_node is None, it sucks\n",
    "        new_node = Node(a)\n",
    "        last = self.head\n",
    "        while(last.next):  #ie, this is not the last node\n",
    "            last=last.next\n",
    "        last.next = new_node\n",
    "    #printing the list\n",
    "    def popend(self):\n",
    "        temp = self.head\n",
    "        while(temp.next):\n",
    "            prev = temp\n",
    "            temp =temp.next\n",
    "        prev.next = temp.next\n",
    "            \n",
    "    def printlist(self):\n",
    "        temp = self.head\n",
    "        while(temp):\n",
    "            print(temp.value)\n",
    "            temp = temp.next\n",
    "    def deletnode(self,key):\n",
    "        current = self.head\n",
    "        previous = None\n",
    "        found = False\n",
    "        while current and found is False:\n",
    "            if current.value() == data:\n",
    "                found = True           # we found the node where it is\n",
    "            else:\n",
    "                previous = current #saving the previous node\n",
    "                current = current.next() #we can run out of all tings and current=None\n",
    "        if current is None:\n",
    "            raise ValueError(\"Data not in list\")\n",
    "        if previous is None:\n",
    "            self.head = current.next() #if previous doesn't exist current+1 is header\n",
    "        else:\n",
    "            previous.next = (current.next()) #totally taking of current by pointing to current+1 from previous\n",
    "    def delnodefrompos(self,position):\n",
    "        temp=self.head\n",
    "        if self.head==None:\n",
    "            return None\n",
    "        if position==0:\n",
    "            self.head = temp.next\n",
    "            temp = None\n",
    "        else:\n",
    "            for i in range(position-1):\n",
    "                temp =temp.next\n",
    "                if temp is None or temp.next is None:\n",
    "                    return none\n",
    "                next = temp.next.next #skipping temp.next\n",
    "                temp.next = next \n",
    "    def getlength(self):\n",
    "        temp = self.head\n",
    "        length = 0\n",
    "        while(temp!=None):\n",
    "            length+=1\n",
    "            temp = temp.next\n",
    "        return length"
   ]
  },
  {
   "cell_type": "code",
   "execution_count": 30,
   "metadata": {},
   "outputs": [],
   "source": [
    "l1 = LinkedList()"
   ]
  },
  {
   "cell_type": "code",
   "execution_count": 31,
   "metadata": {},
   "outputs": [],
   "source": [
    "l1.push(7)\n",
    "l1.push(8)\n",
    "l1.push(9)\n",
    "l1.push(10)"
   ]
  },
  {
   "cell_type": "code",
   "execution_count": 32,
   "metadata": {},
   "outputs": [],
   "source": [
    "l1.popend()"
   ]
  },
  {
   "cell_type": "code",
   "execution_count": 33,
   "metadata": {},
   "outputs": [
    {
     "name": "stdout",
     "output_type": "stream",
     "text": [
      "10\n",
      "9\n",
      "8\n"
     ]
    }
   ],
   "source": [
    "l1.printlist()"
   ]
  },
  {
   "cell_type": "code",
   "execution_count": 12,
   "metadata": {},
   "outputs": [],
   "source": [
    "n1 = Node(4)"
   ]
  },
  {
   "cell_type": "code",
   "execution_count": null,
   "metadata": {},
   "outputs": [],
   "source": []
  }
 ],
 "metadata": {
  "kernelspec": {
   "display_name": "Python 3",
   "language": "python",
   "name": "python3"
  },
  "language_info": {
   "codemirror_mode": {
    "name": "ipython",
    "version": 3
   },
   "file_extension": ".py",
   "mimetype": "text/x-python",
   "name": "python",
   "nbconvert_exporter": "python",
   "pygments_lexer": "ipython3",
   "version": "3.7.3"
  }
 },
 "nbformat": 4,
 "nbformat_minor": 2
}
