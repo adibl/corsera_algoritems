{
 "cells": [
  {
   "cell_type": "code",
   "execution_count": 1,
   "metadata": {},
   "outputs": [
    {
     "name": "stdout",
     "output_type": "stream",
     "text": [
      "5 2 3 9 2 2 \n",
      "1\n",
      "4 1 2 3 4 \n",
      "0\n",
      "4 1 2 3 1 \n",
      "0\n"
     ]
    }
   ],
   "source": [
    "import sys\n",
    "from collections import Counter\n",
    "\n",
    "def get_majority_element(a, left, right):\n",
    "    if Counter(a).most_common(1)[0][1] > len(a)/2:\n",
    "        return 0\n",
    "    else:\n",
    "        return -1\n",
    "\n",
    "if __name__ == '__main__':\n",
    "#     input = sys.stdin.read()\n",
    "    for i in range(3):\n",
    "        n, *a = list(map(int, input().split()))\n",
    "        if get_majority_element(a, 0, n) != -1:\n",
    "            print(1)\n",
    "        else:\n",
    "            print(0)"
   ]
  },
  {
   "cell_type": "code",
   "execution_count": 8,
   "metadata": {},
   "outputs": [],
   "source": [
    "k = Counter([1,2,3,4,2,3,2])"
   ]
  },
  {
   "cell_type": "code",
   "execution_count": 12,
   "metadata": {},
   "outputs": [
    {
     "data": {
      "text/plain": [
       "3"
      ]
     },
     "execution_count": 12,
     "metadata": {},
     "output_type": "execute_result"
    }
   ],
   "source": [
    "k.most_common(1)[0][1]"
   ]
  },
  {
   "cell_type": "code",
   "execution_count": 19,
   "metadata": {},
   "outputs": [
    {
     "name": "stdout",
     "output_type": "stream",
     "text": [
      "5 2 3 9 2 2 \n",
      "1\n"
     ]
    }
   ],
   "source": [
    "import sys\n",
    "\n",
    "\n",
    "def get_majority_element(a, left, right):\n",
    "    if left == right:\n",
    "        return -1\n",
    "    if left + 1 == right:\n",
    "#         print('now',a[left])\n",
    "        return a[left]\n",
    "#     print('call 1')\n",
    "    left_elem = get_majority_element(a, left, (left+right+1)//2)\n",
    "#     print('call 2')\n",
    "    right_elem = get_majority_element(a, (left+right+1)//2, right)\n",
    "\n",
    "    lcount = 0\n",
    "#     print('left_elem',left_elem)\n",
    "#     print('right_elem',right_elem)\n",
    "    for i in range(left, right):\n",
    "        if a[i] == left_elem:\n",
    "            lcount += 1\n",
    "    if lcount > (right - left) // 2:\n",
    "        return left_elem\n",
    "\n",
    "    rcount = 0\n",
    "    for i in range(left, right):\n",
    "        if a[i] == right_elem:\n",
    "            rcount += 1\n",
    "    if rcount > (right - left) // 2:\n",
    "        return right_elem\n",
    "\n",
    "    return -1\n",
    "\n",
    "\n",
    "if __name__ == '__main__':\n",
    "#     input = sys.stdin.read()\n",
    "    n, *a = list(map(int, input().split()))\n",
    "    if get_majority_element(a, 0, n) != -1:\n",
    "        print(1)\n",
    "    else:\n",
    "        print(0)"
   ]
  },
  {
   "cell_type": "code",
   "execution_count": 21,
   "metadata": {},
   "outputs": [
    {
     "name": "stdout",
     "output_type": "stream",
     "text": [
      "5 2 2 3 5 4\n",
      "0\n"
     ]
    }
   ],
   "source": [
    "def get_majority_element(a, left, right):\n",
    "    # The task is solved using Boyer–Moore majority vote algorithm.\n",
    "    maj_index = 0\n",
    "    count = 1\n",
    "    for i in range(left+1, right):\n",
    "\n",
    "        if a[i] == a[maj_index]:\n",
    "            count += 1\n",
    "        else:\n",
    "            count -= 1\n",
    "\n",
    "        if count == 0:\n",
    "            maj_index = i\n",
    "            count = 1\n",
    "\n",
    "    count = 0\n",
    "    for i in range(right):\n",
    "        if a[i] == a[maj_index]:\n",
    "            count += 1\n",
    "\n",
    "    if count > right // 2:\n",
    "        return a[maj_index]\n",
    "    return -1\n",
    "\n",
    "if __name__ == '__main__':\n",
    "#     input = sys.stdin.read()\n",
    "    n, *a = list(map(int, input().split()))\n",
    "    if get_majority_element(a, 0, n) != -1:\n",
    "        print(1)\n",
    "    else:\n",
    "        print(0)"
   ]
  },
  {
   "cell_type": "code",
   "execution_count": null,
   "metadata": {},
   "outputs": [],
   "source": []
  }
 ],
 "metadata": {
  "kernelspec": {
   "display_name": "Python 3",
   "language": "python",
   "name": "python3"
  },
  "language_info": {
   "codemirror_mode": {
    "name": "ipython",
    "version": 3
   },
   "file_extension": ".py",
   "mimetype": "text/x-python",
   "name": "python",
   "nbconvert_exporter": "python",
   "pygments_lexer": "ipython3",
   "version": "3.6.5"
  }
 },
 "nbformat": 4,
 "nbformat_minor": 2
}
