{
 "cells": [
  {
   "cell_type": "markdown",
   "metadata": {},
   "source": [
    "extend the algorithm from the previous problem such that it will be able to handle cases when one of the patterns is a prefix of another pattern. In this case, some patterns are spelled in a trie by traversing a path from the root to an internal vertex, but not to a leaf.\n"
   ]
  },
  {
   "cell_type": "code",
   "execution_count": 1,
   "metadata": {},
   "outputs": [],
   "source": [
    "def build_trie(patterns):\n",
    "    trie = {}\n",
    "    trie[0] = {}\n",
    "    index = 1\n",
    "\n",
    "    for pattern in patterns:\n",
    "        curr_node = trie[0]\n",
    "        for letter in pattern:\n",
    "            if letter in curr_node.keys():  #if the alphabet is there in the Current paths emanating from Current node\n",
    "                curr_node = trie[curr_node[letter]] #move to the next root node\n",
    "            else:\n",
    "                curr_node[letter] = index # adding node number to this letter, ex 0: {'a': 1} means 0-1 edge is a\n",
    "                trie[index] = {} # creating dictionary for letters to follow the Current letter, ex: creating 1:{} so we can store  1-somenode\n",
    "                #                 where some alphabet  is on edge 1-somenode\n",
    "                curr_node = trie[index]  #shifting to the newly created node\n",
    "                index = index + 1\n",
    "        curr_node['$'] = {} #adding a dollar symbol at the end\n",
    "    return trie"
   ]
  },
  {
   "cell_type": "code",
   "execution_count": 2,
   "metadata": {},
   "outputs": [],
   "source": [
    "def prefix_trie_matching(text, trie,external_index):\n",
    "    index = 0 \n",
    "    symbol = text[index] #start comparing from 0th index\n",
    "    current = trie[0] #and also trie from 0th index\n",
    "    res = -1 #default result \n",
    "\n",
    "    while True:\n",
    "        if (not current) or ('$' in current):#if there is no node in this trie or next is the end\n",
    "            return res\n",
    "        if symbol in current: #check if there is link from this node to next level of nodes\n",
    "            current = trie[current[symbol]] #move to that node\n",
    "            res = external_index # change curr result to external index\n",
    "            index += 1\n",
    "            if index < len(text):\n",
    "                symbol = text[index]\n",
    "            elif '$' in current:\n",
    "                return res\n",
    "            else:\n",
    "                symbol = '@'\n",
    "                res = -1\n",
    "        else:\n",
    "            return res if '$' in current else -1"
   ]
  },
  {
   "cell_type": "code",
   "execution_count": 3,
   "metadata": {},
   "outputs": [],
   "source": [
    "def solve(text, n, patterns):\n",
    "    result = set()\n",
    "    trie = build_trie(patterns)#BUILD TRIE USING FIRST WEEK FUNCTION\n",
    "    n = len(text)\n",
    "    \n",
    "    for i in range(n):\n",
    "        if prefix_trie_matching(text[i:], trie,i)!=-1:\n",
    "            result.add(prefix_trie_matching(text[i:], trie,i))\n",
    "\n",
    "    return sorted(list(result))"
   ]
  },
  {
   "cell_type": "code",
   "execution_count": 5,
   "metadata": {},
   "outputs": [
    {
     "name": "stdout",
     "output_type": "stream",
     "text": [
      "aaa\n",
      "1\n",
      "aa\n",
      "0 1\n",
      "\n",
      "acata\n",
      "3\n",
      "at \n",
      "ag\n",
      "a\n",
      "0 2 4\n",
      "\n"
     ]
    }
   ],
   "source": [
    "for ok in range(2):\n",
    "    if __name__ == \"__main__\":\n",
    "    #     text = sys.stdin.readline().strip()\n",
    "        text = input().strip()\n",
    "    #     n = int(sys.stdin.readline().strip())\n",
    "        n = int(input().strip())\n",
    "        patterns = []\n",
    "        for i in range(n):\n",
    "    #         patterns += [sys.stdin.readline().strip()]\n",
    "            patterns+= [ input().strip()]\n",
    "\n",
    "        ans = solve(text, n, patterns)\n",
    "        print(' '.join(map(str,ans))+'\\n')\n",
    "    #     sys.stdout.write(' '.join(map(str, ans)) + '\\n')"
   ]
  },
  {
   "cell_type": "code",
   "execution_count": null,
   "metadata": {},
   "outputs": [],
   "source": []
  },
  {
   "cell_type": "code",
   "execution_count": null,
   "metadata": {},
   "outputs": [],
   "source": [
    "# python3\n",
    "import sys\n",
    "\n",
    "NA = -1\n",
    "\n",
    "class Node:\n",
    "\tdef __init__ (self):\n",
    "\t\tself.next = [NA] * 4\n",
    "\t\tself.patternEnd = False\n",
    "\n",
    "def solve (text, n, patterns):\n",
    "\tresult = []\n",
    "\n",
    "\t// write your code here\n",
    "\n",
    "\treturn result\n",
    "\n",
    "text = sys.stdin.readline ().strip ()\n",
    "n = int (sys.stdin.readline ().strip ())\n",
    "patterns = []\n",
    "for i in range (n):\n",
    "\tpatterns += [sys.stdin.readline ().strip ()]\n",
    "\n",
    "ans = solve (text, n, patterns)\n",
    "\n",
    "sys.stdout.write (' '.join (map (str, ans)) + '\\n')\n"
   ]
  }
 ],
 "metadata": {
  "kernelspec": {
   "display_name": "Python 3",
   "language": "python",
   "name": "python3"
  },
  "language_info": {
   "codemirror_mode": {
    "name": "ipython",
    "version": 3
   },
   "file_extension": ".py",
   "mimetype": "text/x-python",
   "name": "python",
   "nbconvert_exporter": "python",
   "pygments_lexer": "ipython3",
   "version": "3.6.5"
  }
 },
 "nbformat": 4,
 "nbformat_minor": 2
}
