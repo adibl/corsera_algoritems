{
 "cells": [
  {
   "cell_type": "code",
   "execution_count": 10,
   "metadata": {},
   "outputs": [
    {
     "name": "stdout",
     "output_type": "stream",
     "text": [
      "1 2 \n",
      "0 1\n",
      "0 1\n",
      "0\n",
      "-1\n"
     ]
    }
   ],
   "source": [
    "# python3\n",
    "\n",
    "\n",
    "class Buffer:\n",
    "\n",
    "    def __init__(self, size):\n",
    "        self.size = size\n",
    "        self.end_time = []\n",
    "\n",
    "    def delete_processed(self, request):\n",
    "        \"\"\"deletes processed elements of the buffer by the request's arrival time.\"\"\"\n",
    "        while self.end_time:\n",
    "            if self.end_time[0] <= request.arrival_time:\n",
    "                self.end_time.pop(0)\n",
    "            else:\n",
    "                break\n",
    "\n",
    "    def process(self, request):\n",
    "        \"\"\"Processes incoming request.\"\"\"\n",
    "        self.delete_processed(request)\n",
    "\n",
    "        if len(self.end_time) == self.size: #if buffer is full\n",
    "            return Response(True, -1)\n",
    "\n",
    "        if len(self.end_time) == 0:   #if buffer is empty\n",
    "            self.end_time = [request.arrival_time + request.process_time]\n",
    "            return Response(False, request.arrival_time)\n",
    "\n",
    "        response = Response(False, self.end_time[-1])\n",
    "        self.end_time.append(self.end_time[-1] + request.process_time)\n",
    "        return response\n",
    "\n",
    "\n",
    "class Request:\n",
    "    \"\"\"Incoming network packet.\"\"\"\n",
    "\n",
    "    def __init__(self, arrival_time, process_time):\n",
    "        self.arrival_time = arrival_time\n",
    "        self.process_time = process_time\n",
    "\n",
    "\n",
    "class Response:\n",
    "    \"\"\"Response of the network buffer.\"\"\"\n",
    "\n",
    "    def __init__(self, dropped, start_time):\n",
    "        self.dropped = dropped\n",
    "        self.start_time = start_time\n",
    "\n",
    "\n",
    "def read_requests(count):\n",
    "    requests = []\n",
    "    for i in range(count):\n",
    "        arrival_time, process_time = map(int, input().strip().split())\n",
    "        requests.append(Request(arrival_time, process_time))\n",
    "    return requests\n",
    "\n",
    "\n",
    "def process_requests(requests, buffer):\n",
    "    return [buffer.process(r) for r in requests]\n",
    "\n",
    "\n",
    "def print_responses(responses):\n",
    "    for response in responses:\n",
    "        print(response.start_time if not response.dropped else -1)\n",
    "\n",
    "\n",
    "if __name__ == \"__main__\":\n",
    "    size, count = map(int, input().strip().split())\n",
    "    requests = read_requests(count)\n",
    "    buffer = Buffer(size)\n",
    "    responses = process_requests(requests, buffer)\n",
    "\n",
    "    print_responses(responses)"
   ]
  },
  {
   "cell_type": "code",
   "execution_count": null,
   "metadata": {},
   "outputs": [],
   "source": []
  }
 ],
 "metadata": {
  "kernelspec": {
   "display_name": "Python 3",
   "language": "python",
   "name": "python3"
  },
  "language_info": {
   "codemirror_mode": {
    "name": "ipython",
    "version": 3
   },
   "file_extension": ".py",
   "mimetype": "text/x-python",
   "name": "python",
   "nbconvert_exporter": "python",
   "pygments_lexer": "ipython3",
   "version": "3.7.3"
  }
 },
 "nbformat": 4,
 "nbformat_minor": 2
}
