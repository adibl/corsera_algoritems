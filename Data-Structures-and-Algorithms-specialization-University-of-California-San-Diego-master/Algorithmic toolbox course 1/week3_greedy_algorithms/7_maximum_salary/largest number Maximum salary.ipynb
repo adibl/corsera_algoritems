{
 "cells": [
  {
   "cell_type": "markdown",
   "metadata": {},
   "source": [
    "your boss gives you a few pieces of paper with numbers on it and asks you to compose a largest number from these numbers. The resulting number is going to be your salary, so you are very much interested in maximizing this number. How can you do this? "
   ]
  },
  {
   "cell_type": "markdown",
   "metadata": {},
   "source": [
    "In the lectures, we considered the following algorithm for composing the largest number out of the given single-digit numbers. \n",
    "\n",
    "LargestNumber(Digits): \n",
    ">answer←empty string  \n",
    ">while Digits is not empty:  \n",
    ">> maxDigit←−∞  \n",
    ">> for digit in Digits: \n",
    ">>> if digit≥maxDigit:   \n",
    ">>>> maxDigit←digit   \n",
    "\n",
    ">> append maxDigit to answer   \n",
    ">> remove maxDigit from Digits    \n",
    "\n",
    "return answer "
   ]
  },
  {
   "cell_type": "markdown",
   "metadata": {},
   "source": [
    "Unfortunately, this algorithm works only in case the input consists of single-digit numbers. For example, for an input consisting of two integers 23 and 3 (23 is not a single-digit number!) it returns 233, while the largest number is in fact 323. In other words, using the largest number from the input as the first number is not a safe move."
   ]
  },
  {
   "cell_type": "code",
   "execution_count": 10,
   "metadata": {},
   "outputs": [
    {
     "name": "stdout",
     "output_type": "stream",
     "text": [
      " 2 21 2\n",
      "221\n"
     ]
    }
   ],
   "source": [
    "#Uses python3\n",
    "\n",
    "import sys\n",
    "\n",
    "# def sort_by_first_digit(m,n):\n",
    "#     '''give string inputs'''\n",
    "#     if int(m[0]) > int(n[0]):\n",
    "#         return m\n",
    "#     elif int(m[0]) < int(n[0]):\n",
    "#         return n\n",
    "#     else:\n",
    "#         return 'okay'\n",
    "def IsGreaterOrEqual(digit, max_digit):\n",
    "    '''check both the combinations digit_max_digit and max_digit_digit'''\n",
    "    return int((digit)+(max_digit))>=int((max_digit)+(digit))\n",
    "\n",
    "    \n",
    "def largest_number(a):\n",
    "    result = []\n",
    "    \n",
    "#     a = sorted(a, key = lambda x: int(x[0]), reverse=True)\n",
    "    while a:\n",
    "        max_digit = '0'\n",
    "        for digit in a:\n",
    "            if IsGreaterOrEqual(digit, max_digit):\n",
    "                max_digit = digit\n",
    "        result.append(max_digit)\n",
    "        a.remove(max_digit)\n",
    "\n",
    "    res = \"\"\n",
    "    for x in result:\n",
    "        res += x\n",
    "    return res\n",
    "\n",
    "if __name__ == '__main__':\n",
    "#     input = sys.stdin.read()\n",
    "    data = input().split()\n",
    "    a = data[1:]\n",
    "    print(largest_number(a))"
   ]
  },
  {
   "cell_type": "code",
   "execution_count": null,
   "metadata": {},
   "outputs": [],
   "source": []
  }
 ],
 "metadata": {
  "kernelspec": {
   "display_name": "Python 3",
   "language": "python",
   "name": "python3"
  },
  "language_info": {
   "codemirror_mode": {
    "name": "ipython",
    "version": 3
   },
   "file_extension": ".py",
   "mimetype": "text/x-python",
   "name": "python",
   "nbconvert_exporter": "python",
   "pygments_lexer": "ipython3",
   "version": "3.6.5"
  }
 },
 "nbformat": 4,
 "nbformat_minor": 2
}
