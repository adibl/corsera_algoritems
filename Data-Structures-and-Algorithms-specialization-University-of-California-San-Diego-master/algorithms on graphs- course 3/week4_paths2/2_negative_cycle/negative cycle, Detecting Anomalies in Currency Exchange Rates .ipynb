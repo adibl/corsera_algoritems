{
 "cells": [
  {
   "cell_type": "markdown",
   "metadata": {},
   "source": [
    "**Task.** Given an directed graph with possibly negative edge weights and with n vertices and m edges, check whether it contains a cycle of negative weight. "
   ]
  },
  {
   "cell_type": "code",
   "execution_count": null,
   "metadata": {},
   "outputs": [],
   "source": [
    "test cases:\n",
    "    4 4 1 2 -5 4 1 2 2 3 2 3 1 1 Output: 1\n"
   ]
  },
  {
   "cell_type": "markdown",
   "metadata": {},
   "source": [
    "Algorithm:\n",
    "\n",
    "* Run |V| iterations of Bellman–Ford algorithm, save node v relaxed on the last iteration\n",
    "* v is reachable from a negative cycle\n",
    "* Start from x ← v, follow the link x ← prev[x] for |V | times — will be definitely on the cycle\n",
    "* Save y ← x and go x ← prev[x] until x = y again"
   ]
  },
  {
   "cell_type": "code",
   "execution_count": 1,
   "metadata": {},
   "outputs": [
    {
     "name": "stdout",
     "output_type": "stream",
     "text": [
      "4 4 1 2 -5 4 1 2 2 3 2 3 1 1\n",
      "1\n"
     ]
    }
   ],
   "source": [
    "#Uses python3\n",
    "\n",
    "import sys\n",
    "\n",
    "\n",
    "def negative_cycle(adj, cost):\n",
    "    # initiate all distances and previouses to be -1.\n",
    "    dist = [-1] * len(adj)\n",
    "    prev = [-1] * len(adj)\n",
    "    #just start from first vertex\n",
    "    dist[0] = 0\n",
    "    #first run Bellamford V - 1 cycles.  \n",
    "    #if no negative cycles then this should be the last iteration of changes\n",
    "    for i in range(len(adj)):   #do this V times total\n",
    "        for j in range(len(adj)):\n",
    "            for ind,k in enumerate(adj[j]):\n",
    "                jkCost = cost[j][ind]\n",
    "                if dist[k] > dist[j] + jkCost:\n",
    "                    dist[k] = dist[j] + jkCost\n",
    "                    prev[k] = j\n",
    "        #check at V - 1 and then V to see if they change\n",
    "        if i == len(adj)-2:\n",
    "            dist_Vminus1 = list(dist)\n",
    "        if i == len(adj)-1:\n",
    "            dist_V = list(dist)\n",
    "    #if there are changes on the Vth cycle,  then there was a negative cycle\n",
    "    if dist_Vminus1 == dist_V:\n",
    "        return 0\n",
    "    else:\n",
    "        return 1\n",
    "\n",
    "\n",
    "if __name__ == '__main__':\n",
    "#     input = sys.stdin.read()\n",
    "    data = list(map(int, input().split()))\n",
    "    n, m = data[0:2]\n",
    "    data = data[2:]\n",
    "    edges = list(zip(zip(data[0:(3 * m):3], data[1:(3 * m):3]), data[2:(3 * m):3]))\n",
    "    data = data[3 * m:]\n",
    "    adj = [[] for _ in range(n)]\n",
    "    cost = [[] for _ in range(n)]\n",
    "    for ((a, b), w) in edges:\n",
    "        adj[a - 1].append(b - 1)\n",
    "        cost[a - 1].append(w)\n",
    "    print(negative_cycle(adj, cost))\n"
   ]
  },
  {
   "cell_type": "code",
   "execution_count": null,
   "metadata": {},
   "outputs": [],
   "source": []
  }
 ],
 "metadata": {
  "kernelspec": {
   "display_name": "Python 3",
   "language": "python",
   "name": "python3"
  },
  "language_info": {
   "codemirror_mode": {
    "name": "ipython",
    "version": 3
   },
   "file_extension": ".py",
   "mimetype": "text/x-python",
   "name": "python",
   "nbconvert_exporter": "python",
   "pygments_lexer": "ipython3",
   "version": "3.6.5"
  }
 },
 "nbformat": 4,
 "nbformat_minor": 2
}
