{
 "cells": [
  {
   "cell_type": "code",
   "execution_count": 1,
   "metadata": {},
   "outputs": [],
   "source": [
    "import math\n",
    "import random\n"
   ]
  },
  {
   "cell_type": "markdown",
   "metadata": {},
   "source": [
    "Now, we would like to find the last digit of a partial sum of Fibonacci numbers: Fm + Fm+1 +···+ Fn"
   ]
  },
  {
   "cell_type": "markdown",
   "metadata": {},
   "source": [
    "we can again use the property of periodicity to find this"
   ]
  },
  {
   "cell_type": "code",
   "execution_count": 2,
   "metadata": {},
   "outputs": [],
   "source": [
    "def find_time_period_10(n):\n",
    "    prev,curr = 0,1\n",
    "    for i in range(n):\n",
    "        prev,curr = curr, (prev+curr)%10\n",
    "        if (prev,curr) == (0,1):\n",
    "            print('time period for mod 10 is', i+1)\n",
    "            break\n",
    "    return"
   ]
  },
  {
   "cell_type": "code",
   "execution_count": 3,
   "metadata": {},
   "outputs": [
    {
     "name": "stdout",
     "output_type": "stream",
     "text": [
      "time period for mod 10 is 60\n",
      "time period for mod 10 is 60\n",
      "time period for mod 10 is 60\n",
      "time period for mod 10 is 60\n",
      "time period for mod 10 is 60\n",
      "time period for mod 10 is 60\n",
      "time period for mod 10 is 60\n",
      "time period for mod 10 is 60\n",
      "time period for mod 10 is 60\n",
      "time period for mod 10 is 60\n"
     ]
    }
   ],
   "source": [
    "for i in range(10):\n",
    "    n = random.randint(100,1000)\n",
    "    find_time_period_10(n)"
   ]
  },
  {
   "cell_type": "markdown",
   "metadata": {},
   "source": [
    "so time period is 60 for factorial n mod 10"
   ]
  },
  {
   "cell_type": "code",
   "execution_count": 4,
   "metadata": {},
   "outputs": [
    {
     "data": {
      "text/plain": [
       "12"
      ]
     },
     "execution_count": 4,
     "metadata": {},
     "output_type": "execute_result"
    }
   ],
   "source": [
    "a = [1,2,3,4,5]\n",
    "summ = 0\n",
    "for i in range(2,5):\n",
    "    summ+=a[i]\n",
    "summ"
   ]
  },
  {
   "cell_type": "code",
   "execution_count": 12,
   "metadata": {},
   "outputs": [
    {
     "name": "stdout",
     "output_type": "stream",
     "text": [
      "3 7\n",
      "0\n"
     ]
    }
   ],
   "source": [
    "def fibonacci_partial_sum_naive(from_, to):\n",
    "    sum1 = 0\n",
    "\n",
    "    current = 0\n",
    "    nex  = 1\n",
    "\n",
    "    for i in range(to + 1):\n",
    "        if i >= from_:\n",
    "            sum1 = (sum1 + current)%10\n",
    "\n",
    "        current, nex = nex, (current + nex)%10\n",
    "\n",
    "    return sum1 \n",
    "\n",
    "def fibonacci(n):\n",
    "    if n<2:\n",
    "        return n\n",
    "    prev,curr = 0,1\n",
    "    for i in range(n-1):\n",
    "        prev,curr = curr, (prev+curr)%10\n",
    "    return curr\n",
    "\n",
    "def sum_of_period10():\n",
    "    prev,curr =0,1\n",
    "    summ=0\n",
    "    for i in range(2,60):\n",
    "        prev, curr = curr, (curr+prev)%10\n",
    "        summ = (summ+curr)%10\n",
    "    return summ\n",
    "    \n",
    "def fibonacci_partial_sum_(m,n):\n",
    "    time_period = 60\n",
    "    if (n-m)%60 == 0:\n",
    "        return int((sum_of_period10*((n-m)/60))%10)\n",
    "    if n==m:\n",
    "        return fibonacci(n)\n",
    "    if (n%60 !=0) and (m%60 !=0):\n",
    "        total_periods = (n//60-m//60)\n",
    "    elif (n%60)\n",
    "    \n",
    "#     print(total_periods)\n",
    "    sum_of_each_period = 0\n",
    "    sum_of_each_period = sum_of_period10() \n",
    "    \n",
    "    prev,curr = fibonacci((m%time_period))%10, fibonacci((m%time_period)+1)%10\n",
    "    sum_before = (curr+prev)%10\n",
    "    if (m%60) <2:\n",
    "        sum_before = m%60\n",
    "    else:\n",
    "        for i in range(m%60-2):\n",
    "            prev, curr = curr, (curr+prev)%10\n",
    "            sum_before = (sum_before+curr)%10\n",
    "    \n",
    "    sum_after = 0\n",
    "    if (n%60) <2:\n",
    "        sum_after = 0\n",
    "    else: \n",
    "#         prev, curr = fibonacci((n%60)-2)%10, fibonacci((n%60)-1) \n",
    "        prev, curr = 0,1\n",
    "        sum_after = 1\n",
    "        for i in range(n%60-2):\n",
    "            prev, curr = curr, (curr+prev)%10\n",
    "            sum_before = (sum_before+curr)%10\n",
    "    \n",
    "    return (sum_of_each_period*total_periods + sum_after+sum_before)%10\n",
    "\n",
    "if __name__ == '__main__':\n",
    "#     input = sys.stdin.read();\n",
    "    from_, to = map(int, input().split())\n",
    "    print(fibonacci_partial_sum_(from_, to))"
   ]
  },
  {
   "cell_type": "code",
   "execution_count": null,
   "metadata": {},
   "outputs": [],
   "source": []
  }
 ],
 "metadata": {
  "kernelspec": {
   "display_name": "Python 3",
   "language": "python",
   "name": "python3"
  },
  "language_info": {
   "codemirror_mode": {
    "name": "ipython",
    "version": 3
   },
   "file_extension": ".py",
   "mimetype": "text/x-python",
   "name": "python",
   "nbconvert_exporter": "python",
   "pygments_lexer": "ipython3",
   "version": "3.6.5"
  }
 },
 "nbformat": 4,
 "nbformat_minor": 2
}
