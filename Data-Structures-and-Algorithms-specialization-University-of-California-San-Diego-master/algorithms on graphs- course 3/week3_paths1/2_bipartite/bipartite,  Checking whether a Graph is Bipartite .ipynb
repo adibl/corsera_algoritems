{
 "cells": [
  {
   "cell_type": "markdown",
   "metadata": {},
   "source": [
    "An undirected graph is called bipartite if its vertices can be split into two parts such that each edge of the graph joins to vertices from different parts. Bipartite graphs arise naturally in applications where a graph is used to model connections between objects of two different types (say, boys and girls; or students and dormitories).   \n",
    "An alternative definition is the following: a graph is bipartite if its vertices can be colored with two colors (say, black and white) such that the endpoints of each edge have different colors.\n"
   ]
  },
  {
   "cell_type": "code",
   "execution_count": null,
   "metadata": {},
   "outputs": [],
   "source": [
    "test cases:\n",
    "    4 4 1 2 4 1 2 3 3 1 Output: 0\n",
    "\n",
    "    5 4 5 2 4 2 3 4 1 4 Output: 1\n"
   ]
  },
  {
   "cell_type": "markdown",
   "metadata": {},
   "source": [
    "Adapt the `breadth-first search` to solve this problem."
   ]
  },
  {
   "cell_type": "code",
   "execution_count": 5,
   "metadata": {},
   "outputs": [
    {
     "name": "stdout",
     "output_type": "stream",
     "text": [
      "4 4 1 2 4 1 2 3 3 1\n",
      "0\n",
      "  5 4 5 2 4 2 3 4 1 4\n",
      "1\n"
     ]
    }
   ],
   "source": [
    "#Uses python3\n",
    "\n",
    "import sys\n",
    "import queue\n",
    "\n",
    "def bipartite(adj):\n",
    "    '''perform breadth first search.initialize to zeros to inidicate undiscovered. At each level, tag each discovered element \n",
    "    with alternating tag of one or two to mark the two regions, if It's biparite,  we shouldn't see connected nodes of the \n",
    "    same tag as the source'''\n",
    "\n",
    "    q = queue.Queue()    #to process from one point and outerwards from that point\n",
    "    #initialize all vertices to zero (undiscovered)\n",
    "    tag = len(adj) * [0]\n",
    "    #initialize first vertex with tag 1 and add to Queue\n",
    "    tag[0] = 1\n",
    "    q.put(0)\n",
    "    while not q.empty():\n",
    "        u = q.get()\n",
    "        for i in adj[u]:    #process all immediate neighbors\n",
    "            #check if tag is the same as u, if it is, the graph is not bipartite\n",
    "            if tag[i] == tag[u]:\n",
    "                return 0  #tag is not bipartite since tag(u) = tag(i)\n",
    "            elif tag[i] == 0:\n",
    "                q.put(i)  #if undiscovered, add to queue for processing and give it a tag of alternating number\n",
    "                if tag[u] == 1:\n",
    "                    tag[i] = 2\n",
    "                else:\n",
    "                    tag[i] = 1\n",
    "\n",
    "    return 1\n",
    "\n",
    "\n",
    "if __name__ == '__main__':\n",
    "#     input = sys.stdin.read()\n",
    "    for i in range(2):\n",
    "        data = list(map(int, input().split()))\n",
    "        n, m = data[0:2]\n",
    "        data = data[2:]\n",
    "        edges = list(zip(data[0:(2 * m):2], data[1:(2 * m):2]))\n",
    "        adj = [[] for _ in range(n)]\n",
    "        for (a, b) in edges:\n",
    "            adj[a - 1].append(b - 1)\n",
    "            adj[b - 1].append(a - 1)\n",
    "        print(bipartite(adj))\n"
   ]
  },
  {
   "cell_type": "code",
   "execution_count": null,
   "metadata": {},
   "outputs": [],
   "source": []
  }
 ],
 "metadata": {
  "kernelspec": {
   "display_name": "Python 3",
   "language": "python",
   "name": "python3"
  },
  "language_info": {
   "codemirror_mode": {
    "name": "ipython",
    "version": 3
   },
   "file_extension": ".py",
   "mimetype": "text/x-python",
   "name": "python",
   "nbconvert_exporter": "python",
   "pygments_lexer": "ipython3",
   "version": "3.6.5"
  }
 },
 "nbformat": 4,
 "nbformat_minor": 2
}
