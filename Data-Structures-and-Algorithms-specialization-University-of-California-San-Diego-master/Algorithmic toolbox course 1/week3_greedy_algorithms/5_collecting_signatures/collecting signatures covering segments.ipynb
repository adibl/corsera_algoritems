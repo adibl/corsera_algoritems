{
 "cells": [
  {
   "cell_type": "code",
   "execution_count": 6,
   "metadata": {},
   "outputs": [
    {
     "name": "stdout",
     "output_type": "stream",
     "text": [
      "4 4 7 1 3 2 5 5 6 \n",
      "2\n",
      "3 6 "
     ]
    }
   ],
   "source": [
    "from operator import attrgetter\n",
    "from collections import namedtuple\n",
    "\n",
    "Segment = namedtuple('Segment', 'start end')\n",
    "\n",
    "def optimal_point_naive(segments):\n",
    "    points = []\n",
    "    #write your code here\n",
    "    for s in segments:\n",
    "        points.append(s.start)\n",
    "        points.append(s.end)\n",
    "    return points\n",
    "\n",
    "def optimal_points(segments):\n",
    "#     print(segments)\n",
    "    points = []\n",
    "    segments = sorted(segments, key=attrgetter('end'))\n",
    "    curr_right_end = segments[0].end\n",
    "    points.append(curr_right_end)\n",
    "    i = 1\n",
    "    while i < len(segments):\n",
    "        if curr_right_end < segments[i].start:\n",
    "            curr_right_end = segments[i].end\n",
    "            points.append(curr_right_end)\n",
    "        i += 1\n",
    "\n",
    "    return points\n",
    "\n",
    "\n",
    "if __name__ == '__main__':\n",
    "#     input = sys.stdin.read()\n",
    "    n, *data = map(int, input().split())\n",
    "    segments = list(map(lambda x: Segment(x[0], x[1]), zip(data[::2], data[1::2])))\n",
    "    points = optimal_points(segments)\n",
    "    print(len(points))\n",
    "    for p in points:\n",
    "        print(p, end=' ')"
   ]
  }
 ],
 "metadata": {
  "kernelspec": {
   "display_name": "Python 3",
   "language": "python",
   "name": "python3"
  },
  "language_info": {
   "codemirror_mode": {
    "name": "ipython",
    "version": 3
   },
   "file_extension": ".py",
   "mimetype": "text/x-python",
   "name": "python",
   "nbconvert_exporter": "python",
   "pygments_lexer": "ipython3",
   "version": "3.6.5"
  }
 },
 "nbformat": 4,
 "nbformat_minor": 2
}
