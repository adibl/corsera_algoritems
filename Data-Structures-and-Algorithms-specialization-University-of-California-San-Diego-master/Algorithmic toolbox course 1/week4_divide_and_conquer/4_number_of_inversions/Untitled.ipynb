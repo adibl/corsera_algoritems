{
 "cells": [
  {
   "cell_type": "code",
   "execution_count": 25,
   "metadata": {},
   "outputs": [
    {
     "name": "stdout",
     "output_type": "stream",
     "text": [
      "5 2 3 9 2 9 \n",
      "2\n"
     ]
    }
   ],
   "source": [
    "# Uses python3\n",
    "import sys\n",
    "\n",
    "def get_num_of_inv_mid(a,b,left,mid,right):\n",
    "    #left and right are already sorted\n",
    "#     print('left',left,'mid',mid,'right',right)\n",
    "    num_of_inv = 0\n",
    "    i = left\n",
    "    j = mid\n",
    "    curr = left\n",
    "    while i<(mid) and j<right+1:\n",
    "        if a[i]<a[j]:\n",
    "            b[curr] = a[i]\n",
    "            i+=1\n",
    "        else:\n",
    "            b[curr] = a[j]\n",
    "            j+=1\n",
    "            num_of_inv += (mid-i-1)\n",
    "#             print('\\n',num_of_inv)\n",
    "        curr+=1\n",
    "    while i< mid:\n",
    "        b[curr] = a[i]\n",
    "        i+=1\n",
    "        curr+=1\n",
    "    while j<right+1:\n",
    "#         print(curr)\n",
    "        b[curr] = a[j]\n",
    "        j+=1\n",
    "        curr+=1\n",
    "    for i in range(left,right):\n",
    "        a[i] = b[i]\n",
    "    return num_of_inv\n",
    "\n",
    "def get_number_of_inversions(a, b, left, right):\n",
    "    number_of_inversions = 0\n",
    "#     if right - left <= 1:\n",
    "#         return number_of_inversions\n",
    "    if right>left:\n",
    "        ave = (left + right) // 2\n",
    "        number_of_inversions += get_number_of_inversions(a, b, left, ave)\n",
    "#         print(number_of_inversions,'this1')\n",
    "        number_of_inversions += get_number_of_inversions(a, b, ave+1, right)\n",
    "#         print(number_of_inversions,'this2')\n",
    "        number_of_inversions += get_num_of_inv_mid(a,b,left,ave+1,right)\n",
    "#         print(number_of_inversions,'this3')\n",
    "        #write your code here\n",
    "    return number_of_inversions\n",
    "\n",
    "if __name__ == '__main__':\n",
    "#     input = sys.stdin.read()\n",
    "    n, *a = list(map(int, input().split()))\n",
    "    b = n * [0]\n",
    "    print(get_number_of_inversions(a, b, 0, len(a)-1))\n"
   ]
  },
  {
   "cell_type": "code",
   "execution_count": 17,
   "metadata": {},
   "outputs": [
    {
     "name": "stdout",
     "output_type": "stream",
     "text": [
      "5 2 3 9 2 9 \n",
      "0 this1\n",
      "0 this2\n",
      "0 this1\n",
      "0 this2\n",
      "0 this1\n",
      "0 this1\n",
      "0 this2\n",
      "0 this2\n",
      "2\n"
     ]
    }
   ],
   "source": [
    "def merge(a, b, left, ave, right):\n",
    "    inv_count = 0\n",
    "    i, j, k = left, ave, left\n",
    "    while i <= ave - 1 and j <= right:\n",
    "        if a[i] <= a[j]:\n",
    "            b[k] = a[i]\n",
    "            i += 1\n",
    "        else:\n",
    "            b[k] = a[j]\n",
    "            j += 1\n",
    "            inv_count += ave - i\n",
    "        k += 1\n",
    "    while i <= ave - 1:\n",
    "        b[k] = a[i]\n",
    "        i += 1\n",
    "        k += 1\n",
    "    while j <= right:\n",
    "        b[k] = a[j]\n",
    "        j += 1\n",
    "        k += 1\n",
    "    for i in range(left, right + 1):\n",
    "        a[i] = b[i]\n",
    "    return inv_count\n",
    "\n",
    "\n",
    "def merge_sort(a, b, left, right):\n",
    "    inv_count = 0\n",
    "    if right > left:\n",
    "        ave = (left + right) // 2\n",
    "        inv_count += merge_sort(a, b, left, ave)\n",
    "        print(inv_count,'this1')\n",
    "        inv_count += merge_sort(a, b, ave + 1, right)\n",
    "        print(inv_count,'this2')\n",
    "        inv_count += merge(a, b, left, ave + 1, right)\n",
    "\n",
    "    return inv_count\n",
    "\n",
    "\n",
    "if __name__ == '__main__':\n",
    "#     input = sys.stdin.read()\n",
    "    n, *a = list(map(int, input().split()))\n",
    "    b = n * [0]\n",
    "    print(merge_sort(a, b, 0, len(a) - 1))"
   ]
  },
  {
   "cell_type": "code",
   "execution_count": null,
   "metadata": {},
   "outputs": [],
   "source": []
  }
 ],
 "metadata": {
  "kernelspec": {
   "display_name": "Python 3",
   "language": "python",
   "name": "python3"
  },
  "language_info": {
   "codemirror_mode": {
    "name": "ipython",
    "version": 3
   },
   "file_extension": ".py",
   "mimetype": "text/x-python",
   "name": "python",
   "nbconvert_exporter": "python",
   "pygments_lexer": "ipython3",
   "version": "3.6.5"
  }
 },
 "nbformat": 4,
 "nbformat_minor": 2
}
