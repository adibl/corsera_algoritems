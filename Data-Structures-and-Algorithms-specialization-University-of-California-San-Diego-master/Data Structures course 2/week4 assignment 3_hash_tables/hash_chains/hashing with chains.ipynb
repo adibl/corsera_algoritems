{
 "cells": [
  {
   "cell_type": "code",
   "execution_count": 4,
   "metadata": {},
   "outputs": [
    {
     "name": "stdout",
     "output_type": "stream",
     "text": [
      "104\n",
      "h\n"
     ]
    }
   ],
   "source": [
    "print(ord('h'))\n",
    "print(chr(ord('h')))"
   ]
  },
  {
   "cell_type": "code",
   "execution_count": 8,
   "metadata": {},
   "outputs": [],
   "source": [
    "hash?"
   ]
  },
  {
   "cell_type": "code",
   "execution_count": 14,
   "metadata": {},
   "outputs": [],
   "source": [
    "a = []"
   ]
  },
  {
   "cell_type": "code",
   "execution_count": 17,
   "metadata": {},
   "outputs": [],
   "source": [
    "a.insert(0,3)\n",
    "a.insert(0,4)\n",
    "if 5 not in a:\n",
    "    a.insert(0,5)"
   ]
  },
  {
   "cell_type": "code",
   "execution_count": 18,
   "metadata": {
    "scrolled": true
   },
   "outputs": [
    {
     "data": {
      "text/plain": [
       "[4, 3, 5, 4, 3]"
      ]
     },
     "execution_count": 18,
     "metadata": {},
     "output_type": "execute_result"
    }
   ],
   "source": [
    "a"
   ]
  },
  {
   "cell_type": "code",
   "execution_count": 27,
   "metadata": {},
   "outputs": [
    {
     "ename": "ValueError",
     "evalue": "list.remove(x): x not in list",
     "output_type": "error",
     "traceback": [
      "\u001b[1;31m---------------------------------------------------------------------------\u001b[0m",
      "\u001b[1;31mValueError\u001b[0m                                Traceback (most recent call last)",
      "\u001b[1;32m<ipython-input-27-f5d8d6a28254>\u001b[0m in \u001b[0;36m<module>\u001b[1;34m\u001b[0m\n\u001b[1;32m----> 1\u001b[1;33m \u001b[0ma\u001b[0m\u001b[1;33m.\u001b[0m\u001b[0mremove\u001b[0m\u001b[1;33m(\u001b[0m\u001b[1;36m7\u001b[0m\u001b[1;33m)\u001b[0m\u001b[1;33m\u001b[0m\u001b[1;33m\u001b[0m\u001b[0m\n\u001b[0m",
      "\u001b[1;31mValueError\u001b[0m: list.remove(x): x not in list"
     ]
    }
   ],
   "source": [
    "a.remove(7)"
   ]
  },
  {
   "cell_type": "code",
   "execution_count": 20,
   "metadata": {
    "scrolled": true
   },
   "outputs": [
    {
     "data": {
      "text/plain": [
       "[3, 5, 4, 3]"
      ]
     },
     "execution_count": 20,
     "metadata": {},
     "output_type": "execute_result"
    }
   ],
   "source": [
    "a"
   ]
  },
  {
   "cell_type": "markdown",
   "metadata": {},
   "source": [
    "# solution"
   ]
  },
  {
   "cell_type": "code",
   "execution_count": 32,
   "metadata": {},
   "outputs": [
    {
     "name": "stdout",
     "output_type": "stream",
     "text": [
      "5 \n",
      "12\n",
      "add world\n",
      "add HellO\n",
      "check 4\n",
      "HellO world\n",
      "find World\n",
      "no\n",
      "find world\n",
      "yes\n",
      "del world\n",
      "check 4\n",
      "HellO\n",
      "del HellO\n",
      "add luck\n",
      "add GooD\n",
      "check 2\n",
      "GooD luck\n",
      "del good\n"
     ]
    }
   ],
   "source": [
    "# python3\n",
    "\n",
    "class Query:\n",
    "\n",
    "    def __init__(self, query):\n",
    "        self.type = query[0]\n",
    "        if self.type == 'check':\n",
    "            self.ind = int(query[1])\n",
    "        else:\n",
    "            self.s = query[1]   #s is string\n",
    "\n",
    "\n",
    "class QueryProcessor:\n",
    "    _multiplier = 263\n",
    "    _prime = 1000000007\n",
    "\n",
    "    def __init__(self, bucket_count):\n",
    "        self.bucket_count = bucket_count\n",
    "        # store all strings in one list\n",
    "        self.elems = [[] for i in range(bucket_count)]\n",
    "\n",
    "    def _hash_func(self, s):\n",
    "        ans = 0\n",
    "        for c in reversed(s):\n",
    "            ans = (ans * self._multiplier + ord(c)) % self._prime\n",
    "        return ans % self.bucket_count\n",
    "\n",
    "    def write_search_result(self, was_found):\n",
    "        print('yes' if was_found else 'no')\n",
    "\n",
    "    def write_chain(self, chain): #prints a list as a string.\n",
    "        print(' '.join(chain))\n",
    "\n",
    "    def read_query(self):\n",
    "        return Query(input().split())\n",
    "\n",
    "    def process_query(self, query):\n",
    "        if query.type == \"check\":\n",
    "            self.write_chain(self.elems[query.ind])\n",
    "            # use reverse order, because we append strings to the end\n",
    "#             self.write_chain(cur for cur in reversed(self.elems)\n",
    "#                         if self._hash_func(cur) == query.ind)\n",
    "        else:\n",
    "            temp_hash = self._hash_func(query.s)\n",
    "            if query.type == 'add' and (query.s not in self.elems[temp_hash]):\n",
    "                \n",
    "                self.elems[temp_hash].insert(0,query.s)\n",
    "            elif query.type == 'find':\n",
    "                if query.s in self.elems[temp_hash]:\n",
    "                    print('yes')\n",
    "                else:\n",
    "                    print('no')\n",
    "            elif query.type == 'del':\n",
    "#                 if query.s in self.elems[temp_hash]:\n",
    "                try:\n",
    "                    self.elems[temp_hash].remove(query.s)\n",
    "                except ValueError:\n",
    "                    pass\n",
    "#             try:\n",
    "#                 ind = self.elems.index(query.s)\n",
    "#             except ValueError:\n",
    "#                 ind = -1\n",
    "#             if query.type == 'find':\n",
    "#                 self.write_search_result(ind != -1)\n",
    "#             elif query.type == 'add':\n",
    "#                 if ind == -1:\n",
    "#                     self.elems.append(query.s)\n",
    "#             else:\n",
    "#                 if ind != -1:\n",
    "#                     self.elems.pop(ind)\n",
    "\n",
    "    def process_queries(self):\n",
    "        n = int(input())\n",
    "        for i in range(n):\n",
    "            self.process_query(self.read_query())\n",
    "\n",
    "if __name__ == '__main__':\n",
    "    bucket_count = int(input())\n",
    "    proc = QueryProcessor(bucket_count)\n",
    "    proc.process_queries()\n"
   ]
  },
  {
   "cell_type": "markdown",
   "metadata": {},
   "source": [
    "# starter solution from coursera"
   ]
  },
  {
   "cell_type": "code",
   "execution_count": null,
   "metadata": {},
   "outputs": [],
   "source": [
    "# python3\n",
    "\n",
    "class Query:\n",
    "\n",
    "    def __init__(self, query):\n",
    "        self.type = query[0]\n",
    "        if self.type == 'check':\n",
    "            self.ind = int(query[1])\n",
    "        else:\n",
    "            self.s = query[1]\n",
    "\n",
    "\n",
    "class QueryProcessor:\n",
    "    _multiplier = 263\n",
    "    _prime = 1000000007\n",
    "\n",
    "    def __init__(self, bucket_count):\n",
    "        self.bucket_count = bucket_count\n",
    "        # store all strings in one list\n",
    "        self.elems = []\n",
    "\n",
    "    def _hash_func(self, s):\n",
    "        ans = 0\n",
    "        for c in reversed(s):\n",
    "            ans = (ans * self._multiplier + ord(c)) % self._prime\n",
    "        return ans % self.bucket_count\n",
    "\n",
    "    def write_search_result(self, was_found):\n",
    "        print('yes' if was_found else 'no')\n",
    "\n",
    "    def write_chain(self, chain):\n",
    "        print(' '.join(chain))\n",
    "\n",
    "    def read_query(self):\n",
    "        return Query(input().split())\n",
    "\n",
    "    def process_query(self, query):\n",
    "        if query.type == \"check\":\n",
    "            # use reverse order, because we append strings to the end\n",
    "            self.write_chain(cur for cur in reversed(self.elems)\n",
    "                        if self._hash_func(cur) == query.ind)\n",
    "        else:\n",
    "            try:\n",
    "                ind = self.elems.index(query.s)\n",
    "            except ValueError:\n",
    "                ind = -1\n",
    "            if query.type == 'find':\n",
    "                self.write_search_result(ind != -1)\n",
    "            elif query.type == 'add':\n",
    "                if ind == -1:\n",
    "                    self.elems.append(query.s)\n",
    "            else:\n",
    "                if ind != -1:\n",
    "                    self.elems.pop(ind)\n",
    "\n",
    "    def process_queries(self):\n",
    "        n = int(input())\n",
    "        for i in range(n):\n",
    "            self.process_query(self.read_query())\n",
    "\n",
    "if __name__ == '__main__':\n",
    "    bucket_count = int(input())\n",
    "    proc = QueryProcessor(bucket_count)\n",
    "    proc.process_queries()\n"
   ]
  }
 ],
 "metadata": {
  "kernelspec": {
   "display_name": "Python 3",
   "language": "python",
   "name": "python3"
  },
  "language_info": {
   "codemirror_mode": {
    "name": "ipython",
    "version": 3
   },
   "file_extension": ".py",
   "mimetype": "text/x-python",
   "name": "python",
   "nbconvert_exporter": "python",
   "pygments_lexer": "ipython3",
   "version": "3.7.3"
  }
 },
 "nbformat": 4,
 "nbformat_minor": 2
}
