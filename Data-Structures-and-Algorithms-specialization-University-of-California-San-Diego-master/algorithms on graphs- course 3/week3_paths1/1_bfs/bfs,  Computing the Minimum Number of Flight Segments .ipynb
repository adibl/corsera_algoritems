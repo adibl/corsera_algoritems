{
 "cells": [
  {
   "cell_type": "markdown",
   "metadata": {},
   "source": [
    "You would like to compute the minimum number of flight segments to get from one city to another one. For this, you construct the following undirected graph: vertices represent cities, there is an edge between two vertices whenever there is a flight between the corresponding two cities. Then, it suffices to find a shortest path from one of the given cities to the other one"
   ]
  },
  {
   "cell_type": "markdown",
   "metadata": {},
   "source": [
    "**Task.** Given an undirected graph with n vertices and m edges and two vertices u and v, compute the length of a shortest path between u and v (that is, the minimum number of edges in a path from u to v). "
   ]
  },
  {
   "cell_type": "markdown",
   "metadata": {},
   "source": [
    "*Output* the minimum number of edges in a path from u to v, or −1 if there is no path."
   ]
  },
  {
   "cell_type": "code",
   "execution_count": null,
   "metadata": {},
   "outputs": [],
   "source": [
    "test cases:\n",
    "    4 4 1 2 4 1 2 3 3 1 2 4 Output: 2\n",
    "    \n",
    "    5 4 5 2 1 3 3 4 1 4 3 5 Output: -1(no path between 3 and 5)"
   ]
  },
  {
   "cell_type": "code",
   "execution_count": 3,
   "metadata": {},
   "outputs": [
    {
     "name": "stdout",
     "output_type": "stream",
     "text": [
      "5 4 5 2 1 3 3 4 1 4 3 5 \n",
      "-1\n",
      " 4 4 1 2 4 1 2 3 3 1 2 4 \n",
      "2\n"
     ]
    }
   ],
   "source": [
    "#Uses python3\n",
    "\n",
    "import sys\n",
    "import queue\n",
    "\n",
    "def distance(adj, start, end):\n",
    "    #set all distances to infinity or -1\n",
    "    distance = [-1] * len(adj)\n",
    "    distance[start] = 0\n",
    "    #run bfs to get \n",
    "    q = queue.Queue()\n",
    "    q.put(start)\n",
    "    while not q.empty():\n",
    "        u = q.get()\n",
    "        for i in adj[u]:  #first cover all nodes which are at same distance from start\n",
    "            if distance[i] == -1: # check if distance = inifinity\n",
    "                distance[i] = distance[u] + 1\n",
    "                q.put(i)  # add to queue \n",
    "    #print(distance)\n",
    "    return distance[end]\n",
    "\n",
    "if __name__ == '__main__':\n",
    "#     input = sys.stdin.read()\n",
    "    for i in range(2):\n",
    "        data = list(map(int, input().split()))\n",
    "        n, m = data[0:2]\n",
    "        data = data[2:]\n",
    "        edges = list(zip(data[0:(2 * m):2], data[1:(2 * m):2]))\n",
    "        adj = [[] for _ in range(n)]\n",
    "        for (a, b) in edges:\n",
    "            adj[a - 1].append(b - 1)\n",
    "            adj[b - 1].append(a - 1)\n",
    "        s, t = data[2 * m] - 1, data[2 * m + 1] - 1\n",
    "        print(distance(adj, s, t))\n"
   ]
  },
  {
   "cell_type": "code",
   "execution_count": null,
   "metadata": {},
   "outputs": [],
   "source": []
  }
 ],
 "metadata": {
  "kernelspec": {
   "display_name": "Python 3",
   "language": "python",
   "name": "python3"
  },
  "language_info": {
   "codemirror_mode": {
    "name": "ipython",
    "version": 3
   },
   "file_extension": ".py",
   "mimetype": "text/x-python",
   "name": "python",
   "nbconvert_exporter": "python",
   "pygments_lexer": "ipython3",
   "version": "3.6.5"
  }
 },
 "nbformat": 4,
 "nbformat_minor": 2
}
