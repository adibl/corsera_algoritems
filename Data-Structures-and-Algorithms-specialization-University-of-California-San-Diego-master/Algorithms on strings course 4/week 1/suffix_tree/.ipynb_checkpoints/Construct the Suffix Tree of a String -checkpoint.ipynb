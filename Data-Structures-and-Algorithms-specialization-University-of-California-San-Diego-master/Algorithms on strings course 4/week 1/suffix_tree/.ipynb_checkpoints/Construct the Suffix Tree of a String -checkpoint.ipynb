{
 "cells": [
  {
   "cell_type": "markdown",
   "metadata": {},
   "source": [
    "A suffix trie, denoted SuffixTrie(Text), is the trie formed from all suffixes of Text. From now on, we append the dollar-sign (“$”) to Text in order to mark the end of Text. We will also label each leaf of the resulting trie by the starting position of the suffix whose path through the trie ends at this leaf (using 0-based indexing). This way, when we arrive at a leaf, we will immediately know where this suffix came from in Text. "
   ]
  },
  {
   "cell_type": "code",
   "execution_count": 7,
   "metadata": {},
   "outputs": [
    {
     "ename": "TypeError",
     "evalue": "object() takes no parameters",
     "output_type": "error",
     "traceback": [
      "\u001b[1;31m---------------------------------------------------------------------------\u001b[0m",
      "\u001b[1;31mTypeError\u001b[0m                                 Traceback (most recent call last)",
      "\u001b[1;32m<ipython-input-7-7187f0eb5323>\u001b[0m in \u001b[0;36m<module>\u001b[1;34m()\u001b[0m\n\u001b[0;32m     52\u001b[0m \u001b[1;32mif\u001b[0m \u001b[0m__name__\u001b[0m \u001b[1;33m==\u001b[0m \u001b[1;34m'__main__'\u001b[0m\u001b[1;33m:\u001b[0m\u001b[1;33m\u001b[0m\u001b[0m\n\u001b[0;32m     53\u001b[0m     \u001b[0mtext\u001b[0m \u001b[1;33m=\u001b[0m \u001b[0msys\u001b[0m\u001b[1;33m.\u001b[0m\u001b[0mstdin\u001b[0m\u001b[1;33m.\u001b[0m\u001b[0mreadline\u001b[0m\u001b[1;33m(\u001b[0m\u001b[1;33m)\u001b[0m\u001b[1;33m.\u001b[0m\u001b[0mstrip\u001b[0m\u001b[1;33m(\u001b[0m\u001b[1;33m)\u001b[0m\u001b[1;33m\u001b[0m\u001b[0m\n\u001b[1;32m---> 54\u001b[1;33m     \u001b[0mresult\u001b[0m \u001b[1;33m=\u001b[0m \u001b[0mbuild_suffix_tree\u001b[0m\u001b[1;33m(\u001b[0m\u001b[0mtext\u001b[0m\u001b[1;33m)\u001b[0m\u001b[1;33m\u001b[0m\u001b[0m\n\u001b[0m\u001b[0;32m     55\u001b[0m     \u001b[0mprint_out\u001b[0m\u001b[1;33m(\u001b[0m\u001b[0mresult\u001b[0m\u001b[1;33m.\u001b[0m\u001b[0mroot\u001b[0m\u001b[1;33m)\u001b[0m\u001b[1;33m\u001b[0m\u001b[0m\n",
      "\u001b[1;32m<ipython-input-7-7187f0eb5323>\u001b[0m in \u001b[0;36mbuild_suffix_tree\u001b[1;34m(text)\u001b[0m\n\u001b[0;32m     40\u001b[0m \u001b[1;32mdef\u001b[0m \u001b[0mbuild_suffix_tree\u001b[0m\u001b[1;33m(\u001b[0m\u001b[0mtext\u001b[0m\u001b[1;33m)\u001b[0m\u001b[1;33m:\u001b[0m\u001b[1;33m\u001b[0m\u001b[0m\n\u001b[0;32m     41\u001b[0m     \u001b[0mresult\u001b[0m \u001b[1;33m=\u001b[0m \u001b[1;33m[\u001b[0m\u001b[1;33m]\u001b[0m\u001b[1;33m\u001b[0m\u001b[0m\n\u001b[1;32m---> 42\u001b[1;33m     \u001b[0mtree\u001b[0m \u001b[1;33m=\u001b[0m \u001b[0mSuffixTree\u001b[0m\u001b[1;33m(\u001b[0m\u001b[0mtext\u001b[0m\u001b[1;33m)\u001b[0m\u001b[1;33m\u001b[0m\u001b[0m\n\u001b[0m\u001b[0;32m     43\u001b[0m     \u001b[1;32mreturn\u001b[0m \u001b[0mtree\u001b[0m\u001b[1;33m\u001b[0m\u001b[0m\n\u001b[0;32m     44\u001b[0m \u001b[1;33m\u001b[0m\u001b[0m\n",
      "\u001b[1;31mTypeError\u001b[0m: object() takes no parameters"
     ]
    }
   ],
   "source": [
    "# python3\n",
    "import sys\n",
    "\n",
    "sys.setrecursionlimit(10000)\n",
    "\n",
    "\n",
    "class SuffixTree:\n",
    "    class Node:\n",
    "        def __init__(self, label):\n",
    "            self.label = label\n",
    "            self.out = {}\n",
    "\n",
    "        def __init__(self, text):\n",
    "            self.root = self.Node(None)\n",
    "            self.root.out[text[0]] = self.Node(text)\n",
    "            for i in range(1, len(text)):\n",
    "                current = self.root\n",
    "            j = i\n",
    "            while j < len(text):\n",
    "                if text[j] in current.out:\n",
    "                    child = current.out[text[j]]\n",
    "                    label = child.label\n",
    "                    k = j + 1\n",
    "                while k - j < len(label) and text[k] == label[k - j]:\n",
    "                    k += 1\n",
    "                    if k - j == len(label):\n",
    "                        current = child\n",
    "                        j = k\n",
    "                    else:\n",
    "                        cExist, cNew = label[k - j], text[k]\n",
    "                        mid = self.Node(label[:k - j])\n",
    "                        mid.out[cNew] = self.Node(text[k:])\n",
    "                        mid.out[cExist] = child\n",
    "                        child.label = label[k - j:]\n",
    "                        current.out[text[j]] = mid\n",
    "                else:\n",
    "                    current.out[text[j]] = self.Node(text[j:])\n",
    "\n",
    "\n",
    "def build_suffix_tree(text):\n",
    "    result = []\n",
    "    tree = SuffixTree(text)\n",
    "    return tree\n",
    "\n",
    "\n",
    "def print_out(node):\n",
    "    for child in node.out:\n",
    "        print(node.out[child].label)\n",
    "        print_out(node.out[child])\n",
    "\n",
    "\n",
    "if __name__ == '__main__':\n",
    "    text = sys.stdin.readline().strip()\n",
    "    result = build_suffix_tree(text)\n",
    "    print_out(result.root)\n"
   ]
  },
  {
   "cell_type": "code",
   "execution_count": 6,
   "metadata": {},
   "outputs": [
    {
     "name": "stdout",
     "output_type": "stream",
     "text": [
      "A$\n"
     ]
    },
    {
     "ename": "UnboundLocalError",
     "evalue": "local variable 'label' referenced before assignment",
     "output_type": "error",
     "traceback": [
      "\u001b[1;31m---------------------------------------------------------------------------\u001b[0m",
      "\u001b[1;31mUnboundLocalError\u001b[0m                         Traceback (most recent call last)",
      "\u001b[1;32m<ipython-input-6-297a66cc9cc6>\u001b[0m in \u001b[0;36m<module>\u001b[1;34m()\u001b[0m\n\u001b[0;32m     55\u001b[0m \u001b[1;31m#     text = sys.stdin.readline().strip()\u001b[0m\u001b[1;33m\u001b[0m\u001b[1;33m\u001b[0m\u001b[0m\n\u001b[0;32m     56\u001b[0m     \u001b[0mtext\u001b[0m \u001b[1;33m=\u001b[0m \u001b[0minput\u001b[0m\u001b[1;33m(\u001b[0m\u001b[1;33m)\u001b[0m\u001b[1;33m.\u001b[0m\u001b[0mstrip\u001b[0m\u001b[1;33m(\u001b[0m\u001b[1;33m)\u001b[0m\u001b[1;33m\u001b[0m\u001b[0m\n\u001b[1;32m---> 57\u001b[1;33m     \u001b[0mresult\u001b[0m \u001b[1;33m=\u001b[0m \u001b[0mbuild_suffix_tree\u001b[0m\u001b[1;33m(\u001b[0m\u001b[0mtext\u001b[0m\u001b[1;33m)\u001b[0m\u001b[1;33m\u001b[0m\u001b[0m\n\u001b[0m\u001b[0;32m     58\u001b[0m     \u001b[0mprint_out\u001b[0m\u001b[1;33m(\u001b[0m\u001b[0mresult\u001b[0m\u001b[1;33m.\u001b[0m\u001b[0mroot\u001b[0m\u001b[1;33m)\u001b[0m\u001b[1;33m\u001b[0m\u001b[0m\n",
      "\u001b[1;32m<ipython-input-6-297a66cc9cc6>\u001b[0m in \u001b[0;36mbuild_suffix_tree\u001b[1;34m(text)\u001b[0m\n\u001b[0;32m     42\u001b[0m \u001b[1;32mdef\u001b[0m \u001b[0mbuild_suffix_tree\u001b[0m\u001b[1;33m(\u001b[0m\u001b[0mtext\u001b[0m\u001b[1;33m)\u001b[0m\u001b[1;33m:\u001b[0m\u001b[1;33m\u001b[0m\u001b[0m\n\u001b[0;32m     43\u001b[0m     \u001b[0mresult\u001b[0m \u001b[1;33m=\u001b[0m \u001b[1;33m[\u001b[0m\u001b[1;33m]\u001b[0m\u001b[1;33m\u001b[0m\u001b[0m\n\u001b[1;32m---> 44\u001b[1;33m     \u001b[0mtree\u001b[0m \u001b[1;33m=\u001b[0m \u001b[0mSuffixTree\u001b[0m\u001b[1;33m(\u001b[0m\u001b[0mtext\u001b[0m\u001b[1;33m)\u001b[0m\u001b[1;33m\u001b[0m\u001b[0m\n\u001b[0m\u001b[0;32m     45\u001b[0m     \u001b[1;32mreturn\u001b[0m \u001b[0mtree\u001b[0m\u001b[1;33m\u001b[0m\u001b[0m\n\u001b[0;32m     46\u001b[0m \u001b[1;33m\u001b[0m\u001b[0m\n",
      "\u001b[1;32m<ipython-input-6-297a66cc9cc6>\u001b[0m in \u001b[0;36m__init__\u001b[1;34m(self, text)\u001b[0m\n\u001b[0;32m     24\u001b[0m                 \u001b[0mlabel\u001b[0m \u001b[1;33m=\u001b[0m \u001b[0mchild\u001b[0m\u001b[1;33m.\u001b[0m\u001b[0mlabel\u001b[0m\u001b[1;33m\u001b[0m\u001b[0m\n\u001b[0;32m     25\u001b[0m                 \u001b[0mk\u001b[0m \u001b[1;33m=\u001b[0m \u001b[0mj\u001b[0m \u001b[1;33m+\u001b[0m \u001b[1;36m1\u001b[0m\u001b[1;33m\u001b[0m\u001b[0m\n\u001b[1;32m---> 26\u001b[1;33m             \u001b[1;32mwhile\u001b[0m \u001b[0mk\u001b[0m \u001b[1;33m-\u001b[0m \u001b[0mj\u001b[0m \u001b[1;33m<\u001b[0m \u001b[0mlen\u001b[0m\u001b[1;33m(\u001b[0m\u001b[0mlabel\u001b[0m\u001b[1;33m)\u001b[0m \u001b[1;32mand\u001b[0m \u001b[0mtext\u001b[0m\u001b[1;33m[\u001b[0m\u001b[0mk\u001b[0m\u001b[1;33m]\u001b[0m \u001b[1;33m==\u001b[0m \u001b[0mlabel\u001b[0m\u001b[1;33m[\u001b[0m\u001b[0mk\u001b[0m \u001b[1;33m-\u001b[0m \u001b[0mj\u001b[0m\u001b[1;33m]\u001b[0m\u001b[1;33m:\u001b[0m\u001b[1;33m\u001b[0m\u001b[0m\n\u001b[0m\u001b[0;32m     27\u001b[0m                 \u001b[0mk\u001b[0m \u001b[1;33m+=\u001b[0m \u001b[1;36m1\u001b[0m\u001b[1;33m\u001b[0m\u001b[0m\n\u001b[0;32m     28\u001b[0m                 \u001b[1;32mif\u001b[0m \u001b[0mk\u001b[0m \u001b[1;33m-\u001b[0m \u001b[0mj\u001b[0m \u001b[1;33m==\u001b[0m \u001b[0mlen\u001b[0m\u001b[1;33m(\u001b[0m\u001b[0mlabel\u001b[0m\u001b[1;33m)\u001b[0m\u001b[1;33m:\u001b[0m\u001b[1;33m\u001b[0m\u001b[0m\n",
      "\u001b[1;31mUnboundLocalError\u001b[0m: local variable 'label' referenced before assignment"
     ]
    }
   ],
   "source": [
    "import sys\n",
    "sys.setrecursionlimit(10000)\n",
    "\n",
    "class Node:\n",
    "        def __init__(self, label):\n",
    "            self.label = label\n",
    "            self.out = {}\n",
    "            \n",
    "class SuffixTree:\n",
    "    class Node:\n",
    "        def __init__(self, label):\n",
    "            self.label = label\n",
    "            self.out = {}\n",
    "    def __init__(self, text):\n",
    "        self.root = self.Node(None)\n",
    "        self.root.out[text[0]] = self.Node(text)\n",
    "        for i in range(1, len(text)):\n",
    "            current = self.root\n",
    "        j = i\n",
    "        k = 1000\n",
    "        while j < len(text):\n",
    "            if text[j] in current.out:\n",
    "                child = current.out[text[j]]\n",
    "                label = child.label\n",
    "                k = j + 1\n",
    "            while k - j < len(label) and text[k] == label[k - j]:\n",
    "                k += 1\n",
    "                if k - j == len(label):\n",
    "                    current = child\n",
    "                    j = k\n",
    "                else:\n",
    "                    cExist, cNew = label[k - j], text[k]\n",
    "                    mid = self.Node(label[:k - j])\n",
    "                    mid.out[cNew] = self.Node(text[k:])\n",
    "                    mid.out[cExist] = child\n",
    "                    child.label = label[k - j:]\n",
    "                    current.out[text[j]] = mid\n",
    "            else:\n",
    "                current.out[text[j]] = self.Node(text[j:])\n",
    "\n",
    "\n",
    "def build_suffix_tree(text):\n",
    "    result = []\n",
    "    tree = SuffixTree(text)\n",
    "    return tree\n",
    "\n",
    "\n",
    "def print_out(node):\n",
    "    for child in node.out:\n",
    "        print(node.out[child].label)\n",
    "        print_out(node.out[child])\n",
    "\n",
    "\n",
    "if __name__ == '__main__':\n",
    "#     text = sys.stdin.readline().strip()\n",
    "    text = input().strip()\n",
    "    result = build_suffix_tree(text)\n",
    "    print_out(result.root)"
   ]
  },
  {
   "cell_type": "code",
   "execution_count": null,
   "metadata": {},
   "outputs": [],
   "source": [
    "# python3\n",
    "import sys\n",
    "\n",
    "\n",
    "def build_suffix_tree(text):\n",
    "  \"\"\"\n",
    "  Build a suffix tree of the string text and return a list\n",
    "  with all of the labels of its edges (the corresponding \n",
    "  substrings of the text) in any order.\n",
    "  \"\"\"\n",
    "  result = []\n",
    "  # Implement this function yourself\n",
    "  return result\n",
    "\n",
    "\n",
    "if __name__ == '__main__':\n",
    "  text = sys.stdin.readline().strip()\n",
    "  result = build_suffix_tree(text)\n",
    "  print(\"\\n\".join(result))"
   ]
  }
 ],
 "metadata": {
  "kernelspec": {
   "display_name": "Python 3",
   "language": "python",
   "name": "python3"
  },
  "language_info": {
   "codemirror_mode": {
    "name": "ipython",
    "version": 3
   },
   "file_extension": ".py",
   "mimetype": "text/x-python",
   "name": "python",
   "nbconvert_exporter": "python",
   "pygments_lexer": "ipython3",
   "version": "3.6.5"
  }
 },
 "nbformat": 4,
 "nbformat_minor": 2
}
