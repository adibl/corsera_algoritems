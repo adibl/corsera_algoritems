{
 "cells": [
  {
   "cell_type": "markdown",
   "metadata": {},
   "source": [
    "**Task**  \n",
    "Given n points on a plane and an integer k, compute the largest possible value of d such that the given points can be partitioned into k non-empty subsets in such a way that the distance between any two points from different subsets is at least d. "
   ]
  },
  {
   "cell_type": "markdown",
   "metadata": {},
   "source": [
    "**Input Format.**   \n",
    "The first line contains the number n of points. Each of the following n lines defines a point (xi,yi). The last line contains the number k of clusters."
   ]
  },
  {
   "cell_type": "markdown",
   "metadata": {},
   "source": [
    "**Output Format.**  \n",
    "Output the largest value of d. The absolute value of the difference between the answer of your program and the optimal value should be at most 10−6. To ensure this, output your answer with at least seven digits after the decimal point (otherwise your answer, while being computed correctly, can turn out to be wrong because of rounding issues). "
   ]
  },
  {
   "cell_type": "markdown",
   "metadata": {},
   "source": [
    "**hint**  \n",
    "Think about ways of adopting the Kruskal’s algorithm for solving this problem.\n"
   ]
  },
  {
   "cell_type": "markdown",
   "metadata": {},
   "source": [
    "`Kruskal algorithm`\n",
    "* Algorithm: repeatedly add to X the next lightest edge e that doesn’t produce a cycle\n",
    "* At any point of time, the set X is a forest, that is, a collection of trees\n",
    "* The next edge e connects two different trees—say, T1 and T2\n",
    "* The edge e is the lightest between T1 and V − T1, hence adding e is safe"
   ]
  },
  {
   "cell_type": "code",
   "execution_count": null,
   "metadata": {},
   "outputs": [],
   "source": [
    "test cases:\n",
    "    12 7 6 4 3 5 1 1 7 2 7 5 7 3 3 7 8 2 8 4 4 6 7 2 6 3 Output: 2.828427124746\n",
    "        \n",
    "    8 3 1 1 2 4 6 9 8 9 9 8 9 3 11 4 12 4 Output: 5.000000000\n"
   ]
  },
  {
   "cell_type": "code",
   "execution_count": 1,
   "metadata": {},
   "outputs": [
    {
     "name": "stdout",
     "output_type": "stream",
     "text": [
      "12 7 6 4 3 5 1 1 7 2 7 5 7 3 3 7 8 2 8 4 4 6 7 2 6 3\n",
      "2.828427125\n",
      "8 3 1 1 2 4 6 9 8 9 9 8 9 3 11 4 12 4\n",
      "5.000000000\n"
     ]
    }
   ],
   "source": [
    "#Uses python3\n",
    "import sys\n",
    "import math\n",
    "\n",
    "def distance(v1,v2,x,y):\n",
    "    return math.sqrt((x[v1]-x[v2])**2 +  (y[v1]-y[v2])**2) \n",
    "    \n",
    "\n",
    "def clustering(x, y, k):\n",
    "    #create edge list\n",
    "    edges = []\n",
    "    for i in range(len(x)):\n",
    "        for j in range(i,len(x)):\n",
    "            if i != j:\n",
    "                edges.append([i,j,distance(i,j,x,y)])\n",
    "\n",
    "    #sort edges\n",
    "    sorted_Edges = sorted(edges, key=lambda x: x[2])\n",
    "    \n",
    "    for i in sorted_Edges:\n",
    "        pass #print(i)\n",
    " \n",
    "\n",
    "    #Krusgal's algorthm       \n",
    "    membership = range(n)\n",
    "    \n",
    "    \n",
    "    #run Kruskal algorithm\n",
    "    MST = []  #initialize minimum spanning tree\n",
    "    minDist = 0\n",
    "    for i in sorted_Edges:\n",
    "\n",
    "        #make sure vertices are not already joined\n",
    "        if membership[i[0]] != membership[i[1]]:\n",
    "            #stop if number of partitions eqals desired number of clusters\n",
    "            if len(set(membership)) == k:\n",
    "                nextEdge = i\n",
    "                break\n",
    "            #add edge\n",
    "            MST.append(i)\n",
    "            minDist += i[2]\n",
    "            #join groups\n",
    "            membership = list(map(lambda x: membership[i[0]] if x == membership[i[1]] else x, membership))\n",
    "            \n",
    "    return nextEdge[2]\n",
    "\n",
    "if __name__ == '__main__':\n",
    "#     input = sys.stdin.read()\n",
    "    for i in range(2):\n",
    "        data = list(map(int, input().split()))\n",
    "        n = data[0]\n",
    "        data = data[1:]\n",
    "        x = data[0:2 * n:2]\n",
    "        y = data[1:2 * n:2]\n",
    "        data = data[2 * n:]\n",
    "        k = data[0]\n",
    "        print(\"{0:.9f}\".format(clustering(x, y, k)))\n"
   ]
  },
  {
   "cell_type": "code",
   "execution_count": null,
   "metadata": {},
   "outputs": [],
   "source": []
  }
 ],
 "metadata": {
  "kernelspec": {
   "display_name": "Python 3",
   "language": "python",
   "name": "python3"
  },
  "language_info": {
   "codemirror_mode": {
    "name": "ipython",
    "version": 3
   },
   "file_extension": ".py",
   "mimetype": "text/x-python",
   "name": "python",
   "nbconvert_exporter": "python",
   "pygments_lexer": "ipython3",
   "version": "3.6.5"
  }
 },
 "nbformat": 4,
 "nbformat_minor": 2
}
