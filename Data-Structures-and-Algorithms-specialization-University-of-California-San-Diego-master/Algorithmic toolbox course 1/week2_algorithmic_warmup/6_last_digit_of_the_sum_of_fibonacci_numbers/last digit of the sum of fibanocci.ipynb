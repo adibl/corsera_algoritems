{
 "cells": [
  {
   "cell_type": "code",
   "execution_count": null,
   "metadata": {},
   "outputs": [],
   "source": [
    "Input:\n",
    "239\n",
    "\n",
    "Your output:\n",
    "4\n",
    "Correct output:\n",
    "0"
   ]
  },
  {
   "cell_type": "code",
   "execution_count": 6,
   "metadata": {},
   "outputs": [],
   "source": [
    "def find_period_10(n):\n",
    "    prev,curr = 0,1\n",
    "    for i in range(n):\n",
    "        prev,curr = curr, (prev+curr)%10\n",
    "        if (prev,curr) == (0,1):\n",
    "            time_period = i+1\n",
    "            print(time_period)\n",
    "            break\n",
    "    return time_period"
   ]
  },
  {
   "cell_type": "code",
   "execution_count": 7,
   "metadata": {},
   "outputs": [],
   "source": [
    "import numpy as np\n",
    "import math\n",
    "import random"
   ]
  },
  {
   "cell_type": "code",
   "execution_count": 8,
   "metadata": {
    "scrolled": true
   },
   "outputs": [
    {
     "name": "stdout",
     "output_type": "stream",
     "text": [
      "60\n",
      "60\n",
      "60\n",
      "60\n",
      "60\n",
      "60\n",
      "60\n",
      "60\n",
      "60\n",
      "60\n",
      "60\n",
      "60\n",
      "60\n",
      "60\n",
      "60\n",
      "60\n",
      "60\n",
      "60\n",
      "60\n",
      "60\n"
     ]
    }
   ],
   "source": [
    "for j in range(20):\n",
    "    k = random.randint(100,500)\n",
    "    find_period_10(k)"
   ]
  },
  {
   "cell_type": "markdown",
   "metadata": {},
   "source": [
    "so we can see that the period is 60 for 10. recall from prev exercise **2-5: Fibonacci Number Again** where we have to find the factorial n mod m. when we talk about last digit of factorial n, it is basicall factorial n mod 10. and for 10 , we found out that period is 10"
   ]
  },
  {
   "cell_type": "code",
   "execution_count": 13,
   "metadata": {},
   "outputs": [
    {
     "name": "stdout",
     "output_type": "stream",
     "text": [
      "832564823476\n",
      "3\n"
     ]
    }
   ],
   "source": [
    "# Uses python3\n",
    "# import sys\n",
    "\n",
    "def fibonacci_sum_naive(n):\n",
    "    if n <= 1:\n",
    "        return n\n",
    "\n",
    "    previous = 0\n",
    "    current  = 1\n",
    "    sum1      = 1\n",
    "\n",
    "    for _ in range(n - 1):\n",
    "        previous, current = current, (previous + current)%10\n",
    "        sum1 = (sum1 + current)%10\n",
    "\n",
    "    return (sum1 % 10)\n",
    "\n",
    "def fibonacci_sum_last_digit(n):\n",
    "    time_period = 60\n",
    "    index = n%time_period\n",
    "#     print(index)\n",
    "    if index<1:\n",
    "        return index\n",
    "    prev,curr = 0,1\n",
    "    sum1      = 1\n",
    "    for i in range(2, index+1):\n",
    "        prev,curr = curr, (curr+prev)%10\n",
    "        sum1 = (sum1 + curr)%10\n",
    "    return sum1\n",
    "\n",
    "if __name__ == '__main__':\n",
    "#     input = sys.stdin.read()\n",
    "    n = int(input())\n",
    "    print(fibonacci_sum_last_digit(n))\n"
   ]
  },
  {
   "cell_type": "code",
   "execution_count": null,
   "metadata": {},
   "outputs": [],
   "source": []
  }
 ],
 "metadata": {
  "kernelspec": {
   "display_name": "Python 3",
   "language": "python",
   "name": "python3"
  },
  "language_info": {
   "codemirror_mode": {
    "name": "ipython",
    "version": 3
   },
   "file_extension": ".py",
   "mimetype": "text/x-python",
   "name": "python",
   "nbconvert_exporter": "python",
   "pygments_lexer": "ipython3",
   "version": "3.6.5"
  }
 },
 "nbformat": 4,
 "nbformat_minor": 2
}
