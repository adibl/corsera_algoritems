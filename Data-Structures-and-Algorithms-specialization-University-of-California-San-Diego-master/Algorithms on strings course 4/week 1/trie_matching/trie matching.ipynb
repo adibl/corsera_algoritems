{
 "cells": [
  {
   "cell_type": "markdown",
   "metadata": {},
   "source": [
    " we start reading symbols from the beginning of Text and see what string these symbols “spell” as we proceed along the path downward from the root of the trie, as illustrated in the pseudocode below. For each new symbol in Text, if we encounter this symbol along an edge leading down from the present node, then we continue along this edge; otherwise, we stop and conclude that no string in Patterns matches a prefix of Text. If we make it all the way to a leaf, then the pattern spelled out by this path matches a prefix of Text"
   ]
  },
  {
   "cell_type": "markdown",
   "metadata": {},
   "source": [
    "PrefixTrieMatching finds whether any strings in Patterns match a prefix of Text. To find whether any strings in Patterns match a substring of Text starting at position k, we chop off the first k−1 symbols from Text and run PrefixTrieMatching on the shortened string. As a result, to solve the Multiple Pattern Matching Problem, we simply iterate PrefixTrieMatching |Text| times, chopping the first symbol off of Text before each new iteration. "
   ]
  },
  {
   "cell_type": "markdown",
   "metadata": {},
   "source": [
    "**PrefixTrieMatching(Text, Trie) **\n",
    "> symbol ← first letter of Text   \n",
    "v ←root of Trie \n",
    ">while forever: \n",
    ">>if v is a leaf in Trie:\n",
    ">>>return the pattern spelled by the path from the root to v  \n",
    "\n",
    ">>else if there is an edge (v,w) in Trie labeled by symbol: \n",
    ">>>symbol ←next letter of Text  \n",
    "v ← w   \n",
    "\n",
    ">>else: \n",
    ">>>output “no matches found” \n",
    "\n",
    ">return"
   ]
  },
  {
   "cell_type": "markdown",
   "metadata": {},
   "source": [
    "**TrieMatching(Text, Trie) **\n",
    ">while Text is nonempty: \n",
    ">>PrefixTrieMatching(Text, Trie)   \n",
    "remove first symbol from Text "
   ]
  },
  {
   "cell_type": "code",
   "execution_count": 2,
   "metadata": {},
   "outputs": [],
   "source": [
    "def build_trie(patterns):\n",
    "    trie = {}\n",
    "    trie[0] = {}\n",
    "    index = 1\n",
    "\n",
    "    for pattern in patterns:\n",
    "        curr_node = trie[0]\n",
    "        for letter in pattern:\n",
    "            if letter in curr_node.keys():  #if the alphabet is there in the Current paths emanating from Current node\n",
    "                curr_node = trie[curr_node[letter]] #move to the next root node\n",
    "            else:\n",
    "                curr_node[letter] = index # adding node number to this letter, ex 0: {'a': 1} means 0-1 edge is a\n",
    "                trie[index] = {} # creating dictionary for letters to follow the Current letter, ex: creating 1:{} so we can store  1-somenode\n",
    "                #                 where some alphabet  is on edge 1-somenode\n",
    "                curr_node = trie[index]  #shifting to the newly created node\n",
    "                index = index + 1\n",
    "    return trie"
   ]
  },
  {
   "cell_type": "code",
   "execution_count": 9,
   "metadata": {},
   "outputs": [],
   "source": [
    "def prefix_trie_matching(text, trie):\n",
    "    index = 0 \n",
    "    symbol = text[index] #start comparing from 0th index\n",
    "    current = trie[0] #and also trie from 0th index\n",
    "\n",
    "    while True:\n",
    "        if not current:  #if there is no node in this trie\n",
    "            return True\n",
    "        elif symbol in current.keys(): #check if there is link from this node to next level of nodes\n",
    "            current = trie[current[symbol]] #move to that node\n",
    "            index = index + 1 #and increase the index\n",
    "            if index < len(text):\n",
    "                symbol = text[index]\n",
    "            else: \n",
    "                symbol = '$'\n",
    "        else:\n",
    "            return False"
   ]
  },
  {
   "cell_type": "code",
   "execution_count": 10,
   "metadata": {},
   "outputs": [],
   "source": [
    "def solve(text, n, patterns):\n",
    "    result = []\n",
    "    trie = build_trie(patterns) #BUILD TRIE USING FIRST WEEK FUNCTION\n",
    "\n",
    "    n = len(text)\n",
    "    for i in range(n):\n",
    "        if prefix_trie_matching(text[i:], trie):\n",
    "            result.append(i)\n",
    "\n",
    "    return result"
   ]
  },
  {
   "cell_type": "code",
   "execution_count": 12,
   "metadata": {},
   "outputs": [
    {
     "name": "stdout",
     "output_type": "stream",
     "text": [
      "AAA\n",
      "1\n",
      "AA\n",
      "0 1\n",
      "\n",
      "AA\n",
      "1\n",
      "T\n",
      "\n",
      "\n",
      "AATCGGGTTCAATCGGGGT \n",
      "2\n",
      "ATCG\n",
      "GGGT\n",
      "1 4 11 15\n",
      "\n"
     ]
    }
   ],
   "source": [
    "for ok in range(3):\n",
    "    if __name__ == \"__main__\":\n",
    "    #     text = sys.stdin.readline().strip()\n",
    "        text = input().strip()\n",
    "    #     n = int(sys.stdin.readline().strip())\n",
    "        n = int(input().strip())\n",
    "        patterns = []\n",
    "        for i in range(n):\n",
    "    #         patterns += [sys.stdin.readline().strip()]\n",
    "            patterns+= [ input().strip()]\n",
    "\n",
    "        ans = solve(text, n, patterns)\n",
    "        print(' '.join(map(str,ans))+'\\n')\n",
    "    #     sys.stdout.write(' '.join(map(str, ans)) + '\\n')"
   ]
  },
  {
   "cell_type": "code",
   "execution_count": null,
   "metadata": {},
   "outputs": [],
   "source": [
    "# python3\n",
    "import sys\n",
    "NA = -1\n",
    "\n",
    "class Node:\n",
    "\tdef __init__ (self):\n",
    "\t\tself.next = [NA] * 4\n",
    "\n",
    "def solve (text, n, patterns):\n",
    "\tresult = []\n",
    "\n",
    "\t// write your code here\n",
    "\n",
    "\treturn result\n",
    "\n",
    "text = sys.stdin.readline ().strip ()\n",
    "n = int (sys.stdin.readline ().strip ())\n",
    "patterns = []\n",
    "for i in range (n):\n",
    "\tpatterns += [sys.stdin.readline ().strip ()]\n",
    "\n",
    "ans = solve (text, n, patterns)\n",
    "\n",
    "sys.stdout.write (' '.join (map (str, ans)) + '\\n')\n"
   ]
  }
 ],
 "metadata": {
  "kernelspec": {
   "display_name": "Python 3",
   "language": "python",
   "name": "python3"
  },
  "language_info": {
   "codemirror_mode": {
    "name": "ipython",
    "version": 3
   },
   "file_extension": ".py",
   "mimetype": "text/x-python",
   "name": "python",
   "nbconvert_exporter": "python",
   "pygments_lexer": "ipython3",
   "version": "3.6.5"
  }
 },
 "nbformat": 4,
 "nbformat_minor": 2
}
