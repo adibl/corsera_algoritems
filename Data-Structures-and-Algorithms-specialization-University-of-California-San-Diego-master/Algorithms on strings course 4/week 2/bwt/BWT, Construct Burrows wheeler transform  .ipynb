{
 "cells": [
  {
   "cell_type": "code",
   "execution_count": null,
   "metadata": {},
   "outputs": [],
   "source": [
    "Sample 1. Input: AA$ Output: AA$\n",
    "Sample 2. Input: ACACACAC$ Output: CCCC$AAAA \n",
    "Sample 3. Input: AGACATA$ Output: ATG$CAAA "
   ]
  },
  {
   "cell_type": "code",
   "execution_count": 1,
   "metadata": {},
   "outputs": [
    {
     "name": "stdout",
     "output_type": "stream",
     "text": [
      "AA$\n",
      "AA$\n",
      "ACACACAC$\n",
      "CCCC$AAAA\n",
      "AGACATA$\n",
      "ATG$CAAA\n"
     ]
    }
   ],
   "source": [
    "# python3\n",
    "import sys\n",
    "\n",
    "def BWT(text):\n",
    "    M = [text]*(len(text))\n",
    "    for i in range(len(text)):\n",
    "        M[i] = (text[i:] + text[:i])\n",
    "    M.sort()\n",
    "    result = [x[-1] for x in M]\n",
    "    return ''.join(result)\n",
    "\n",
    "for i in range(3):\n",
    "    if __name__ == '__main__':\n",
    "    #     text = sys.stdin.readline().strip()\n",
    "        text = input()\n",
    "        print(BWT(text))"
   ]
  },
  {
   "cell_type": "code",
   "execution_count": null,
   "metadata": {},
   "outputs": [],
   "source": []
  }
 ],
 "metadata": {
  "kernelspec": {
   "display_name": "Python 3",
   "language": "python",
   "name": "python3"
  },
  "language_info": {
   "codemirror_mode": {
    "name": "ipython",
    "version": 3
   },
   "file_extension": ".py",
   "mimetype": "text/x-python",
   "name": "python",
   "nbconvert_exporter": "python",
   "pygments_lexer": "ipython3",
   "version": "3.6.5"
  }
 },
 "nbformat": 4,
 "nbformat_minor": 2
}
