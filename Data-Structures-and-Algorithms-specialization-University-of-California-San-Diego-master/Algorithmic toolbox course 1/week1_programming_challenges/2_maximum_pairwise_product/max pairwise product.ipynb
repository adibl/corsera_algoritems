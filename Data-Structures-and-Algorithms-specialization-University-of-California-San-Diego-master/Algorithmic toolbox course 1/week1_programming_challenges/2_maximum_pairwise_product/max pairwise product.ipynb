{
 "cells": [
  {
   "cell_type": "code",
   "execution_count": 5,
   "metadata": {},
   "outputs": [
    {
     "name": "stdout",
     "output_type": "stream",
     "text": [
      "4\n",
      "7 8 9 5\n",
      "72\n"
     ]
    }
   ],
   "source": [
    "def max_pairwise_product(numbers):\n",
    "    n = len(numbers)\n",
    "#just find biggest two numbers\n",
    "    num1 = max(numbers)\n",
    "    numbers.remove(num1)\n",
    "    num2 = max(numbers)\n",
    "    return num1*num2\n",
    "    \n",
    "#     max_product = 0\n",
    "#     for first in range(n):\n",
    "#         for second in range(first + 1, n):\n",
    "#             max_product = max(max_product,\n",
    "#                 numbers[first] * numbers[second])\n",
    "\n",
    "#     return max_product\n",
    "\n",
    "\n",
    "if __name__ == '__main__':\n",
    "    input_n = int(input())\n",
    "    input_numbers = [int(x) for x in input().split()]\n",
    "    print(max_pairwise_product(input_numbers))\n"
   ]
  },
  {
   "cell_type": "code",
   "execution_count": 6,
   "metadata": {},
   "outputs": [],
   "source": [
    "a = list(range(10))"
   ]
  },
  {
   "cell_type": "code",
   "execution_count": 9,
   "metadata": {},
   "outputs": [
    {
     "name": "stdout",
     "output_type": "stream",
     "text": [
      "2.82 µs ± 472 ns per loop (mean ± std. dev. of 7 runs, 100000 loops each)\n"
     ]
    }
   ],
   "source": [
    "%%timeit\n",
    "maxm=-1\n",
    "for i in range(len(a)):\n",
    "    if a[i] > maxm:\n",
    "        maxm=a[i]\n",
    "# print(maxm)"
   ]
  },
  {
   "cell_type": "code",
   "execution_count": 10,
   "metadata": {},
   "outputs": [
    {
     "name": "stdout",
     "output_type": "stream",
     "text": [
      "869 ns ± 143 ns per loop (mean ± std. dev. of 7 runs, 1000000 loops each)\n"
     ]
    }
   ],
   "source": [
    "%%timeit\n",
    "maxm = max(a)\n",
    "# print(maxm)"
   ]
  },
  {
   "cell_type": "code",
   "execution_count": null,
   "metadata": {},
   "outputs": [],
   "source": []
  }
 ],
 "metadata": {
  "kernelspec": {
   "display_name": "Python 3",
   "language": "python",
   "name": "python3"
  },
  "language_info": {
   "codemirror_mode": {
    "name": "ipython",
    "version": 3
   },
   "file_extension": ".py",
   "mimetype": "text/x-python",
   "name": "python",
   "nbconvert_exporter": "python",
   "pygments_lexer": "ipython3",
   "version": "3.6.5"
  }
 },
 "nbformat": 4,
 "nbformat_minor": 2
}
