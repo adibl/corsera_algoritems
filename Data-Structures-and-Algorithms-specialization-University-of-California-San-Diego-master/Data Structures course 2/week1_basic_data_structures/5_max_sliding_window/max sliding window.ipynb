{
 "cells": [
  {
   "cell_type": "markdown",
   "metadata": {},
   "source": [
    "Given a sequence a1,...,an of integers and an integer m ≤ n, find the maximum among{ai,...,ai+m−1}for every 1 ≤ i ≤ n−m + 1. A naive O(nm) algorithm for solving this problem scans each window separately. Your goal is to design an O(n) algorithm"
   ]
  },
  {
   "cell_type": "code",
   "execution_count": null,
   "metadata": {},
   "outputs": [],
   "source": [
    "test case:\n",
    "    8 \n",
    "    2 7 3 1 5 2 6 2 \n",
    "    4 \n",
    "    Output: 7 7 5 6 6\n"
   ]
  },
  {
   "cell_type": "markdown",
   "metadata": {},
   "source": [
    "We give hints for three different solutions.  \n",
    "1. Implement a queue using two stacks. Use a queue data structure for sliding a window through a sequence: for shifting a window one position to the right, pop the leftmost element of the queue and push a new element from the new window. A queue can be implemented using two stacks such that each queue operation takes constant time on average. Then, use your implementation of the stack with maximum.   \n",
    "2. Preprocess block suffixes and prefixes. Partition the input sequence into blocks of length m and precompute the maximum for every suffix and every prefix of each block. Afterwards, the maximum in each sliding window can be found by considering a suffix and a prefix of two consecutive blocks.  \n",
    "3. Store relevant items in a dequeue. Use a double-ended queue (dequeue) to store elements of the current window. At the same time, store only relevant elements: before adding a new element drop all smaller elements.\n"
   ]
  },
  {
   "cell_type": "code",
   "execution_count": null,
   "metadata": {},
   "outputs": [],
   "source": [
    "implementing 2"
   ]
  },
  {
   "cell_type": "code",
   "execution_count": null,
   "metadata": {},
   "outputs": [],
   "source": [
    "def max_sliding(arr,m):\n",
    "    maxarr = [0]*len(arr)\n",
    "    maxarr[0] = arr[0]\n",
    "    for i in range(1,len(arr)):\n",
    "        maxarr[i] = max(maxarr[i-1],arr[i])\n",
    "    for "
   ]
  }
 ],
 "metadata": {
  "kernelspec": {
   "display_name": "Python 3",
   "language": "python",
   "name": "python3"
  },
  "language_info": {
   "codemirror_mode": {
    "name": "ipython",
    "version": 3
   },
   "file_extension": ".py",
   "mimetype": "text/x-python",
   "name": "python",
   "nbconvert_exporter": "python",
   "pygments_lexer": "ipython3",
   "version": "3.7.3"
  }
 },
 "nbformat": 4,
 "nbformat_minor": 2
}
