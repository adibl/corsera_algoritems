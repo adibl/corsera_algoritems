{
 "cells": [
  {
   "cell_type": "markdown",
   "metadata": {},
   "source": [
    "many topological orders are possible, in many cases\n",
    ">but one topological would do for this problem"
   ]
  },
  {
   "cell_type": "code",
   "execution_count": null,
   "metadata": {},
   "outputs": [],
   "source": [
    "test cases:\n",
    "    4 3\n",
    "    1 2\n",
    "    4 1\n",
    "    3 1 op:4 3 1 2\n",
    "        \n",
    "    4 1\n",
    "    3 1\n",
    "    Output:\n",
    "    2 3 1 4\n",
    "    \n",
    "    5 7\n",
    "    2 1\n",
    "    3 2\n",
    "    3 1\n",
    "    4 3\n",
    "    4 1\n",
    "    5 2\n",
    "    5 3\n",
    "    Output:\n",
    "    5 4 3 2 1"
   ]
  },
  {
   "cell_type": "code",
   "execution_count": 6,
   "metadata": {},
   "outputs": [
    {
     "name": "stdout",
     "output_type": "stream",
     "text": [
      "4 3     1 2     4 1     3 1\n",
      "4 3 1 2 "
     ]
    }
   ],
   "source": [
    "#Uses python3\n",
    "\n",
    "import sys\n",
    "\n",
    "def dfs(adj, used, order, x):\n",
    "    used[x] = 1  #checks neighbours of x, and add them before you add x.\n",
    "    for i in adj[x]:\n",
    "#         print(i,'   nah')\n",
    "        if not used[i]:\n",
    "            dfs(adj,used,order,i)\n",
    "    order.append(x)\n",
    "    return\n",
    "\n",
    "\n",
    "def toposort(adj):\n",
    "    used = [0] * len(adj)\n",
    "    order = []\n",
    "    for i in range(len(adj)):\n",
    "#         print(i,'  ha')\n",
    "        if not used[i]:\n",
    "            dfs(adj,used,order,i)\n",
    "    return order[::-1] #because we are kinda adding the last points first, print in reverse. Don't need to print in reverse if you\n",
    "# change the command in dfs file from order.append to order.insert(0,x)\n",
    "\n",
    "if __name__ == '__main__':\n",
    "#     input = sys.stdin.read()\n",
    "    data = list(map(int, input().split()))\n",
    "    n, m = data[0:2]\n",
    "    data = data[2:]\n",
    "    edges = list(zip(data[0:(2 * m):2], data[1:(2 * m):2]))\n",
    "    adj = [[] for _ in range(n)]\n",
    "    for (a, b) in edges:\n",
    "        adj[a - 1].append(b - 1)\n",
    "    order = toposort(adj)\n",
    "    for x in order:\n",
    "        print(x + 1, end=' ')\n",
    "\n"
   ]
  },
  {
   "cell_type": "code",
   "execution_count": null,
   "metadata": {},
   "outputs": [],
   "source": []
  }
 ],
 "metadata": {
  "kernelspec": {
   "display_name": "Python 3",
   "language": "python",
   "name": "python3"
  },
  "language_info": {
   "codemirror_mode": {
    "name": "ipython",
    "version": 3
   },
   "file_extension": ".py",
   "mimetype": "text/x-python",
   "name": "python",
   "nbconvert_exporter": "python",
   "pygments_lexer": "ipython3",
   "version": "3.6.5"
  }
 },
 "nbformat": 4,
 "nbformat_minor": 2
}
