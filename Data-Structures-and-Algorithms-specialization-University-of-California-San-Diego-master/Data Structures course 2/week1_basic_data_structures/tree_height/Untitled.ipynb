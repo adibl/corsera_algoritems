{
 "cells": [
  {
   "cell_type": "code",
   "execution_count": 20,
   "metadata": {},
   "outputs": [
    {
     "name": "stdout",
     "output_type": "stream",
     "text": [
      "5\n"
     ]
    },
    {
     "name": "stderr",
     "output_type": "stream",
     "text": [
      "Exception in thread Thread-17:\n",
      "Traceback (most recent call last):\n",
      "  File \"C:\\Users\\Sudheera\\Anaconda3\\lib\\threading.py\", line 917, in _bootstrap_inner\n",
      "    self.run()\n",
      "  File \"C:\\Users\\Sudheera\\Anaconda3\\lib\\threading.py\", line 865, in run\n",
      "    self._target(*self._args, **self._kwargs)\n",
      "  File \"<ipython-input-20-5af648113c80>\", line 29, in main\n",
      "    tree.read()\n",
      "  File \"<ipython-input-20-5af648113c80>\", line 10, in read\n",
      "    self.parent = [int(i) for i in input().split]\n",
      "EOFError: EOF when reading a line\n",
      "\n"
     ]
    }
   ],
   "source": [
    "# python3\n",
    "\n",
    "import sys, threading\n",
    "sys.setrecursionlimit(10**7) # max depth of recursion\n",
    "threading.stack_size(2**27)  # new thread will get stack of such size\n",
    "\n",
    "class TreeHeight:\n",
    "    def read(self):\n",
    "        self.n = int(input())\n",
    "        self.parent = [int(i) for i in input().split]\n",
    "#                 self.n = int(sys.stdin.readline())\n",
    "#                 self.parent = list(map(int, sys.stdin.readline().split()))\n",
    "\n",
    "    def compute_height(self):\n",
    "\n",
    "            # Replace this code with a faster implementation\n",
    "        maxHeight = 0\n",
    "        for vertex in range(self.n):\n",
    "            height = 0\n",
    "            i = vertex\n",
    "            while i != -1:\n",
    "                height += 1\n",
    "                i = self.parent[i]\n",
    "            maxHeight = max(maxHeight, height)\n",
    "        return maxHeight\n",
    "\n",
    "def main(): \n",
    "    tree = TreeHeight()\n",
    "    tree.read()\n",
    "    print(tree.compute_height())\n",
    "\n",
    "threading.Thread(target=main).start()\n"
   ]
  },
  {
   "cell_type": "code",
   "execution_count": 22,
   "metadata": {},
   "outputs": [
    {
     "name": "stdout",
     "output_type": "stream",
     "text": [
      "0\n",
      "1\n",
      "2\n",
      "3\n"
     ]
    }
   ],
   "source": [
    "k = list(range(5))\n",
    "i=0\n",
    "while(k[i]<4):\n",
    "    print(k[i])\n",
    "    i+=1"
   ]
  },
  {
   "cell_type": "code",
   "execution_count": 10,
   "metadata": {},
   "outputs": [
    {
     "ename": "ValueError",
     "evalue": "invalid literal for int() with base 10: ''",
     "output_type": "error",
     "traceback": [
      "\u001b[1;31m---------------------------------------------------------------------------\u001b[0m",
      "\u001b[1;31mValueError\u001b[0m                                Traceback (most recent call last)",
      "\u001b[1;32m<ipython-input-10-38285edf5e27>\u001b[0m in \u001b[0;36m<module>\u001b[1;34m\u001b[0m\n\u001b[0;32m      3\u001b[0m \u001b[0mx\u001b[0m \u001b[1;33m=\u001b[0m \u001b[0mstdin\u001b[0m\u001b[1;33m.\u001b[0m\u001b[0mread\u001b[0m\u001b[1;33m(\u001b[0m\u001b[1;36m1\u001b[0m\u001b[1;33m)\u001b[0m\u001b[1;33m\u001b[0m\u001b[1;33m\u001b[0m\u001b[0m\n\u001b[0;32m      4\u001b[0m \u001b[0muserinput\u001b[0m \u001b[1;33m=\u001b[0m \u001b[0mstdin\u001b[0m\u001b[1;33m.\u001b[0m\u001b[0mreadline\u001b[0m\u001b[1;33m(\u001b[0m\u001b[1;33m)\u001b[0m\u001b[1;33m\u001b[0m\u001b[1;33m\u001b[0m\u001b[0m\n\u001b[1;32m----> 5\u001b[1;33m \u001b[0mbetAmount\u001b[0m \u001b[1;33m=\u001b[0m \u001b[0mint\u001b[0m\u001b[1;33m(\u001b[0m\u001b[0muserinput\u001b[0m\u001b[1;33m)\u001b[0m\u001b[1;33m\u001b[0m\u001b[1;33m\u001b[0m\u001b[0m\n\u001b[0m\u001b[0;32m      6\u001b[0m \u001b[0mprint\u001b[0m \u001b[1;33m(\u001b[0m\u001b[1;34m\"x=\"\u001b[0m\u001b[1;33m,\u001b[0m\u001b[0mx\u001b[0m\u001b[1;33m)\u001b[0m\u001b[1;33m\u001b[0m\u001b[1;33m\u001b[0m\u001b[0m\n\u001b[0;32m      7\u001b[0m \u001b[0mprint\u001b[0m \u001b[1;33m(\u001b[0m\u001b[1;34m\"userinput=\"\u001b[0m\u001b[1;33m,\u001b[0m\u001b[0muserinput\u001b[0m\u001b[1;33m)\u001b[0m\u001b[1;33m\u001b[0m\u001b[1;33m\u001b[0m\u001b[0m\n",
      "\u001b[1;31mValueError\u001b[0m: invalid literal for int() with base 10: ''"
     ]
    }
   ],
   "source": [
    "from sys import stdin\n",
    "# x=234\n",
    "x = stdin.read(1)\n",
    "userinput = stdin.readline()\n",
    "betAmount = int(userinput)\n",
    "print (\"x=\",x)\n",
    "print (\"userinput=\",userinput)\n",
    "print (\"betAmount=\",betAmount)"
   ]
  },
  {
   "cell_type": "code",
   "execution_count": null,
   "metadata": {},
   "outputs": [],
   "source": []
  }
 ],
 "metadata": {
  "kernelspec": {
   "display_name": "Python 3",
   "language": "python",
   "name": "python3"
  },
  "language_info": {
   "codemirror_mode": {
    "name": "ipython",
    "version": 3
   },
   "file_extension": ".py",
   "mimetype": "text/x-python",
   "name": "python",
   "nbconvert_exporter": "python",
   "pygments_lexer": "ipython3",
   "version": "3.7.3"
  }
 },
 "nbformat": 4,
 "nbformat_minor": 2
}
