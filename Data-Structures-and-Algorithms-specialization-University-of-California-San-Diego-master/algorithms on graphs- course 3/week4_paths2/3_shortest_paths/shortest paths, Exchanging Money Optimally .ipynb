{
 "cells": [
  {
   "cell_type": "markdown",
   "metadata": {},
   "source": [
    "Now, you would like to compute an optimal way of exchanging the given currency ci into all other currencies. For this, you find shortest paths from the vertex ci to all the other vertices.\n"
   ]
  },
  {
   "cell_type": "markdown",
   "metadata": {},
   "source": [
    "**Task.** Given an directed graph with possibly negative edge weights and with n vertices and m edges as well as its vertex s, compute the length of shortest paths from s to all other vertices of the graph. "
   ]
  },
  {
   "cell_type": "markdown",
   "metadata": {},
   "source": [
    "**Output Format.** For all vertices i from 1 to n output the following on a separate line:  \n",
    "*  “*”, if there is no path from s to u;   \n",
    "* “-”, if there is a path from s to u, but there is no shortest path from s to u (that is, the distance from s to u is −∞);   \n",
    "* the length of a shortest path otherwise. "
   ]
  },
  {
   "cell_type": "code",
   "execution_count": null,
   "metadata": {},
   "outputs": [],
   "source": [
    "test cases:\n",
    "    6 7 1 2 10 2 3 5 1 3 100 3 5 7 5 4 10 4 3 -18 6 1 -1 1 Output: 0 10 - - *\n",
    "        \n",
    "    5 4 1 2 1 4 1 2 2 3 2 3 1 -5 4 Output: - - - 0 *\n"
   ]
  },
  {
   "cell_type": "markdown",
   "metadata": {},
   "source": [
    "following solution is taken from [this github link](https://github.com/akueisara/algograph/blob/master/week%204/shortest_paths/shortest_paths.py)"
   ]
  },
  {
   "cell_type": "code",
   "execution_count": 4,
   "metadata": {},
   "outputs": [
    {
     "name": "stdout",
     "output_type": "stream",
     "text": [
      "6 7 1 2 10 2 3 5 1 3 100 3 5 7 5 4 10 4 3 -18 6 1 -1 1 \n",
      "0\n",
      "10\n",
      "-\n",
      "-\n",
      "-\n",
      "*\n",
      "          5 4 1 2 1 4 1 2 2 3 2 3 1 -5 4 \n",
      "-\n",
      "-\n",
      "-\n",
      "0\n",
      "*\n"
     ]
    }
   ],
   "source": [
    "#Uses python3\n",
    "\n",
    "import sys\n",
    "import queue\n",
    "\n",
    "\n",
    "def shortet_paths(adj, cost, s, distance, reachable, shortest):\n",
    "    #write your code here\n",
    "    distance[s] = 0\n",
    "    reachable[s] = 1\n",
    "    q = queue.Queue()\n",
    "    for i in range(len(adj)):\n",
    "        for u in range(len(adj)):\n",
    "            for v in adj[u]:\n",
    "                v_index = adj[u].index(v)\n",
    "                if distance[u] != 10**19 and distance[v] > distance[u] + cost[u][v_index]:\n",
    "                    distance[v] = distance[u] + cost[u][v_index]\n",
    "                    reachable[v] = 1\n",
    "                    if i == len(adj) - 1:\n",
    "                        q.put(v)\n",
    "\n",
    "    visited = [0] * len(adj)\n",
    "    while not q.empty():\n",
    "        u = q.get()\n",
    "        visited[u] = 1\n",
    "        if u != s:\n",
    "            shortest[u] = 0\n",
    "        for v in adj[u]:\n",
    "            if visited[v] == 0:\n",
    "                q.put(v)\n",
    "                visited[v] = 1\n",
    "                shortest[v] = 0\n",
    "    distance[s] = 0\n",
    "\n",
    "\n",
    "if __name__ == '__main__':\n",
    "#     input = sys.stdin.read()\n",
    "    for i in range(2):\n",
    "        data = list(map(int, input().split()))\n",
    "        n, m = data[0:2]\n",
    "        data = data[2:]\n",
    "        edges = list(zip(zip(data[0:(3 * m):3], data[1:(3 * m):3]), data[2:(3 * m):3]))\n",
    "        data = data[3 * m:]\n",
    "        adj = [[] for _ in range(n)]\n",
    "        cost = [[] for _ in range(n)]\n",
    "        for ((a, b), w) in edges:\n",
    "            adj[a - 1].append(b - 1)\n",
    "            cost[a - 1].append(w)\n",
    "        s = data[0]\n",
    "        s -= 1\n",
    "        distance = [10**19] * n\n",
    "        reachable = [0] * n\n",
    "        shortest = [1] * n\n",
    "        shortet_paths(adj, cost, s, distance, reachable, shortest)\n",
    "        for x in range(n):\n",
    "            if reachable[x] == 0:\n",
    "                print('*')\n",
    "            elif shortest[x] == 0:\n",
    "                print('-')\n",
    "            else:\n",
    "                print(distance[x])\n",
    "\n"
   ]
  },
  {
   "cell_type": "code",
   "execution_count": 6,
   "metadata": {},
   "outputs": [
    {
     "name": "stdout",
     "output_type": "stream",
     "text": [
      " 6 7 1 2 10 2 3 5 1 3 100 3 5 7 5 4 10 4 3 -18 6 1 -1 1\n",
      "0\n",
      "10\n",
      "-\n",
      "-\n",
      "-\n",
      "10000000000000000000\n",
      "7 8\n"
     ]
    },
    {
     "ename": "IndexError",
     "evalue": "list index out of range",
     "output_type": "error",
     "traceback": [
      "\u001b[1;31m---------------------------------------------------------------------------\u001b[0m",
      "\u001b[1;31mIndexError\u001b[0m                                Traceback (most recent call last)",
      "\u001b[1;32m<ipython-input-6-9bd7b513b12c>\u001b[0m in \u001b[0;36m<module>\u001b[1;34m()\u001b[0m\n\u001b[0;32m     69\u001b[0m             \u001b[0madj\u001b[0m\u001b[1;33m[\u001b[0m\u001b[0ma\u001b[0m \u001b[1;33m-\u001b[0m \u001b[1;36m1\u001b[0m\u001b[1;33m]\u001b[0m\u001b[1;33m.\u001b[0m\u001b[0mappend\u001b[0m\u001b[1;33m(\u001b[0m\u001b[0mb\u001b[0m \u001b[1;33m-\u001b[0m \u001b[1;36m1\u001b[0m\u001b[1;33m)\u001b[0m\u001b[1;33m\u001b[0m\u001b[0m\n\u001b[0;32m     70\u001b[0m             \u001b[0mcost\u001b[0m\u001b[1;33m[\u001b[0m\u001b[0ma\u001b[0m \u001b[1;33m-\u001b[0m \u001b[1;36m1\u001b[0m\u001b[1;33m]\u001b[0m\u001b[1;33m.\u001b[0m\u001b[0mappend\u001b[0m\u001b[1;33m(\u001b[0m\u001b[0mw\u001b[0m\u001b[1;33m)\u001b[0m\u001b[1;33m\u001b[0m\u001b[0m\n\u001b[1;32m---> 71\u001b[1;33m         \u001b[0ms\u001b[0m \u001b[1;33m=\u001b[0m \u001b[0mdata\u001b[0m\u001b[1;33m[\u001b[0m\u001b[1;36m0\u001b[0m\u001b[1;33m]\u001b[0m\u001b[1;33m\u001b[0m\u001b[0m\n\u001b[0m\u001b[0;32m     72\u001b[0m         \u001b[0ms\u001b[0m \u001b[1;33m-=\u001b[0m \u001b[1;36m1\u001b[0m\u001b[1;33m\u001b[0m\u001b[0m\n\u001b[0;32m     73\u001b[0m         \u001b[0mdistance\u001b[0m \u001b[1;33m=\u001b[0m \u001b[1;33m[\u001b[0m\u001b[1;36m10\u001b[0m\u001b[1;33m**\u001b[0m\u001b[1;36m19\u001b[0m\u001b[1;33m]\u001b[0m \u001b[1;33m*\u001b[0m \u001b[0mn\u001b[0m\u001b[1;33m\u001b[0m\u001b[0m\n",
      "\u001b[1;31mIndexError\u001b[0m: list index out of range"
     ]
    }
   ],
   "source": [
    "def explore(adj,x,visited,shortest):\n",
    "    for i in adj[x]:\n",
    "        if not visited[i]:\n",
    "            visited[i] = True\n",
    "            shortest[i] = 0\n",
    "            explore(adj,i,visited,shortest)\n",
    "    return\n",
    "\n",
    "\n",
    "def innerLoop(s,adj,dist,prev):\n",
    "    \n",
    "    for j in range(len(adj)):\n",
    "        for ind,k in enumerate(adj[j]):\n",
    "            jkCost = cost[j][ind]\n",
    "            if dist[k] > dist[j] + jkCost:\n",
    "                dist[k] = dist[j] + jkCost\n",
    "                prev[k] = j    \n",
    "\n",
    "def shortet_paths(adj, cost, s, dist, reachable, shortest, prev):\n",
    "    #write your code here\n",
    "    \n",
    "    #run\n",
    "    dist[s] = 0  #set origin distance to zero\n",
    "    \n",
    "    for i in range(len(adj)-1):   #do this V times total\n",
    "        innerLoop(s,adj,dist,prev)\n",
    "    dist_Vminus1 = list(dist)\n",
    "    #run twice more\n",
    "    innerLoop(s,adj,dist,prev)     \n",
    "\n",
    "    dist_V = list(dist)\n",
    "             \n",
    "    #find end nodes on negative cycle by finding which ones changes on the last iteration\n",
    "    changed = [i for i,val in enumerate(dist_Vminus1) if val != dist_V[i]]   \n",
    "    #find some vertexes on the cycle by following it back in 'prev' V times    \n",
    "    for i in changed:\n",
    "        nextV = i\n",
    "        # Changed vertices are on negative cycles and so have -infinity short path (no shortest path)\n",
    "        shortest[nextV] = 0\n",
    "        #follow node back V times.   all along the way will be on shortest path\n",
    "        for j in range(len(adj)):\n",
    "            nextV = prev[nextV]\n",
    "        shortest[nextV] = 0\n",
    "        \n",
    "        #now explore all nodes from here since they will all be down path from a negative cycle\n",
    "        visited = [False] * len(adj)        \n",
    "        explore(adj,nextV,visited,shortest)\n",
    "        \n",
    "        \n",
    "                    \n",
    "    for ind,i in enumerate(dist):\n",
    "        if i == float('inf'):\n",
    "            reachable[ind] = 0\n",
    "        else:\n",
    "            reachable[ind] = 1\n",
    "    pass\n",
    "\n",
    "if __name__ == '__main__':\n",
    "#     input = sys.stdin.read()\n",
    "    for i in range(2):\n",
    "        data = list(map(int, input().split()))\n",
    "        n, m = data[0:2]\n",
    "        data = data[2:]\n",
    "        edges = list(zip(zip(data[0:(3 * m):3], data[1:(3 * m):3]), data[2:(3 * m):3]))\n",
    "        data = data[3 * m:]\n",
    "        adj = [[] for _ in range(n)]\n",
    "        cost = [[] for _ in range(n)]\n",
    "        for ((a, b), w) in edges:\n",
    "            adj[a - 1].append(b - 1)\n",
    "            cost[a - 1].append(w)\n",
    "        s = data[0]\n",
    "        s -= 1\n",
    "        distance = [10**19] * n\n",
    "        reachable = [0] * n\n",
    "        shortest = [1] * n\n",
    "        prev      = [-1] * n\n",
    "        shortet_paths(adj, cost, s, distance, reachable, shortest,prev)\n",
    "        for x in range(n):\n",
    "            if reachable[x] == 0:\n",
    "                print('*')\n",
    "            elif shortest[x] == 0:\n",
    "                print('-')\n",
    "            else:\n",
    "                print(distance[x])"
   ]
  },
  {
   "cell_type": "code",
   "execution_count": 7,
   "metadata": {},
   "outputs": [
    {
     "data": {
      "text/plain": [
       "True"
      ]
     },
     "execution_count": 7,
     "metadata": {},
     "output_type": "execute_result"
    }
   ],
   "source": [
    "float('inf')==float('inf')"
   ]
  },
  {
   "cell_type": "code",
   "execution_count": 9,
   "metadata": {},
   "outputs": [
    {
     "name": "stdout",
     "output_type": "stream",
     "text": [
      " 6 7 1 2 10 2 3 5 1 3 100 3 5 7 5 4 10 4 3 -18 6 1 -1 1 \n",
      "0\n",
      "10\n",
      "-\n",
      "-\n",
      "-\n",
      "*\n",
      "5 4 1 2 1 4 1 2 2 3 2 3 1 -5 4\n",
      "-\n",
      "-\n",
      "-\n",
      "0\n",
      "*\n"
     ]
    }
   ],
   "source": [
    "def shortet_paths(adj, cost, s, distance, reachable, shortest):\n",
    "    #write your code here\n",
    "    prev = [None]*len(adj)\n",
    "    negative_cycle = queue.Queue()\n",
    "\n",
    "    reachable[s] = 1\n",
    "    distance[s] = 0\n",
    "    for ind in range(len(adj)):\n",
    "        nothingChanged = True\n",
    "        for u in range(len(adj)):\n",
    "            for v in adj[u]:\n",
    "                v_index = adj[u].index(v)\n",
    "                if distance[u]!= 10**19 and distance[v] > distance[u] + cost[u][v_index]:\n",
    "                    nothingChanged = False\n",
    "                    distance[v] = distance[u] + cost[u][v_index]\n",
    "                    prev[v] = u\n",
    "                    reachable[v]=1\n",
    "                    if ind == len(adj) - 1:\n",
    "                        negative_cycle.put(v)\n",
    "                        shortest[v]=0\n",
    "        if nothingChanged:\n",
    "            break\n",
    "\n",
    "    #mark reachable\n",
    "    for ind in range(len(adj)):\n",
    "        if distance[ind] < 10**19:\n",
    "            reachable[ind] = 1\n",
    "\n",
    "    visited = [False] * len(adj)\n",
    "    while not negative_cycle.empty():\n",
    "        u=negative_cycle.get()\n",
    "        visited[u]=True\n",
    "        shortest[u] = 0\n",
    "        for v in adj[u]:\n",
    "            if visited[v] == False:\n",
    "                negative_cycle.put(v)\n",
    "                visited[v]=True\n",
    "                shortest[v]=0\n",
    "\n",
    "    distance[s] = 0\n",
    "\n",
    "if __name__ == '__main__':\n",
    "#     input = sys.stdin.read()\n",
    "    for i in range(2):\n",
    "        data = list(map(int, input().split()))\n",
    "        n, m = data[0:2]\n",
    "        data = data[2:]\n",
    "        edges = list(zip(zip(data[0:(3 * m):3], data[1:(3 * m):3]), data[2:(3 * m):3]))\n",
    "        data = data[3 * m:]\n",
    "        adj = [[] for _ in range(n)]\n",
    "        cost = [[] for _ in range(n)]\n",
    "        for ((a, b), w) in edges:\n",
    "            adj[a - 1].append(b - 1)\n",
    "            cost[a - 1].append(w)\n",
    "        s = data[0]\n",
    "        s -= 1\n",
    "        distance = [10**19] * n\n",
    "        reachable = [0] * n\n",
    "        shortest = [1] * n\n",
    "        prev      = [-1] * n\n",
    "        shortet_paths(adj, cost, s, distance, reachable, shortest)\n",
    "        for x in range(n):\n",
    "            if reachable[x] == 0:\n",
    "                print('*')\n",
    "            elif shortest[x] == 0:\n",
    "                print('-')\n",
    "            else:\n",
    "                print(distance[x])"
   ]
  },
  {
   "cell_type": "code",
   "execution_count": null,
   "metadata": {},
   "outputs": [],
   "source": []
  }
 ],
 "metadata": {
  "kernelspec": {
   "display_name": "Python 3",
   "language": "python",
   "name": "python3"
  },
  "language_info": {
   "codemirror_mode": {
    "name": "ipython",
    "version": 3
   },
   "file_extension": ".py",
   "mimetype": "text/x-python",
   "name": "python",
   "nbconvert_exporter": "python",
   "pygments_lexer": "ipython3",
   "version": "3.6.5"
  }
 },
 "nbformat": 4,
 "nbformat_minor": 2
}
