{
 "cells": [
  {
   "cell_type": "markdown",
   "metadata": {},
   "source": [
    " Rope — data structure that can store a string and efficiently cut a part (a substring) of this string and insert it in a different position. This data structure can be enhanced to become persistent — that is, to allow access to the previous versions of the string. These properties make it a suitable choice for storing the text in text editors."
   ]
  },
  {
   "cell_type": "markdown",
   "metadata": {},
   "source": [
    "You are given a string S and you have to process n queries. Each query is described by three integers i,j,k and means to cut substring S[i..j] (i and j are 0-based) from the string and then insert it after the k-th symbol of the remaining string (if the symbols are numbered from 1). If k = 0, S[i..j] is inserted in the beginning. See the examples for further clarification. "
   ]
  },
  {
   "cell_type": "markdown",
   "metadata": {},
   "source": [
    " The first line contains the initial string S.  \n",
    " The second line contains the number of queries q.   \n",
    " Next q lines contain triples of integers i,j,k. "
   ]
  },
  {
   "cell_type": "code",
   "execution_count": null,
   "metadata": {},
   "outputs": [],
   "source": [
    "test cases: \n",
    "    hlelowrold \n",
    "    2\n",
    "    1 1 2 \n",
    "    6 6 7 \n",
    "    Output: helloworld\n",
    "        \n",
    "    abcdef \n",
    "    2 \n",
    "    0 1 1 \n",
    "    4 5 0 \n",
    "    Output: efcabd \n"
   ]
  },
  {
   "cell_type": "code",
   "execution_count": 3,
   "metadata": {},
   "outputs": [
    {
     "name": "stdout",
     "output_type": "stream",
     "text": [
      "hlelowrold\n",
      "2\n",
      "1 1 2\n",
      "6 6 7\n",
      "helloworld\n"
     ]
    }
   ],
   "source": [
    "# http://ideone.com/flSA8K\n",
    "import sys, random\n",
    " \n",
    "class Node:\n",
    "    def __init__(v, x, y, l, r):\n",
    "        v.size, v.x, v.y, v.l, v.r = 1, x, y, l, r\n",
    "    def calc(v):\n",
    "        v.size = v.l.size + v.r.size + 1\n",
    "    @staticmethod\n",
    "    def init():\n",
    "        p = Node(0, 0, None, None)\n",
    "        p.size = 0\n",
    "        Node.nul = p.l = p.r = p\n",
    "        Node.cnt = 0\n",
    "Node.init()\n",
    " \n",
    "class Rope:\n",
    "    @staticmethod\n",
    "    def split(t, k):\n",
    "        if t == Node.nul:\n",
    "            return (Node.nul, Node.nul)\n",
    "        if t.l.size < k:\n",
    "            (l, r) = Rope.split(t.r, k - t.l.size - 1)\n",
    "            t.r = l\n",
    "            t.calc()\n",
    "            return (t, r)\n",
    "        else:\n",
    "            (l, r) = Rope.split(t.l, k)\n",
    "            t.l = r\n",
    "            t.calc()\n",
    "            return (l, t)\n",
    " \n",
    "    @staticmethod\n",
    "    def merge(l, r):\n",
    "        if l == Node.nul:\n",
    "            return r\n",
    "        if r == Node.nul:\n",
    "            return l\n",
    "        if l.y < r.y:\n",
    "            l.r = Rope.merge(l.r, r)\n",
    "            l.calc()\n",
    "            return l\n",
    "        else:\n",
    "            r.l = Rope.merge(l, r.l)\n",
    "            r.calc()\n",
    "            return r\n",
    " \n",
    "    @staticmethod\n",
    "    def out(t, buf):\n",
    "        if t == Node.nul:\n",
    "            return\n",
    "        Rope.out(t.l, buf)\n",
    "        buf.append(t.x)\n",
    "        Rope.out(t.r, buf)\n",
    " \n",
    "    def result(self):\n",
    "        buf = []\n",
    "        Rope.out(self.root, buf)\n",
    "        return \"\".join(buf)\n",
    " \n",
    "    def __init__(self, s):\n",
    "        self.root = Node.nul\n",
    "        for c in s:\n",
    "            self.root = Rope.merge(self.root, Node(c, random.randint(0, 1 << 30), Node.nul, Node.nul))\n",
    " \n",
    "    def process(self, i, j, k):\n",
    "        j += 1\n",
    "        (l, r) = Rope.split(self.root, i)\n",
    "        (m, r) = Rope.split(r, j - i)\n",
    "        (l, r) = Rope.split(Rope.merge(l, r), k)\n",
    "        self.root = Rope.merge(Rope.merge(l, m), r)\n",
    " \n",
    "# s = sys.stdin.readline().strip()\n",
    "s = input().strip()\n",
    "rope = Rope(s)\n",
    "# q = int(sys.stdin.readline())\n",
    "q = int(input())\n",
    "for _ in range(q):\n",
    "#     i, j, k = map(int, sys.stdin.readline().strip().split())\n",
    "    i,j,k = map(int,input().strip().split())\n",
    "    rope.process(i, j, k)\n",
    "print(rope.result())"
   ]
  },
  {
   "cell_type": "code",
   "execution_count": null,
   "metadata": {},
   "outputs": [],
   "source": []
  }
 ],
 "metadata": {
  "kernelspec": {
   "display_name": "Python 3",
   "language": "python",
   "name": "python3"
  },
  "language_info": {
   "codemirror_mode": {
    "name": "ipython",
    "version": 3
   },
   "file_extension": ".py",
   "mimetype": "text/x-python",
   "name": "python",
   "nbconvert_exporter": "python",
   "pygments_lexer": "ipython3",
   "version": "3.6.5"
  }
 },
 "nbformat": 4,
 "nbformat_minor": 2
}
