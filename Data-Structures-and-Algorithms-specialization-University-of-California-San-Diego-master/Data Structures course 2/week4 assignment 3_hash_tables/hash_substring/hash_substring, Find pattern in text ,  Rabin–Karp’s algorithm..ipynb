{
 "cells": [
  {
   "cell_type": "markdown",
   "metadata": {},
   "source": [
    "# naive starter solution"
   ]
  },
  {
   "cell_type": "code",
   "execution_count": 2,
   "metadata": {},
   "outputs": [
    {
     "name": "stdout",
     "output_type": "stream",
     "text": [
      "aba\n",
      "abalaba\n",
      "0 4\n"
     ]
    }
   ],
   "source": [
    "# python3\n",
    "\n",
    "def read_input():\n",
    "    return (input().rstrip(), input().rstrip())\n",
    "\n",
    "def print_occurrences(output):\n",
    "    print(' '.join(map(str, output)))\n",
    "\n",
    "def get_occurrences(pattern, text):\n",
    "    return [\n",
    "        i \n",
    "        for i in range(len(text) - len(pattern) + 1) \n",
    "        if text[i:i + len(pattern)] == pattern\n",
    "    ]\n",
    "\n",
    "if __name__ == '__main__':\n",
    "    print_occurrences(get_occurrences(*read_input()))\n"
   ]
  },
  {
   "cell_type": "code",
   "execution_count": 5,
   "metadata": {},
   "outputs": [
    {
     "name": "stdout",
     "output_type": "stream",
     "text": [
      "aba\n",
      "abababa\n",
      "0 2 4\n"
     ]
    }
   ],
   "source": [
    "import random\n",
    "\n",
    "def read_input():\n",
    "    return (input().rstrip(), input().rstrip())\n",
    "\n",
    "def print_occurrences(output):\n",
    "    print(' '.join(map(str, output)))\n",
    "\n",
    "def poly_hash(s, prime, x):\n",
    "    ans = 0\n",
    "    for c in reversed(s):\n",
    "        ans = (ans * x + ord(c)) % prime\n",
    "    return ans\n",
    "\n",
    "def precompute_hashes(text, pattern_len, p, x):\n",
    "    H = [0] * (len(text) - pattern_len + 1)\n",
    "    s = text[-pattern_len:]\n",
    "    H[len(text)-pattern_len] = poly_hash(s, p, x)\n",
    "    y = 1\n",
    "    for i in range(1, pattern_len+1):\n",
    "        y = (y * x) % p\n",
    "    for i in reversed(range(len(text) - pattern_len)):\n",
    "        pre_hash = x * H[i + 1] + ord(text[i]) - y * ord(text[i + pattern_len])\n",
    "        while(pre_hash < 0):\n",
    "            pre_hash += p\n",
    "        H[i] = pre_hash % p\n",
    "    return H\n",
    "\n",
    "def get_occurrences(pattern, text):\n",
    "    p = 1000000007\n",
    "    x = random.randint(1, p)\n",
    "    text_len = len(text)\n",
    "    pattern_len = len(pattern)\n",
    "    phash = poly_hash(pattern, p, x)\n",
    "    H = precompute_hashes(text, pattern_len, p, x)\n",
    "    return [\n",
    "        i \n",
    "        for i in range(len(text) - len(pattern) + 1) \n",
    "        if phash == H[i] and text[i:i + len(pattern)] == pattern\n",
    "    ]\n",
    "\n",
    "if __name__ == '__main__':\n",
    "    print_occurrences(get_occurrences(*read_input()))"
   ]
  },
  {
   "cell_type": "code",
   "execution_count": null,
   "metadata": {},
   "outputs": [],
   "source": []
  }
 ],
 "metadata": {
  "kernelspec": {
   "display_name": "Python 3",
   "language": "python",
   "name": "python3"
  },
  "language_info": {
   "codemirror_mode": {
    "name": "ipython",
    "version": 3
   },
   "file_extension": ".py",
   "mimetype": "text/x-python",
   "name": "python",
   "nbconvert_exporter": "python",
   "pygments_lexer": "ipython3",
   "version": "3.7.3"
  }
 },
 "nbformat": 4,
 "nbformat_minor": 2
}
