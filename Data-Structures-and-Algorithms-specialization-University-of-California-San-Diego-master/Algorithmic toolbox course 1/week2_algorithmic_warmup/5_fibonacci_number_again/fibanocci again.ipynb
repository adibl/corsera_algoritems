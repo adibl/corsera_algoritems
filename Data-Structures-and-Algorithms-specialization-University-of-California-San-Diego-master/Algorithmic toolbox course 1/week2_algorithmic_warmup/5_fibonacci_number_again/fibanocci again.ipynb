{
 "cells": [
  {
   "cell_type": "code",
   "execution_count": 11,
   "metadata": {},
   "outputs": [],
   "source": [
    "a = pow(pow(10,10),5)"
   ]
  },
  {
   "cell_type": "code",
   "execution_count": 12,
   "metadata": {},
   "outputs": [
    {
     "data": {
      "text/plain": [
       "100000000000000000000000000000000000000000000000000"
      ]
     },
     "execution_count": 12,
     "metadata": {},
     "output_type": "execute_result"
    }
   ],
   "source": [
    "a"
   ]
  },
  {
   "cell_type": "code",
   "execution_count": 1,
   "metadata": {},
   "outputs": [],
   "source": [
    "import numpy as np\n",
    "import math\n",
    "import random"
   ]
  },
  {
   "cell_type": "code",
   "execution_count": 19,
   "metadata": {},
   "outputs": [
    {
     "name": "stdout",
     "output_type": "stream",
     "text": [
      "9999999999 5\n",
      "1\n"
     ]
    }
   ],
   "source": [
    "#  Uses python3\n",
    "import sys\n",
    "\n",
    "def get_fibonacci_huge_naive(n, m):\n",
    "\n",
    "    if n <= 1:\n",
    "        return n\n",
    "\n",
    "    previous = 0\n",
    "    current  = 1\n",
    "\n",
    "    for _ in range(n - 1):\n",
    "        previous, current = current, previous + current\n",
    "\n",
    "    return current % m\n",
    "\n",
    "def get_fibonacci(n,m):\n",
    "#     time_period = m*m -1\n",
    "    curr, prev = 1,0\n",
    "    for i in range(m*m+1):\n",
    "#         print(i)\n",
    "        prev,curr =  curr, (curr+prev)%m\n",
    "        if (prev, curr) == (0,1):\n",
    "            time_period = i+1\n",
    "#             print('here',time_period)\n",
    "            break\n",
    "        \n",
    "    index = n%time_period\n",
    "#     print(index)\n",
    "    if index<1:\n",
    "        return index\n",
    "    prev,curr = 0,1\n",
    "    for i in range(2, index+1):\n",
    "        prev,curr = curr, (curr+prev)%m\n",
    "    return curr\n",
    "\n",
    "if __name__ == '__main__':\n",
    "#     input = sys.stdin.read();\n",
    "    n, m = map(int, input().split())\n",
    "    print(get_fibonacci(n, m))\n"
   ]
  },
  {
   "cell_type": "code",
   "execution_count": null,
   "metadata": {},
   "outputs": [],
   "source": [
    "class MyTest(unittest.TestCase):\n",
    "    def test_naive(self):\n",
    "        self.assertEqual(get_fibonacci_huge_naive(1, 239), 1)\n",
    "        self.assertEqual(get_fibonacci_huge_naive(239, 1000), 161)\n",
    "\n",
    "    def test_fast(self):\n",
    "        self.assertEqual(get_fibonacci(1, 239), 1)\n",
    "        self.assertEqual(get_fibonacci(239, 1000), 161)\n",
    "        self.assertEqual(get_fibonacci(2816213588, 30524), 10249)"
   ]
  },
  {
   "cell_type": "code",
   "execution_count": null,
   "metadata": {},
   "outputs": [],
   "source": [
    "if __name__ == '__main__':\n",
    "    unittest.main()\n",
    "\n",
    "    while(True):\n",
    "        a = random.randint(1, 1000)\n",
    "        b = random.randint(2, 100)\n",
    "\n",
    "        res1 = get_fibonacci_huge_naive(a, b)\n",
    "        res2 = get_fibonacci_huge_fast(a, b)\n",
    "        if (res1 != res2):\n",
    "            print('Wrond answer: {} {}'.format(res1, res2))\n",
    "            break\n",
    "        else:\n",
    "            print('OK: {} {}'.format(res1, res2))\n"
   ]
  },
  {
   "cell_type": "code",
   "execution_count": 2,
   "metadata": {
    "scrolled": true
   },
   "outputs": [
    {
     "data": {
      "text/plain": [
       "2816156467"
      ]
     },
     "execution_count": 2,
     "metadata": {},
     "output_type": "execute_result"
    }
   ],
   "source": [
    "2816213588 - 239*239 "
   ]
  },
  {
   "cell_type": "code",
   "execution_count": null,
   "metadata": {},
   "outputs": [],
   "source": []
  }
 ],
 "metadata": {
  "kernelspec": {
   "display_name": "Python 3",
   "language": "python",
   "name": "python3"
  },
  "language_info": {
   "codemirror_mode": {
    "name": "ipython",
    "version": 3
   },
   "file_extension": ".py",
   "mimetype": "text/x-python",
   "name": "python",
   "nbconvert_exporter": "python",
   "pygments_lexer": "ipython3",
   "version": "3.6.5"
  }
 },
 "nbformat": 4,
 "nbformat_minor": 2
}
