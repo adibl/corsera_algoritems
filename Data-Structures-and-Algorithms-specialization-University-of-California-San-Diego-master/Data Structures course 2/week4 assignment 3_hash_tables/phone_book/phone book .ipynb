{
 "cells": [
  {
   "cell_type": "code",
   "execution_count": 2,
   "metadata": {},
   "outputs": [
    {
     "data": {
      "text/plain": [
       "1000"
      ]
     },
     "execution_count": 2,
     "metadata": {},
     "output_type": "execute_result"
    }
   ],
   "source": [
    "pow(10,3)"
   ]
  },
  {
   "cell_type": "code",
   "execution_count": 4,
   "metadata": {},
   "outputs": [
    {
     "name": "stdout",
     "output_type": "stream",
     "text": [
      "12\n",
      "add 911 police \n",
      "add 76213 Mom\n",
      "add 17239 Bob\n",
      "find 76213 \n",
      "find 910\n",
      "find 911 \n",
      "del 910\n",
      "del 911 \n",
      "find 911 \n",
      "find 76213\n",
      "add 76213 daddy \n",
      "find 76213 \n",
      "Mom\n",
      "not found\n",
      "police\n",
      "not found\n",
      "Mom\n",
      "daddy\n"
     ]
    }
   ],
   "source": [
    "# python3\n",
    "\n",
    "class Query:\n",
    "    def __init__(self, query):\n",
    "        self.type = query[0]\n",
    "        self.number = int(query[1])\n",
    "        if self.type == 'add':\n",
    "            self.name = query[2]\n",
    "\n",
    "def read_queries():\n",
    "    n = int(input())\n",
    "    return [Query(input().split()) for i in range(n)]\n",
    "\n",
    "def write_responses(result):\n",
    "    print('\\n'.join(result))\n",
    "\n",
    "def process_queries(queries):\n",
    "    result = []\n",
    "    # Keep list of all existing (i.e. not deleted yet) contacts.\n",
    "    contacts = ['not found']*(pow(10,7))\n",
    "    for cur_query in queries:\n",
    "        if cur_query.type == 'add':\n",
    "            # if we already have contact with such number,\n",
    "            # we should rewrite contact's name\n",
    "            contacts[cur_query.number] = cur_query.name\n",
    "#             for contact in contacts:\n",
    "#                 if contact.number == cur_query.number:\n",
    "#                     contact.name = cur_query.name\n",
    "#                     break\n",
    "#             else: # otherwise, just add it\n",
    "#                 contacts.append(cur_query)\n",
    "        elif cur_query.type == 'del':\n",
    "            contacts[cur_query.number] = 'not found'\n",
    "#             for j in range(len(contacts)):\n",
    "#                 if contacts[j].number == cur_query.number:\n",
    "#                     contacts.pop(j)\n",
    "#                     break\n",
    "        else:\n",
    "            response = contacts[cur_query.number]\n",
    "#             response = 'not found'\n",
    "#             for contact in contacts:\n",
    "#                 if contact.number == cur_query.number:\n",
    "#                     response = contact.name\n",
    "#                     break\n",
    "            result.append(response)\n",
    "    return result\n",
    "\n",
    "if __name__ == '__main__':\n",
    "    write_responses(process_queries(read_queries()))\n",
    "\n"
   ]
  },
  {
   "cell_type": "code",
   "execution_count": 5,
   "metadata": {},
   "outputs": [
    {
     "name": "stdout",
     "output_type": "stream",
     "text": [
      "8\n",
      "find 3839442 \n",
      "add 123456 me\n",
      "add 0 granny\n",
      "find 0 \n",
      "find 123456 \n",
      "del 0\n",
      "del 0 \n",
      "find 0 \n",
      "not found\n",
      "granny\n",
      "me\n",
      "not found\n"
     ]
    }
   ],
   "source": [
    "# python3\n",
    "\n",
    "class Query:\n",
    "    def __init__(self, query):\n",
    "        self.type = query[0]\n",
    "        self.number = int(query[1])\n",
    "        if self.type == 'add':\n",
    "            self.name = query[2]\n",
    "\n",
    "def read_queries():\n",
    "    n = int(input())\n",
    "    return [Query(input().split()) for i in range(n)]\n",
    "\n",
    "def write_responses(result):\n",
    "    print('\\n'.join(result))\n",
    "\n",
    "def process_queries(queries):\n",
    "    result = []\n",
    "    # Keep list of all existing (i.e. not deleted yet) contacts.\n",
    "    contacts = ['not found']*(pow(10,7))\n",
    "    for cur_query in queries:\n",
    "        if cur_query.type == 'add':\n",
    "            # if we already have contact with such number,\n",
    "            # we should rewrite contact's name\n",
    "            contacts[cur_query.number] = cur_query.name\n",
    "#             for contact in contacts:\n",
    "#                 if contact.number == cur_query.number:\n",
    "#                     contact.name = cur_query.name\n",
    "#                     break\n",
    "#             else: # otherwise, just add it\n",
    "#                 contacts.append(cur_query)\n",
    "        elif cur_query.type == 'del':\n",
    "            contacts[cur_query.number] = 'not found'\n",
    "#             for j in range(len(contacts)):\n",
    "#                 if contacts[j].number == cur_query.number:\n",
    "#                     contacts.pop(j)\n",
    "#                     break\n",
    "        else:\n",
    "            response = contacts[cur_query.number]\n",
    "#             response = 'not found'\n",
    "#             for contact in contacts:\n",
    "#                 if contact.number == cur_query.number:\n",
    "#                     response = contact.name\n",
    "#                     break\n",
    "            result.append(response)\n",
    "    return result\n",
    "\n",
    "if __name__ == '__main__':\n",
    "    write_responses(process_queries(read_queries()))\n",
    "\n"
   ]
  },
  {
   "cell_type": "code",
   "execution_count": null,
   "metadata": {},
   "outputs": [],
   "source": []
  }
 ],
 "metadata": {
  "kernelspec": {
   "display_name": "Python 3",
   "language": "python",
   "name": "python3"
  },
  "language_info": {
   "codemirror_mode": {
    "name": "ipython",
    "version": 3
   },
   "file_extension": ".py",
   "mimetype": "text/x-python",
   "name": "python",
   "nbconvert_exporter": "python",
   "pygments_lexer": "ipython3",
   "version": "3.7.3"
  }
 },
 "nbformat": 4,
 "nbformat_minor": 2
}
