{
 "cells": [
  {
   "cell_type": "markdown",
   "metadata": {},
   "source": [
    "You are going to travel to another city that is located d miles away from your home city. Your can can travel at most m miles on a full tank and you start with a full tank. Along your way, there are gas stations at distances stop1,stop2,...,stopn from your home city. What is the minimum number of refills needed?\n"
   ]
  },
  {
   "cell_type": "code",
   "execution_count": 5,
   "metadata": {},
   "outputs": [
    {
     "name": "stdout",
     "output_type": "stream",
     "text": [
      "950 400 4 200 375 550 750 \n",
      "tank 400\n",
      "stops [0, 200, 375, 550, 750, 950]\n",
      "not adding and curr fuel is  200\n",
      "not adding and curr fuel is  25\n",
      "adding a stop\n",
      "not adding and curr fuel is  25\n",
      "adding a stop\n",
      "2\n"
     ]
    }
   ],
   "source": [
    "import sys\n",
    "\n",
    "\n",
    "def compute_min_refills(distance, tank, stops):\n",
    "    print('tank', tank)\n",
    "    if distance<tank:\n",
    "        return 0\n",
    "    curr_fuel = tank\n",
    "    cur_distance = 0\n",
    "    num_stops = 0\n",
    "    stops.append(distance)\n",
    "    stops.insert(0,0)\n",
    "    print('stops',stops)\n",
    "    for i in range(len(stops)-1):\n",
    "#         print('yay')\n",
    "        if (stops[i+1] - stops[i]) > tank:\n",
    "#             print('yee')\n",
    "            return -1\n",
    "        elif (stops[i+1] - stops[i]) > curr_fuel:\n",
    "            print('adding a stop')\n",
    "            num_stops+=1\n",
    "            curr_fuel = tank\n",
    "            curr_fuel-=(stops[i+1] - stops[i])\n",
    "        else:\n",
    "            \n",
    "            curr_fuel-=(stops[i+1] - stops[i])\n",
    "            print('not adding and curr fuel is ', curr_fuel)\n",
    "    return num_stops\n",
    "    \n",
    "#     return -1\n",
    "\n",
    "if __name__ == '__main__':\n",
    "    d, m, _, *stops = map(int,input().split())\n",
    "#     d, m, _, *stops = map(int, sys.stdin.read().split())\n",
    "    print(compute_min_refills(d, m, stops))\n"
   ]
  },
  {
   "cell_type": "code",
   "execution_count": 8,
   "metadata": {},
   "outputs": [
    {
     "name": "stdout",
     "output_type": "stream",
     "text": [
      "200 250 2 100 150\n",
      "0\n"
     ]
    }
   ],
   "source": [
    "import sys\n",
    "\n",
    "\n",
    "def compute_min_refills(distance, tank, stops):\n",
    "#     print('tank', tank)\n",
    "    if distance<tank:\n",
    "        return 0\n",
    "    curr_fuel = tank\n",
    "    cur_distance = 0\n",
    "    num_stops = 0\n",
    "    stops.append(distance)\n",
    "    stops.insert(0,0)\n",
    "#     print('stops',stops)\n",
    "    for i in range(len(stops)-1):\n",
    "#         print('yay')\n",
    "        if (stops[i+1] - stops[i]) > tank:\n",
    "#             print('yee')\n",
    "            return -1\n",
    "        elif (stops[i+1] - stops[i]) > curr_fuel:\n",
    "#             print('adding a stop')\n",
    "            num_stops+=1\n",
    "            curr_fuel = tank\n",
    "            curr_fuel-=(stops[i+1] - stops[i])\n",
    "        else:\n",
    "            \n",
    "            curr_fuel-=(stops[i+1] - stops[i])\n",
    "#             print('not adding and curr fuel is ', curr_fuel)\n",
    "    return num_stops\n",
    "    \n",
    "#     return -1\n",
    "\n",
    "if __name__ == '__main__':\n",
    "    d, m, _, *stops = map(int,input().split())\n",
    "#     d, m, _, *stops = map(int, sys.stdin.read().split())\n",
    "    print(compute_min_refills(d, m, stops))\n"
   ]
  },
  {
   "cell_type": "code",
   "execution_count": null,
   "metadata": {},
   "outputs": [],
   "source": []
  }
 ],
 "metadata": {
  "kernelspec": {
   "display_name": "Python 3",
   "language": "python",
   "name": "python3"
  },
  "language_info": {
   "codemirror_mode": {
    "name": "ipython",
    "version": 3
   },
   "file_extension": ".py",
   "mimetype": "text/x-python",
   "name": "python",
   "nbconvert_exporter": "python",
   "pygments_lexer": "ipython3",
   "version": "3.6.5"
  }
 },
 "nbformat": 4,
 "nbformat_minor": 2
}
